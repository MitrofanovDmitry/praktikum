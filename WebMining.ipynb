{
 "cells": [
  {
   "cell_type": "markdown",
   "metadata": {},
   "source": [
    "## Запросы"
   ]
  },
  {
   "cell_type": "code",
   "execution_count": null,
   "metadata": {},
   "outputs": [],
   "source": [
    "import requests"
   ]
  },
  {
   "cell_type": "code",
   "execution_count": null,
   "metadata": {},
   "outputs": [],
   "source": [
    "URL = 'https://code.s3.yandex.net/learning-materials/data-analyst/most_famous_shipwrecks.html'"
   ]
  },
  {
   "cell_type": "code",
   "execution_count": null,
   "metadata": {},
   "outputs": [],
   "source": [
    "req = requests.get(URL) # сохраняем объект Response в переменную req"
   ]
  },
  {
   "cell_type": "code",
   "execution_count": null,
   "metadata": {},
   "outputs": [],
   "source": [
    "print(req.text) # название атрибута пишут после объекта Response, разделяя точкой"
   ]
  },
  {
   "cell_type": "code",
   "execution_count": null,
   "metadata": {},
   "outputs": [],
   "source": [
    "print(req.status_code)"
   ]
  },
  {
   "cell_type": "markdown",
   "metadata": {},
   "source": [
    "## Регулярные выражения"
   ]
  },
  {
   "cell_type": "code",
   "execution_count": null,
   "metadata": {},
   "outputs": [],
   "source": [
    "import re"
   ]
  },
  {
   "cell_type": "code",
   "execution_count": null,
   "metadata": {},
   "outputs": [],
   "source": [
    "РЕГУЛЯРНОЕ ВЫРАЖЕНИЕ\tОПИСАНИЕ\t                                ПРИМЕР\t   ПОЯСНЕНИЕ\n",
    "[]                      Один из символов в скобках\t                [a-]\t   a или -\n",
    "[^…]                    Отрицание\t                                [^a]\t   любой символ кроме «a»\n",
    "-                       Интервал\t                                [0-9]\t   интервал: любая цифра от 0 до 9\n",
    ".                       Один любой символ, кроме перевода строки\ta.\t       as, a1, a_\n",
    "\\d                      (аналог [0-9])Любая цифра\t                a\\d ǀ a[0-9]\ta1, a2, a3\n",
    "\\w                      Любая буква, цифра или _\t                a\\w\ta_,    a1, ab\n",
    "[A-z]                   Любая латинская буква\t                    a[A-z]\t   ab\n",
    "[А-я]                   Любая буква кириллицы\t                    a[А-я]\t   aя\n",
    "?                       Ноль или одно вхождение\t                    a?\t       a или ничего\n",
    "+                       Одно и более вхождений\t                    a+\t       a или aa, или aaa\n",
    "*                       Ноль и более вхождений\t                    a*\t       ничего или a, или aa\n",
    "^                       Начало строки\t                            ^a\t       a1234, abcd\n",
    "$                       Конец строки\t                            a$\t       1a, ba"
   ]
  },
  {
   "cell_type": "markdown",
   "metadata": {},
   "source": [
    "### search(pattern, string) "
   ]
  },
  {
   "cell_type": "markdown",
   "metadata": {},
   "source": [
    "search(pattern, string) (англ. «поиск») ищет шаблон pattern в строке string. Хотя search() ищет шаблон во всей строке, возвращает он только первую найденную подстроку:"
   ]
  },
  {
   "cell_type": "code",
   "execution_count": null,
   "metadata": {},
   "outputs": [],
   "source": [
    "import re\n",
    "string = \"«Генерал Слокам» 15 июня 1904 года Ист-Ривер Человеческий фактор\"\n",
    "print(re.search('\\w+', string))\n",
    "\n",
    "<re.Match object; span=(1, 8), match='Генерал'>"
   ]
  },
  {
   "cell_type": "markdown",
   "metadata": {},
   "source": [
    "Метод search() возвращает объект типа match (англ. «соответствовать»). Параметр span (англ. «диапазон») указывает диапазон индексов, подходящих под шаблон. В нашем случае открывающая кавычка « не отвечает правилу, которое игнорирует знаки препинания. Вот потому индексы идут с 1 по 8: от буквы «Г» до буквы «л». В параметре match указано само значение подстроки."
   ]
  },
  {
   "cell_type": "markdown",
   "metadata": {},
   "source": [
    "Шаблону '\\w+' соответствует любая подстрока, содержащая одну и более букв, цифр или символ нижнего подчёркивания _ . Метод search() нашёл, что этому шаблону соответствует первое слово в строке. Так как под правило '\\w+' не подходит пробел, метод вернул всё, что идёт до первого пробела."
   ]
  },
  {
   "cell_type": "code",
   "execution_count": null,
   "metadata": {},
   "outputs": [],
   "source": [
    "#Если нам не нужны дополнительные сведения о диапазоне, выведем только найденную подстроку методом group():\n",
    "import re\n",
    "string = \"«Генерал Слокам» 15 июня 1904 года Ист-Ривер Человеческий фактор\"\n",
    "print(re.search('\\w+', string).group())\n",
    "\n",
    "'Генерал'"
   ]
  },
  {
   "cell_type": "markdown",
   "metadata": {},
   "source": [
    "Как добыть информацию между определенными словами? Достанем данные, содержащие русские буквы или пробел между символами \"«\" и \"»\""
   ]
  },
  {
   "cell_type": "code",
   "execution_count": null,
   "metadata": {},
   "outputs": [],
   "source": [
    "import re\n",
    "\n",
    "string = \"«Генерал Слокам» 15 июня 1904 года Ист-Ривер Человеческий фактор\"\n",
    "print(re.search('«[А-я ]+»', string).group())\n",
    "\n",
    "'«Генерал Слокам»'\n",
    "#Обратите внимание, что мы учли все символы, содержащиеся в нужной подстроке, в том числе — пробел."
   ]
  },
  {
   "cell_type": "markdown",
   "metadata": {},
   "source": [
    "### split(pattern, string)"
   ]
  },
  {
   "cell_type": "markdown",
   "metadata": {},
   "source": [
    "split(pattern, string) (англ. «расщеплять, разбивать») разделяет строку string по границе шаблона pattern."
   ]
  },
  {
   "cell_type": "code",
   "execution_count": null,
   "metadata": {},
   "outputs": [],
   "source": [
    "import re\n",
    "string = \"«Генерал Слокам» 15 июня 1904 года Ист-Ривер Человеческий фактор\"\n",
    "print(re.split('\\d+', string))\n",
    "\n",
    "['«Генерал Слокам» ', ' июня ', ' года Ист-Ривер Человеческий фактор']"
   ]
  },
  {
   "cell_type": "markdown",
   "metadata": {},
   "source": [
    "Строка разделена на три части. Границы деления строки проходят там, где метод встретил указанный в аргументе шаблон. В нашем случае шаблону регулярного выражения '\\d+' соответствует одна и более цифр. Поэтому строка поделилась натрое в тех местах, где split() обнаружил подстроки из цифр — 15 и 1904."
   ]
  },
  {
   "cell_type": "markdown",
   "metadata": {},
   "source": [
    "Количеством делений строки можно управлять. За это отвечает параметр <b>maxsplit</b> метода split() (по умолчанию равен 0)."
   ]
  },
  {
   "cell_type": "code",
   "execution_count": null,
   "metadata": {},
   "outputs": [],
   "source": [
    "import re\n",
    "string = \"«Генерал Слокам» 15 июня 1904 года Ист-Ривер Человеческий фактор\"\n",
    "print(re.split('\\d+', string, maxsplit = 1))\n",
    "\n",
    "['«Генерал Слокам» ', ' июня 1904 года Ист-Ривер Человеческий фактор']\n",
    "#Строка разделилась один раз по первому найденному шаблону."
   ]
  },
  {
   "cell_type": "markdown",
   "metadata": {},
   "source": [
    "### sub(pattern, repl, string)"
   ]
  },
  {
   "cell_type": "markdown",
   "metadata": {},
   "source": [
    "sub(pattern, repl, string) (от англ. substring, «подстрока») ищет подстроку pattern в строке string и заменяет его на подстроку repl (от англ. replace — «заменить»)."
   ]
  },
  {
   "cell_type": "code",
   "execution_count": null,
   "metadata": {},
   "outputs": [],
   "source": [
    "import re\n",
    "string = \"«Генерал Слокам» 15 июня 1904 года Ист-Ривер Человеческий фактор\"\n",
    "print(re.sub('\\d+', '', string)) #ищем числа\n",
    "# и заменяем на пустоту\n",
    "\n",
    "'«Генерал Слокам»  июня  года Ист-Ривер Человеческий фактор'\n",
    "#Все подстроки с числами заменены на пустоту."
   ]
  },
  {
   "cell_type": "markdown",
   "metadata": {},
   "source": [
    "### findall(pattern, string)"
   ]
  },
  {
   "cell_type": "markdown",
   "metadata": {},
   "source": [
    "Метод findall(pattern, string) возвращает список всех подстрок в string, удовлетворяющих шаблону pattern. А не только первую подходящую подстроку, как search(). Найдём все слова, заканчивающиеся на \"мя\":"
   ]
  },
  {
   "cell_type": "code",
   "execution_count": null,
   "metadata": {},
   "outputs": [],
   "source": [
    "import re\n",
    "mya = \"Вовремя подняли знамя и бросились в пламя\"\n",
    "print(re.findall('[А-я]+мя', mya))\n",
    "\n",
    "['Вовремя', 'знамя', 'пламя']"
   ]
  },
  {
   "cell_type": "markdown",
   "metadata": {},
   "source": [
    "... или слова с дефисом:\n"
   ]
  },
  {
   "cell_type": "code",
   "execution_count": null,
   "metadata": {},
   "outputs": [],
   "source": [
    "import re\n",
    "string = \"«Генерал Слокам» 15 июня 1904 года Ист-Ривер Человеческий фактор\"\n",
    "print(re.findall('\\w+-\\w+', string))\n",
    "\n",
    "['Ист-Ривер']"
   ]
  },
  {
   "cell_type": "markdown",
   "metadata": {},
   "source": [
    "Шаблон соответствует слову, содержащему «-», а такое в строке одно — это «Ист-Ривер». Метод findall() удобен тем, что можно сразу посчитать количество повторяющихся подстрок в строке функцией len():"
   ]
  },
  {
   "cell_type": "code",
   "execution_count": null,
   "metadata": {},
   "outputs": [],
   "source": [
    "import re\n",
    "string = \"«Генерал Слокам» 15 июня 1904 года Ист-Ривер Человеческий фактор\"\n",
    "print(len(re.findall('\\w+', string)))\n",
    "\n",
    "10\n",
    "#Функция len() вывела результат на единицу больше, чем мы ожидали. \n",
    "#Так произошло, потому что слово «Ист-Ривер» разбилось на два слова, ведь «-» не подходит под шаблон '\\w+'."
   ]
  },
  {
   "cell_type": "markdown",
   "metadata": {},
   "source": [
    "Добавим '-' в шаблон регулярного выражения и учтем Ист-Ривер как одно слово.\n"
   ]
  },
  {
   "cell_type": "code",
   "execution_count": null,
   "metadata": {},
   "outputs": [],
   "source": [
    "import re\n",
    "string = \"«Генерал Слокам» 15 июня 1904 года Ист-Ривер Человеческий фактор\"\n",
    "print(len(re.findall('[\\w-]+', string)))\n",
    "\n",
    "9"
   ]
  },
  {
   "cell_type": "code",
   "execution_count": null,
   "metadata": {},
   "outputs": [],
   "source": [
    "#Напишите get-запрос к странице https://store.data-analyst.praktikum-services.ru/. \n",
    "#Сохраните текстовое содержание запроса в переменной req_text. \n",
    "#Напишите регулярное выражение, которое получает информацию внутри тегов <title> </title>, \n",
    "#и выведите результат его применения.\n",
    "\n",
    "import requests\n",
    "import re\n",
    "URL = 'https://store.data-analyst.praktikum-services.ru/'\n",
    "req = requests.get(URL)\n",
    "req_text = req.text # получите текстовое содержание запроса\n",
    "print(re.search('<title>[A-zА-я ]+</title>', req_text).group())"
   ]
  },
  {
   "cell_type": "code",
   "execution_count": null,
   "metadata": {},
   "outputs": [],
   "source": [
    "#Напишите регулярное выражение, которое выводит все названия продуктов, начинающихся со слова Масло. \n",
    "#Не включайте в название жирность и массу продукта.\n",
    "\n",
    "import requests\n",
    "import re\n",
    "URL = 'https://store.data-analyst.praktikum-services.ru/'\n",
    "req_text = requests.get(URL).text\n",
    "print(re.findall('Масло[A-zА-я- ]+', req_text))"
   ]
  },
  {
   "cell_type": "code",
   "execution_count": null,
   "metadata": {},
   "outputs": [],
   "source": [
    "#Напишите регулярное выражение, которое найдет все названия, начинающиеся со слова Молоко. \n",
    "#Сохраните результат в переменной found_products.\n",
    "#Выведите сначала количество таких продуктов, а на следующей строке - сами продукты.\n",
    "\n",
    "import requests\n",
    "import re\n",
    "URL = 'https://store.data-analyst.praktikum-services.ru/'\n",
    "req_text = requests.get(URL).text\n",
    "found_products = re.findall('Молоко [A-zА-я- ]+', req_text)\n",
    "print(len(found_products))\n",
    "print(found_products)"
   ]
  },
  {
   "cell_type": "markdown",
   "metadata": {},
   "source": [
    "## Beautiful Soup"
   ]
  },
  {
   "cell_type": "code",
   "execution_count": null,
   "metadata": {},
   "outputs": [],
   "source": [
    "from bs4 import BeautifulSoup\n",
    "soup=BeautifulSoup(req.text, 'lxml')\n",
    "\n",
    "#Первый аргумент — это данные, из которых будет собираться древовидная структура. \n",
    "#Второй аргумент — синтаксический анализатор, или парсер. \n",
    "#Он отвечает за то, как именно из кода веб-страницы получается «дерево». \n",
    "#Парсеров много, они создают разные структуры из одного и того же HTML-документа. \n",
    "#За высокую скорость работы мы выбрали анализатор lxml. Есть и другие, например, html.parser, xml или html5lib."
   ]
  },
  {
   "cell_type": "markdown",
   "metadata": {},
   "source": [
    "### find()"
   ]
  },
  {
   "cell_type": "markdown",
   "metadata": {},
   "source": [
    "Первый метод поиска называется find() (англ. «найти»). В HTML-документе он находит первый элемент, имя которого ему передали в качестве аргумента, и возвращает его весь, с тегами и контентом. Найдём, к примеру, первый заголовок второго уровня:"
   ]
  },
  {
   "cell_type": "code",
   "execution_count": null,
   "metadata": {},
   "outputs": [],
   "source": [
    "heading_2=soup.find(\"h2\")\n",
    "print(heading_2)\n",
    "\n",
    "#Чтобы посмотреть контент без тега, вызывают метод text. Результат возвращается в виде строки:\n",
    "print(heading_2.text)"
   ]
  },
  {
   "cell_type": "markdown",
   "metadata": {},
   "source": [
    "### find_all()"
   ]
  },
  {
   "cell_type": "markdown",
   "metadata": {},
   "source": [
    "Существует и другой метод поиска — find_all (англ. «найти всё»). В отличие от предыдущего метода, find_all() находит все вхождения определённого элемента в HTML-документе и возвращает список:"
   ]
  },
  {
   "cell_type": "code",
   "execution_count": null,
   "metadata": {},
   "outputs": [],
   "source": [
    "paragraph=soup.find_all('p') # напомним, p - это параграф, текст между тегами <p> и </p>\n",
    "print(paragraph)\n",
    "\n",
    "#[<p>Благодаря массовой культуре морские катастрофы чаще всего ассоциируются с «Титаником». \n",
    "# Однако в начале XX века столкновение парохода «Титаник» с айсбергом было не единственным кораблекрушением.</p>, \n",
    "# <p>Теперь посмотрим на тех, кто был рядом с «Титаником»:</p>]"
   ]
  },
  {
   "cell_type": "markdown",
   "metadata": {},
   "source": [
    "### attrs"
   ]
  },
  {
   "cell_type": "markdown",
   "metadata": {},
   "source": [
    "У методов find() и find_all() есть дополнительный фильтр поиска элементов страницы — параметр attrs (от англ. attributes, **«атрибуты»).\n",
    "Это он охотится на идентификаторы и классы. Их имена уточняют в панели разработчика:"
   ]
  },
  {
   "cell_type": "code",
   "execution_count": null,
   "metadata": {},
   "outputs": [],
   "source": [
    "print(soup.find(\"table\",attrs={\"id\": \"ten_years_first\"}))"
   ]
  },
  {
   "cell_type": "markdown",
   "metadata": {},
   "source": [
    "Усложним задачу. Достанем таблицу с кораблекрушениями первого десятилетия XX века и превратим её в датафрейм:"
   ]
  },
  {
   "cell_type": "code",
   "execution_count": null,
   "metadata": {},
   "outputs": [],
   "source": [
    "table = soup.find('table',attrs={\"id\": \"ten_years_first\"})\n",
    "# применим метод find к тегу table\n",
    "# укажем атрибут первой таблицы: ten_years_first \n",
    "print(table)"
   ]
  },
  {
   "cell_type": "code",
   "execution_count": null,
   "metadata": {},
   "outputs": [],
   "source": [
    "<table border=\"1\" cellpadding=\"5\" id=\"ten_years_first\" width=\"100%\">\n",
    "<tr>\n",
    "<th>Название корабля</th>\n",
    "<th>Дата катастрофы</th>\n",
    "<th>Место катастрофы</th>\n",
    "<th>Причина катастрофы</th>\n",
    "</tr>\n",
    "<tr>\n",
    "<td>«Генерал Слокам»</td>\n",
    "<td>15 июня 1904 года</td>\n",
    "<td>Ист-Ривер</td>\n",
    "<td>Человеческий фактор</td>\n",
    "</tr>\n",
    "<tr>\n",
    "<td>«Каморта»</td>\n",
    "<td>6 мая 1902 года</td>\n",
    "<td>Бенгальский залив</td>\n",
    "<td>Природная стихия</td>\n",
    "</tr>\n",
    "<tr>\n",
    "<td>«Норье»</td>\n",
    "<td>28 июня 1904 года</td>\n",
    "<td>Атлантический океан</td>\n",
    "<td>Человеческий фактор</td>\n",
    "</tr>\n",
    "</table>"
   ]
  },
  {
   "cell_type": "markdown",
   "metadata": {},
   "source": [
    "Создадим пустой список heading_table, где сохраним названия столбцов. В цикле методом find_all() найдём все элементы th. Методом text добудем их контент и добавим его в список heading_table:"
   ]
  },
  {
   "cell_type": "code",
   "execution_count": null,
   "metadata": {},
   "outputs": [],
   "source": [
    "heading_table = [] # Список, в котором будут храниться названия столбцов\n",
    "for row in table.find_all('th'): # Названия столбцов прячутся в элементах th, \n",
    "# поэтому будем искать все элементы th внутри table и пробегать по ним в цикле\n",
    "        heading_table.append(row.text) # Добавляем контент из тега th в список heading_table методом append()\n",
    "print(heading_table)\n",
    "\n",
    "#['Название корабля', 'Дата катастрофы', 'Место катастрофы', 'Причина катастрофы']"
   ]
  },
  {
   "cell_type": "markdown",
   "metadata": {},
   "source": [
    "Создадим пустой список content, сохраним там данные таблицы. В цикле обратимся к каждой строке по имени элемента tr.\n",
    "Отдельно отметим, что самая первая строка таблицы с заголовками в тегах <th> </th>, нас не интересует.<br> \n",
    "<br>\n",
    "Потому перед тем, как в цикле добавлять значения в пустой список, укажем, что это не касается строки с заголовками: if not row.find_all('th').<br>\n",
    "<br>\n",
    "Применим метод find_all() к элементам td. <br>\n",
    "Методом text очистим полученные ячейки от тегов и сложим в список content.<br>"
   ]
  },
  {
   "cell_type": "code",
   "execution_count": null,
   "metadata": {},
   "outputs": [],
   "source": [
    "content=[] # Список, в котором будут храниться данные из таблицы\n",
    "for row in table.find_all('tr'): \n",
    "# Каждая строка обрамляется тегом tr, необходимо пробежаться в цикле по всем строкам\n",
    "    if not row.find_all('th'): \n",
    "# Эта проверка необходима, чтобы пропустить первую строку таблицы с заголовками\n",
    "            content.append([element.text for element in row.find_all('td')])\n",
    "            # В каждой строке контент ячейки обрамляется тегами <td> </td>\n",
    "            # Необходимо пробежаться в цикле по всем элементам td, вычленить контент из ячеек и добавить его в список \n",
    "            # Затем добавить каждый из списков в список content \n",
    "print(content)\n",
    "\n",
    "#[['«Генерал Слокам»', '15 июня 1904 года', 'Ист-Ривер', 'Человеческий фактор'], \n",
    "#['«Каморта»', '6 мая 1902 года', 'Бенгальский залив', 'Природная стихия'], \n",
    "#['«Норье»', '28 июня 1904 года', 'Атлантический океан', 'Человеческий фактор']]"
   ]
  },
  {
   "cell_type": "markdown",
   "metadata": {},
   "source": [
    "В результате мы получили 2 списка. В списке heading_table сохранили названия столбцов. В content — наполнение таблицы в виде двумерного массива."
   ]
  },
  {
   "cell_type": "code",
   "execution_count": null,
   "metadata": {},
   "outputs": [],
   "source": [
    "import pandas as pd\n",
    "shipwrecks = pd.DataFrame(content, columns=heading_table) \n",
    "# в качестве данных передаем двумерный список content, а в качестве заголовков - heading_table\n",
    "print(shipwrecks.head())"
   ]
  },
  {
   "cell_type": "code",
   "execution_count": null,
   "metadata": {},
   "outputs": [],
   "source": [
    "   Название корабля    Дата катастрофы     Место катастрофы  \\\n",
    "0  «Генерал Слокам»  15 июня 1904 года            Ист-Ривер   \n",
    "1         «Каморта»    6 мая 1902 года    Бенгальский залив   \n",
    "2           «Норье»  28 июня 1904 года  Атлантический океан   \n",
    "\n",
    "    Причина катастрофы  \n",
    "0  Человеческий фактор  \n",
    "1     Природная стихия  \n",
    "2  Человеческий фактор"
   ]
  },
  {
   "cell_type": "markdown",
   "metadata": {},
   "source": [
    "## API / JSON"
   ]
  },
  {
   "cell_type": "markdown",
   "metadata": {},
   "source": [
    "Получите прогноз погоды на 5 дней с детальной информацией об осадках для региона Moscow.<br>\n",
    "Однако без прогноза погоды по часам — передайте этому ключу словаря значение False.<br>\n",
    "Выведите на экран текстовое содержание запроса.<br>"
   ]
  },
  {
   "cell_type": "code",
   "execution_count": null,
   "metadata": {},
   "outputs": [],
   "source": [
    "import requests\n",
    "\n",
    "BASE_URL = \"https://weather.data-analyst.praktikum-services.ru/v1/forecast\" \n",
    "# URL метода \n",
    "\n",
    "params = {# словарь с параметрами запроса\n",
    "        \"city\" : \"Moscow\", # определяем город\n",
    "        \"limit\" : 5,\n",
    "        \"hours\": False,\n",
    "        \"extra\": True\n",
    "}\n",
    "\n",
    "response = requests.get(BASE_URL, params=params)\n",
    "\n",
    "print(response.text)"
   ]
  },
  {
   "cell_type": "markdown",
   "metadata": {},
   "source": [
    "### json.loads()"
   ]
  },
  {
   "cell_type": "markdown",
   "metadata": {},
   "source": [
    "Его метод json.loads() (от англ. loads — «загрузки») конвертирует строки в формате JSON:\n"
   ]
  },
  {
   "cell_type": "code",
   "execution_count": null,
   "metadata": {},
   "outputs": [],
   "source": [
    "x = '{\"name\": \"Генерал Слокам\", \"date\": \"15 июня 1904 года\"}'\n",
    "y = json.loads(x)\n",
    "\n",
    "print('Name : {0}, date : {1}'.format(y['name'], y['date']))\n",
    "\n",
    "# Ответ\n",
    "Name : Генерал Слокам, date : 15 июня 1904 года"
   ]
  },
  {
   "cell_type": "markdown",
   "metadata": {},
   "source": [
    "### json.dumps()"
   ]
  },
  {
   "cell_type": "markdown",
   "metadata": {},
   "source": [
    "Метод json.dumps() (от англ. dumps — «разгрузки»), наоборот, конвертирует данные из Python в формат JSON. При работе с буквами кириллицы указывают аргумент ensure_ascii=False (что значит «работа и за пределами базовой раскладки»):\n"
   ]
  },
  {
   "cell_type": "code",
   "execution_count": 2,
   "metadata": {},
   "outputs": [],
   "source": [
    "out = json.dumps(y, ensure_ascii=False)\n",
    "print(out)\n",
    "\n",
    "#Ответ\n",
    "[{\"name\": \"Генерал Слокам\", \"date\": \"15 июня 1904 года\"}, {\"name\": \"Каморта\", \"date\": \"6 мая 1902 года\"}]"
   ]
  },
  {
   "cell_type": "code",
   "execution_count": null,
   "metadata": {},
   "outputs": [],
   "source": [
    "#В прошлом уроке вы спарсили данные с сайта погоды. Однако видели не все ключи этого словаря. \n",
    "#Например, есть ключ info c информацией о населённом пункте из прогноза. \n",
    "#Обработайте текстовое содержание ответа response.text методом json.loads() и сохраните результат в переменной response_parsed. \n",
    "#Получите данные по ключу 'info'. Распечатайте их на экране.\n",
    "\n",
    "import requests\n",
    "import json\n",
    "\n",
    "BASE_URL = \"https://weather.data-analyst.praktikum-services.ru/v1/forecast\"\n",
    "\n",
    "params = {\n",
    "    \"city\" : \"Moscow\"\n",
    "}\n",
    "\n",
    "response = requests.get(BASE_URL, params=params)\n",
    "\n",
    "response_parsed = json.loads(response.text)\n",
    "print(response_parsed['info'])"
   ]
  },
  {
   "cell_type": "code",
   "execution_count": null,
   "metadata": {},
   "outputs": [],
   "source": [
    "#Получите данные о фактической погоде из ответа. Их передаёт ключ fact.\n",
    "#Обработайте текстовое содержание ответа response.text методом json.loads() \n",
    "#и сохраните результат в переменной response_parsed. Получите данные по ключу 'fact'. Распечатайте их на экране.\n",
    "\n",
    "import requests\n",
    "import json\n",
    "\n",
    "BASE_URL = \"https://weather.data-analyst.praktikum-services.ru/v1/forecast\"\n",
    "\n",
    "params = {\n",
    "    \"city\" : \"Moscow\"\n",
    "}\n",
    "\n",
    "response = requests.get(BASE_URL, params=params)\n",
    "response_parsed = json.loads(response.text)\n",
    "print(response_parsed['fact'])"
   ]
  },
  {
   "cell_type": "code",
   "execution_count": null,
   "metadata": {},
   "outputs": [],
   "source": [
    "#Получите данные о фактической погоде и сконвертируйте их обратно в JSON.\n",
    "#Обработайте текстовое содержание ответа response.text методом json.loads() \n",
    "#и сохраните результат в переменной response_parsed. Получите данные по ключу 'fact', и сохраните их в переменной fact_weather. \n",
    "#Передайте эту переменную методу json.dumps() в аргументе функции print().\n",
    "\n",
    "import requests\n",
    "import json\n",
    "\n",
    "BASE_URL = \"https://weather.data-analyst.praktikum-services.ru/v1/forecast\"\n",
    "\n",
    "params = {\n",
    "    \"city\" : \"Moscow\"\n",
    "}\n",
    "\n",
    "response = requests.get(BASE_URL, params=params)\n",
    "response_parsed = json.loads(response.text)\n",
    "fact_weather = response_parsed['fact']\n",
    "print(json.dumps(fact_weather))"
   ]
  }
 ],
 "metadata": {
  "kernelspec": {
   "display_name": "Python 3",
   "language": "python",
   "name": "python3"
  },
  "language_info": {
   "codemirror_mode": {
    "name": "ipython",
    "version": 3
   },
   "file_extension": ".py",
   "mimetype": "text/x-python",
   "name": "python",
   "nbconvert_exporter": "python",
   "pygments_lexer": "ipython3",
   "version": "3.7.4"
  }
 },
 "nbformat": 4,
 "nbformat_minor": 2
}
