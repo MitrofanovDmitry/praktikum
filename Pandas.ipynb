{
 "cells": [
  {
   "cell_type": "markdown",
   "metadata": {},
   "source": [
    "## Pandas\n"
   ]
  },
  {
   "cell_type": "markdown",
   "metadata": {},
   "source": [
    "У нас есть набор данных, который нужно превратить в таблицу. Это делается вызовом конструктора DataFrame() (от англ. data frame, «структура данных»)."
   ]
  },
  {
   "cell_type": "markdown",
   "metadata": {},
   "source": [
    "Конструктор принимает два аргумента – список данных и названия столбцов, которые должны быть в таблице. Например, если информация о столицах разных стран хранится в переменной atlas:"
   ]
  },
  {
   "cell_type": "code",
   "execution_count": null,
   "metadata": {},
   "outputs": [],
   "source": [
    "atlas = [  \n",
    "    ['Франция','Париж'],  \n",
    "    ['Россия','Москва'],  \n",
    "    ['Китай','Пекин'],  \n",
    "    ['Мексика','Мехико'],  \n",
    "    ['Египет','Каир'],  \n",
    "]"
   ]
  },
  {
   "cell_type": "markdown",
   "metadata": {},
   "source": [
    "и нужно построить таблицу из двух столбцов country (страна) и capital (столица),\n"
   ]
  },
  {
   "cell_type": "code",
   "execution_count": null,
   "metadata": {},
   "outputs": [],
   "source": [
    "geography = ['country', 'capital']"
   ]
  },
  {
   "cell_type": "markdown",
   "metadata": {},
   "source": [
    "синтаксис вызова конструктора DataFrame() выглядит так:\n"
   ]
  },
  {
   "cell_type": "code",
   "execution_count": null,
   "metadata": {},
   "outputs": [],
   "source": [
    "world_map = pd.DataFrame(data = atlas , columns = geography)"
   ]
  },
  {
   "cell_type": "code",
   "execution_count": 1,
   "metadata": {},
   "outputs": [
    {
     "data": {
      "text/html": [
       "<img src=\"https://pictures.s3.yandex.net/resources/5_3_11_1564569824.png\"/>"
      ],
      "text/plain": [
       "<IPython.core.display.Image object>"
      ]
     },
     "execution_count": 1,
     "metadata": {},
     "output_type": "execute_result"
    }
   ],
   "source": [
    "from IPython.display import Image\n",
    "from IPython.core.display import HTML \n",
    "Image(url= \"https://pictures.s3.yandex.net/resources/5_3_11_1564569824.png\")"
   ]
  },
  {
   "cell_type": "markdown",
   "metadata": {},
   "source": [
    "Обратите внимание, что DataFrame() – это конструктор библиотеки Pandas, поэтому перед именем конструктора стоит обращение к переменной, в которой библиотека хранится – pd.DataFrame()."
   ]
  },
  {
   "cell_type": "code",
   "execution_count": null,
   "metadata": {},
   "outputs": [],
   "source": [
    "\n",
    "atlas = [\n",
    "    ['Франция','Париж'],\n",
    "    ['Россия','Москва'],\n",
    "    ['Китай','Пекин'],\n",
    "    ['Мексика','Мехико'],\n",
    "    ['Египет','Каир'],\n",
    "]\n",
    "geography = ['country', 'capital']\n",
    "world_map = pd.DataFrame(data = atlas , columns = geography) # таблица сохраняется в переменной с произвольно выбранным именем world_map\n",
    "print(world_map) # вывод на экран"
   ]
  },
  {
   "cell_type": "markdown",
   "metadata": {},
   "source": [
    "## Read CSV"
   ]
  },
  {
   "cell_type": "code",
   "execution_count": null,
   "metadata": {},
   "outputs": [],
   "source": [
    "import pandas as pd\n",
    "df = pd.read_csv('music_log.csv') # аргумент - путь к файлу"
   ]
  },
  {
   "cell_type": "markdown",
   "metadata": {},
   "source": [
    "DataFrame — это двумерная структура данных Pandas, где у каждого элемента есть две координаты: по строке и по столбцу."
   ]
  },
  {
   "cell_type": "code",
   "execution_count": 2,
   "metadata": {},
   "outputs": [
    {
     "data": {
      "text/html": [
       "<img src=\"https://pictures.s3.yandex.net/resources/5_5_14_1564570113.gif\"/>"
      ],
      "text/plain": [
       "<IPython.core.display.Image object>"
      ]
     },
     "execution_count": 2,
     "metadata": {},
     "output_type": "execute_result"
    }
   ],
   "source": [
    "from IPython.display import Image\n",
    "from IPython.core.display import HTML \n",
    "Image(url= \"https://pictures.s3.yandex.net/resources/5_5_14_1564570113.gif\")"
   ]
  },
  {
   "cell_type": "markdown",
   "metadata": {},
   "source": [
    "Каждая строка — это одно наблюдение, запись об объекте исследования. А столбцы — признаки объектов. В нашем случае одна строка — это одно действие одного пользователя. Прослушивание такой-то композиции в исполнении такой-то группы в течение такого-то времени."
   ]
  },
  {
   "cell_type": "markdown",
   "metadata": {},
   "source": [
    "## Read Excel "
   ]
  },
  {
   "cell_type": "code",
   "execution_count": null,
   "metadata": {},
   "outputs": [],
   "source": [
    "import pandas as pd\n",
    "df = pd.read_excel('/datasets/Экселевский файл.xlsx', sheet_name='Самый первый лист')"
   ]
  },
  {
   "cell_type": "markdown",
   "metadata": {},
   "source": [
    "Можно вызвать read_excel() и без второго аргумента. Тогда будет взят первый по счёту лист.\n"
   ]
  },
  {
   "cell_type": "markdown",
   "metadata": {},
   "source": [
    "## Атрибуты"
   ]
  },
  {
   "cell_type": "markdown",
   "metadata": {},
   "source": [
    "У DataFrame есть неотъемлемые свойства, значения которых можно запросить. Они называются атрибуты. "
   ]
  },
  {
   "cell_type": "markdown",
   "metadata": {},
   "source": [
    "### Columns"
   ]
  },
  {
   "cell_type": "code",
   "execution_count": null,
   "metadata": {},
   "outputs": [],
   "source": [
    "print(df.columns)"
   ]
  },
  {
   "cell_type": "code",
   "execution_count": 3,
   "metadata": {},
   "outputs": [
    {
     "data": {
      "text/html": [
       "<img src=\"https://pictures.s3.yandex.net/resources/5_5_15_1564570153.png\"/>"
      ],
      "text/plain": [
       "<IPython.core.display.Image object>"
      ]
     },
     "execution_count": 3,
     "metadata": {},
     "output_type": "execute_result"
    }
   ],
   "source": [
    "from IPython.display import Image\n",
    "from IPython.core.display import HTML \n",
    "Image(url= \"https://pictures.s3.yandex.net/resources/5_5_15_1564570153.png\")"
   ]
  },
  {
   "cell_type": "markdown",
   "metadata": {},
   "source": [
    "В данном случае атрибут columns вернул список названий столбцов и сообщил, что каждое из них имеет тип данных object."
   ]
  },
  {
   "cell_type": "markdown",
   "metadata": {},
   "source": [
    "### Dtypes"
   ]
  },
  {
   "cell_type": "markdown",
   "metadata": {},
   "source": [
    " Для просмотра типа данных каждого столбца лучше всего использовать атрибут dtypes."
   ]
  },
  {
   "cell_type": "code",
   "execution_count": null,
   "metadata": {},
   "outputs": [],
   "source": [
    "print(df.dtypes)"
   ]
  },
  {
   "cell_type": "code",
   "execution_count": 4,
   "metadata": {},
   "outputs": [
    {
     "data": {
      "text/html": [
       "<img src=\"https://pictures.s3.yandex.net/resources/5_5_16_1564570209.png\"/>"
      ],
      "text/plain": [
       "<IPython.core.display.Image object>"
      ]
     },
     "execution_count": 4,
     "metadata": {},
     "output_type": "execute_result"
    }
   ],
   "source": [
    "from IPython.display import Image\n",
    "from IPython.core.display import HTML \n",
    "Image(url= \"https://pictures.s3.yandex.net/resources/5_5_16_1564570209.png\")"
   ]
  },
  {
   "cell_type": "code",
   "execution_count": 5,
   "metadata": {},
   "outputs": [],
   "source": [
    "# PANDAS  DTYPE\t    PYTHON TYPE\tЗНАЧЕНИЕ\n",
    "#object\t  str\t    Строка\n",
    "#int64\t  int\t    Целые числа\n",
    "#float64  float\t    Вещественные числа\n",
    "#bool\t  bool\t    Логический тип данных"
   ]
  },
  {
   "cell_type": "markdown",
   "metadata": {},
   "source": [
    "### Shape"
   ]
  },
  {
   "cell_type": "markdown",
   "metadata": {},
   "source": [
    "О размерах таблицы с данными сообщает её атрибут shape (англ. shape, «форма»). В результате получается кортеж (неизменяемый список) из двух чисел: первое – количество строк, второе – количество столбцов."
   ]
  },
  {
   "cell_type": "code",
   "execution_count": null,
   "metadata": {},
   "outputs": [],
   "source": [
    "print(df.shape)"
   ]
  },
  {
   "cell_type": "code",
   "execution_count": 6,
   "metadata": {
    "scrolled": false
   },
   "outputs": [
    {
     "data": {
      "text/html": [
       "<img src=\"https://pictures.s3.yandex.net/resources/5_5_17_1564570254.png\"/>"
      ],
      "text/plain": [
       "<IPython.core.display.Image object>"
      ]
     },
     "execution_count": 6,
     "metadata": {},
     "output_type": "execute_result"
    }
   ],
   "source": [
    "from IPython.display import Image\n",
    "from IPython.core.display import HTML \n",
    "Image(url= \"https://pictures.s3.yandex.net/resources/5_5_17_1564570254.png\")"
   ]
  },
  {
   "cell_type": "markdown",
   "metadata": {},
   "source": [
    "### Info"
   ]
  },
  {
   "cell_type": "markdown",
   "metadata": {},
   "source": [
    "Всю информацию, которую предоставляют разные атрибуты DataFrame, можно получить вызовом одного-единственного метода info(). Изучив результаты, которые этот метод возвращает, аналитик выбирает тактику дальнейшей работы с таблицей."
   ]
  },
  {
   "cell_type": "code",
   "execution_count": null,
   "metadata": {},
   "outputs": [],
   "source": [
    "df.info()"
   ]
  },
  {
   "cell_type": "code",
   "execution_count": 7,
   "metadata": {},
   "outputs": [
    {
     "data": {
      "text/html": [
       "<img src=\"https://pictures.s3.yandex.net/resources/5_5_18_1564570306.gif\"/>"
      ],
      "text/plain": [
       "<IPython.core.display.Image object>"
      ]
     },
     "execution_count": 7,
     "metadata": {},
     "output_type": "execute_result"
    }
   ],
   "source": [
    "from IPython.display import Image\n",
    "from IPython.core.display import HTML \n",
    "Image(url= \"https://pictures.s3.yandex.net/resources/5_5_18_1564570306.gif\")"
   ]
  },
  {
   "cell_type": "markdown",
   "metadata": {},
   "source": [
    "Например, здесь в разных столбцах разное количество элементов с определёнными значениями (non-null). Следовательно, в таблице есть пропущенные значения (null). "
   ]
  },
  {
   "cell_type": "markdown",
   "metadata": {},
   "source": [
    "## Индексация DataFrame"
   ]
  },
  {
   "cell_type": "markdown",
   "metadata": {},
   "source": [
    "К каждой ячейке с данными в DataFrame можно обратиться по её индексу и названию столбца. Мы можем получать различные срезы данных в зависимости от того, какой запрос к DataFrame мы сформулируем. Этот процесс называется индексация. Для DataFrame она проводится разными способами."
   ]
  },
  {
   "cell_type": "code",
   "execution_count": 8,
   "metadata": {},
   "outputs": [
    {
     "data": {
      "text/html": [
       "<img src=\"https://pictures.s3.yandex.net/resources/5_6_19_1564570558.png\"/>"
      ],
      "text/plain": [
       "<IPython.core.display.Image object>"
      ]
     },
     "execution_count": 8,
     "metadata": {},
     "output_type": "execute_result"
    }
   ],
   "source": [
    "from IPython.display import Image\n",
    "from IPython.core.display import HTML \n",
    "Image(url= \"https://pictures.s3.yandex.net/resources/5_6_19_1564570558.png\")"
   ]
  },
  {
   "cell_type": "code",
   "execution_count": null,
   "metadata": {},
   "outputs": [],
   "source": [
    "Одна ячейка ------------------------.loc[7, 'genre']\n",
    "\n",
    "Один столбец------------------------.loc[:, 'genre']\n",
    "Несколько столбцов------------------.loc[:, ['genre', 'Artist']]\n",
    "Несколько столбцов подряд (срез)----.loc[:, 'user_id': 'genre']\n",
    "\n",
    "Одна строка-------------------------.loc[1]\n",
    "Все строки, начиная с заданной------.loc[1:]\n",
    "Все строки до заданной--------------.loc[:3]\n",
    "Несколько строк подряд (срез)-------.loc[2:5]"
   ]
  },
  {
   "cell_type": "code",
   "execution_count": 9,
   "metadata": {},
   "outputs": [
    {
     "data": {
      "text/html": [
       "<img src=\"https://pictures.s3.yandex.net/resources/5_6_20_1564753620.gif\"/>"
      ],
      "text/plain": [
       "<IPython.core.display.Image object>"
      ]
     },
     "execution_count": 9,
     "metadata": {},
     "output_type": "execute_result"
    }
   ],
   "source": [
    "from IPython.display import Image\n",
    "from IPython.core.display import HTML \n",
    "Image(url= \"https://pictures.s3.yandex.net/resources/5_6_20_1564753620.gif\")"
   ]
  },
  {
   "cell_type": "code",
   "execution_count": 10,
   "metadata": {},
   "outputs": [
    {
     "data": {
      "text/html": [
       "<img src=\"https://pictures.s3.yandex.net/resources/5_6_21_1564570629.gif\"/>"
      ],
      "text/plain": [
       "<IPython.core.display.Image object>"
      ]
     },
     "execution_count": 10,
     "metadata": {},
     "output_type": "execute_result"
    }
   ],
   "source": [
    "from IPython.display import Image\n",
    "from IPython.core.display import HTML \n",
    "Image(url= \"https://pictures.s3.yandex.net/resources/5_6_21_1564570629.gif\")"
   ]
  },
  {
   "cell_type": "markdown",
   "metadata": {},
   "source": [
    "Важное замечание: когда мы используем срезы в списках, то конец среза не включается в результат. А вот атрибут .loc[] тем и выделяется, что включает и начало, и конец среза."
   ]
  },
  {
   "cell_type": "markdown",
   "metadata": {},
   "source": [
    "На практике чаще применяют сокращенную форму записи для индексации. Но возможности у неё ограничены. Имейте в виду, что она не всегда возвращает те же результаты, что атрибут .loc[] в его полном варианте."
   ]
  },
  {
   "cell_type": "code",
   "execution_count": null,
   "metadata": {},
   "outputs": [],
   "source": [
    "ВИД\t                                РЕАЛИЗАЦИЯ                      СОКРАЩЕННАЯ ЗАПИСЬ\n",
    "Одна ячейка-------------------------.loc[7, 'genre']----------------\n",
    "Один столбец------------------------.loc[:, 'genre']----------------df['genre']\n",
    "Несколько столбцов------------------.loc[:, ['genre', 'Artist']]----df[['genre', 'Artist']]\n",
    "Несколько столбцов подряд (срез)----.loc[:, 'user_id': 'genre']-----\n",
    "Одна строка-------------------------.loc[1]-------------------------\n",
    "Все строки, начиная с заданной------.loc[1:]------------------------df[1:]\n",
    "Все строки до заданной--------------.loc[:3] включая 3--------------df[:3] не включая 3\n",
    "Несколько строк подряд (срез)-------.loc[2:5]включая 5--------------df[2:5] не включая 5"
   ]
  },
  {
   "cell_type": "markdown",
   "metadata": {},
   "source": [
    "### Count"
   ]
  },
  {
   "cell_type": "markdown",
   "metadata": {},
   "source": [
    "Поскольку в указании, какие именно значения считать, нужен логический оператор, такой доступ к значению ячейки называют логическая индексация."
   ]
  },
  {
   "cell_type": "code",
   "execution_count": 11,
   "metadata": {},
   "outputs": [
    {
     "data": {
      "text/html": [
       "<img src=\"https://pictures.s3.yandex.net/resources/5_6_23_1564570738.png\"/>"
      ],
      "text/plain": [
       "<IPython.core.display.Image object>"
      ]
     },
     "execution_count": 11,
     "metadata": {},
     "output_type": "execute_result"
    }
   ],
   "source": [
    "from IPython.display import Image\n",
    "from IPython.core.display import HTML \n",
    "Image(url= \"https://pictures.s3.yandex.net/resources/5_6_23_1564570738.png\")"
   ]
  },
  {
   "cell_type": "code",
   "execution_count": null,
   "metadata": {},
   "outputs": [],
   "source": [
    "print(battle.loc[battle.loc[:,'В'] == 'X']['В'].count()) \n",
    "# используем метод .count() для подсчета записей, удовлетворяющих условию в столбце В"
   ]
  },
  {
   "cell_type": "code",
   "execution_count": 12,
   "metadata": {},
   "outputs": [
    {
     "ename": "SyntaxError",
     "evalue": "invalid syntax (<ipython-input-12-828e1fd08c64>, line 1)",
     "output_type": "error",
     "traceback": [
      "\u001b[1;36m  File \u001b[1;32m\"<ipython-input-12-828e1fd08c64>\"\u001b[1;36m, line \u001b[1;32m1\u001b[0m\n\u001b[1;33m    ВИД                                   РЕАЛИЗАЦИЯ                                           СОКРАЩЕННАЯ ЗАПИСЬ\u001b[0m\n\u001b[1;37m                                                   ^\u001b[0m\n\u001b[1;31mSyntaxError\u001b[0m\u001b[1;31m:\u001b[0m invalid syntax\n"
     ]
    }
   ],
   "source": [
    "ВИД                                   РЕАЛИЗАЦИЯ                                           СОКРАЩЕННАЯ ЗАПИСЬ\n",
    "Все строки, удовлетворяющие условию---battle.loc[battle.loc[:,'В'] == 'X']-----------------battle[battle['В'] == 'X']\n",
    "Столбец, удовлетворяющий условию------battle.loc[battle.loc[:,'В'] == 'X']['В']------------battle[battle['В'] == 'X']['В']\n",
    "Применение метода---------------------battle.loc[battle.loc[:,'В'] == 'X']['В'].count()----battle[battle['В'] == 'X']['В'].count()"
   ]
  },
  {
   "cell_type": "code",
   "execution_count": null,
   "metadata": {},
   "outputs": [],
   "source": [
    "### ПРИМЕР\n",
    "#Посчитайте число прослушанных треков в жанре поп и рок. \n",
    "\n",
    "import pandas as pd\n",
    "df = pd.read_csv('music_log.csv')\n",
    "entries = ['genre', 'Artist']\n",
    "genre_fight = pd.DataFrame(data = df, columns = entries)\n",
    "\n",
    "genre_pop = (genre_fight.loc[genre_fight.loc[:,'genre'] == 'pop']['genre'].count())\n",
    "genre_rock = (genre_fight.loc[genre_fight.loc[:,'genre'] == 'rock']['genre'].count())\n",
    "print('Число прослушанных треков в жанре поп равно', genre_pop)\n",
    "print('Число прослушанных треков в жанре рок равно', genre_rock)"
   ]
  },
  {
   "cell_type": "markdown",
   "metadata": {},
   "source": [
    "## Series"
   ]
  },
  {
   "cell_type": "markdown",
   "metadata": {},
   "source": [
    "Series — одномерная таблица, и её элементы можно получить по индексу. Каждый индекс — это номер отдельного наблюдения, и поэтому несколько различных Series вместе составляют DataFrame. В Series хранятся данные одного типа."
   ]
  },
  {
   "cell_type": "code",
   "execution_count": 1,
   "metadata": {},
   "outputs": [
    {
     "data": {
      "text/html": [
       "<img src=\"https://pictures.s3.yandex.net/resources/5_7_26_1564571077.png\"/>"
      ],
      "text/plain": [
       "<IPython.core.display.Image object>"
      ]
     },
     "execution_count": 1,
     "metadata": {},
     "output_type": "execute_result"
    }
   ],
   "source": [
    "from IPython.display import Image\n",
    "from IPython.core.display import HTML \n",
    "Image(url= \"https://pictures.s3.yandex.net/resources/5_7_26_1564571077.png\")"
   ]
  },
  {
   "cell_type": "code",
   "execution_count": null,
   "metadata": {},
   "outputs": [],
   "source": [
    "Один элемент                             total_play.loc[7]                  total_play[7]\n",
    "Несколько элементов                      total_play.loc[[5, 7, 10]]         total_play[[5, 7, 10]]\n",
    "Несколько элементов подряд (срез)        total_play.loc[5:10] включая 10    total_play[5:10] не включая 10\n",
    "Все элементы, начиная с заданного        total_play.loc[1:]                 total_play[1:]\n",
    "Все элементы до заданного                total_play.loc[:3] включая 3       total_play[:3] не включая 3"
   ]
  },
  {
   "cell_type": "markdown",
   "metadata": {},
   "source": [
    "Для Series также возможна логическая индексация. Рассмотрим такой пример — пользователю может не понравиться песня, которая начала играть, и он нажмёт кнопку «Следующий трек». Тогда в таблице сохраняется очень малое время прослушивания — от нуля до нескольких секунд. Вы можете проверить, сколько пользователей в течение нескольких секунд — не более 10 — приняли решение пропустить песню, которая только началась."
   ]
  },
  {
   "cell_type": "code",
   "execution_count": 2,
   "metadata": {},
   "outputs": [
    {
     "data": {
      "text/html": [
       "<img src=\"https://pictures.s3.yandex.net/resources/5_7_27_1564753804.jpg\"/>"
      ],
      "text/plain": [
       "<IPython.core.display.Image object>"
      ]
     },
     "execution_count": 2,
     "metadata": {},
     "output_type": "execute_result"
    }
   ],
   "source": [
    "from IPython.display import Image\n",
    "from IPython.core.display import HTML \n",
    "Image(url= \"https://pictures.s3.yandex.net/resources/5_7_27_1564753804.jpg\")"
   ]
  },
  {
   "cell_type": "markdown",
   "metadata": {},
   "source": [
    "## Set_axis"
   ]
  },
  {
   "cell_type": "markdown",
   "metadata": {},
   "source": [
    "Чтобы изменить названия столбцов, воспользуйтесь методом set_axis() (англ. set axis, «указать ось»). Он принимает три аргумента:\n",
    " - cписок с новыми названиями столбцов;\n",
    " - axis (англ. axis, «ось») — ось, которой новые названия присваиваются: 'index', если они даются строкам, и 'columns', если      это список новых названий столбцов;\n",
    " - inplace (от англ. in place, «на месте»). Принимает значения True либо False. В первом случае метод set_axis() перестраивает    структуру данных так, что она замещает прежнюю в переменной с тем же именем."
   ]
  },
  {
   "cell_type": "code",
   "execution_count": 3,
   "metadata": {},
   "outputs": [
    {
     "data": {
      "text/html": [
       "<img src=\"https://pictures.s3.yandex.net/resources/6_4_31_1564572089.png\"/>"
      ],
      "text/plain": [
       "<IPython.core.display.Image object>"
      ]
     },
     "execution_count": 3,
     "metadata": {},
     "output_type": "execute_result"
    }
   ],
   "source": [
    "from IPython.display import Image\n",
    "from IPython.core.display import HTML \n",
    "Image(url= \"https://pictures.s3.yandex.net/resources/6_4_31_1564572089.png\")"
   ]
  },
  {
   "cell_type": "markdown",
   "metadata": {},
   "source": [
    "## Isnull"
   ]
  },
  {
   "cell_type": "markdown",
   "metadata": {},
   "source": [
    "Посчитать в каждом столбце отсутствующие значения можно методом .isnull() (от англ. is null, «является ничем»). Если значение элемента не существует, .isnull() возвращает True, а иначе — False. Суммируют эти True вызовом метода sum() (англ. sum, «сумма»), который в этом случае возвращает общее число элементов без определённых значений."
   ]
  },
  {
   "cell_type": "code",
   "execution_count": null,
   "metadata": {},
   "outputs": [],
   "source": [
    "#ПРИМЕР\n",
    "print(cholera.isnull().sum())"
   ]
  },
  {
   "cell_type": "markdown",
   "metadata": {},
   "source": [
    "## Isna"
   ]
  },
  {
   "cell_type": "markdown",
   "metadata": {},
   "source": [
    "Также подойдёт метод isna() (от английского is NA, «является NA» — что такое NA, мы уже говорили), подсчитывающий пустые значения. В таблице по холере пропущенные значения качественные, так что этот метод отыщет их все."
   ]
  },
  {
   "cell_type": "code",
   "execution_count": null,
   "metadata": {},
   "outputs": [],
   "source": [
    "#ПРИМЕР\n",
    "print(cholera.isna().sum())"
   ]
  },
  {
   "cell_type": "markdown",
   "metadata": {},
   "source": [
    "## Fillna"
   ]
  },
  {
   "cell_type": "markdown",
   "metadata": {},
   "source": [
    "В качестве аргумента выступает заменитель отсутствующих значений."
   ]
  },
  {
   "cell_type": "code",
   "execution_count": 4,
   "metadata": {},
   "outputs": [
    {
     "data": {
      "text/html": [
       "<img src=\"https://pictures.s3.yandex.net/resources/6_5_32-1_1564572506.png\"/>"
      ],
      "text/plain": [
       "<IPython.core.display.Image object>"
      ]
     },
     "execution_count": 4,
     "metadata": {},
     "output_type": "execute_result"
    }
   ],
   "source": [
    "from IPython.display import Image\n",
    "from IPython.core.display import HTML \n",
    "Image(url= \"https://pictures.s3.yandex.net/resources/6_5_32-1_1564572506.png\")"
   ]
  },
  {
   "cell_type": "markdown",
   "metadata": {},
   "source": [
    "## Dropna"
   ]
  },
  {
   "cell_type": "markdown",
   "metadata": {},
   "source": [
    "От строк с нулевыми значениями избавляются методом dropna() (от англ. drop NA, «сбросить NA»). Он удаляет любую строку, где есть хоть одно отсутствующее значение."
   ]
  },
  {
   "cell_type": "code",
   "execution_count": 5,
   "metadata": {},
   "outputs": [
    {
     "data": {
      "text/html": [
       "<img src=\"https://pictures.s3.yandex.net/resources/6_5_32_1564572583.png\"/>"
      ],
      "text/plain": [
       "<IPython.core.display.Image object>"
      ]
     },
     "execution_count": 5,
     "metadata": {},
     "output_type": "execute_result"
    }
   ],
   "source": [
    "from IPython.display import Image\n",
    "from IPython.core.display import HTML \n",
    "Image(url= \"https://pictures.s3.yandex.net/resources/6_5_32_1564572583.png\")"
   ]
  },
  {
   "cell_type": "markdown",
   "metadata": {},
   "source": [
    "Теперь удалим правый столбец с пропущенными значениями. Снова вызываем метод dropna(). Как и set_axis(), он имеет ещё и аргумент axis. Если этому аргументу присвоить значение 'columns', он удалит любой столбец, где есть хоть один пропуск."
   ]
  },
  {
   "cell_type": "code",
   "execution_count": 6,
   "metadata": {},
   "outputs": [
    {
     "data": {
      "text/html": [
       "<img src=\"https://pictures.s3.yandex.net/resources/6_5_33_1564572648.png\"/>"
      ],
      "text/plain": [
       "<IPython.core.display.Image object>"
      ]
     },
     "execution_count": 6,
     "metadata": {},
     "output_type": "execute_result"
    }
   ],
   "source": [
    "from IPython.display import Image\n",
    "from IPython.core.display import HTML \n",
    "Image(url= \"https://pictures.s3.yandex.net/resources/6_5_33_1564572648.png\")"
   ]
  },
  {
   "cell_type": "markdown",
   "metadata": {},
   "source": [
    "При объединении данных случается отбрасывать пустые значения. Когда нужно удалить строки с пропусками в конкретном столбце, его название передают параметру subset метода dropna():\n"
   ]
  },
  {
   "cell_type": "code",
   "execution_count": null,
   "metadata": {},
   "outputs": [],
   "source": [
    "dataframe.dropna(subset=['column_name'])"
   ]
  },
  {
   "cell_type": "markdown",
   "metadata": {},
   "source": [
    "## Duplicated"
   ]
  },
  {
   "cell_type": "markdown",
   "metadata": {},
   "source": [
    "Грубые дубликаты — повторы — обнаруживают методом duplicated() (англ. duplicated, «удвоенный»). Он возвращает Series со значением True при наличии дубликатов, и False, когда их нет. Чтобы посчитать количество дубликатов в наборе данных, нужно вызвать метод sum():\n"
   ]
  },
  {
   "cell_type": "code",
   "execution_count": null,
   "metadata": {},
   "outputs": [],
   "source": [
    "#ПРИМЕР\n",
    "print(df.duplicated().sum())"
   ]
  },
  {
   "cell_type": "markdown",
   "metadata": {},
   "source": [
    "## Drop_duplicates"
   ]
  },
  {
   "cell_type": "markdown",
   "metadata": {},
   "source": [
    "При вызове метода drop_duplicates() вместе с повторяющимися строками удаляются их индексы.\n",
    "Последовательность индексов нарушается: после 0 следует 2 и т.д.\n",
    "    \n",
    "Поэтому вызов drop_duplicates() соединяют в цепочку с вызовом метода reset_index() (англ. reset index, «переопределить индексы»). Тогда создаётся новый DataFrame, где старые индексы превращаются в обычный столбец под названием index, а индексы всех строк снова следуют в естественном порядке.\n",
    "\n",
    "Если же мы не хотим создавать новый столбец index, то при вызове reset_index() передаётся аргумент drop со значением True. Все индексы переписываются в порядке возрастания, без пропусков."
   ]
  },
  {
   "cell_type": "code",
   "execution_count": 8,
   "metadata": {
    "scrolled": true
   },
   "outputs": [
    {
     "data": {
      "text/html": [
       "<img src=\"https://pictures.s3.yandex.net/resources/6_6_34_1565618091.jpg\"/>"
      ],
      "text/plain": [
       "<IPython.core.display.Image object>"
      ]
     },
     "execution_count": 8,
     "metadata": {},
     "output_type": "execute_result"
    }
   ],
   "source": [
    "from IPython.display import Image\n",
    "from IPython.core.display import HTML \n",
    "Image(url= \"https://pictures.s3.yandex.net/resources/6_6_34_1565618091.jpg\")"
   ]
  },
  {
   "cell_type": "code",
   "execution_count": 9,
   "metadata": {},
   "outputs": [],
   "source": [
    "#Вот такой код сохраняет в переменной df таблицу, очищенную от дубликатов, с новой индексацией.\n",
    "#df = df.drop_duplicates().reset_index(drop=True)"
   ]
  },
  {
   "cell_type": "markdown",
   "metadata": {},
   "source": [
    "## Unique"
   ]
  },
  {
   "cell_type": "markdown",
   "metadata": {},
   "source": [
    "Дубликаты в названиях категорий отследить сложнее, но всё-таки можно. Для просмотра всех уникальных значений в столбце используется метод unique()"
   ]
  },
  {
   "cell_type": "code",
   "execution_count": null,
   "metadata": {},
   "outputs": [],
   "source": [
    "#Пример\n",
    "#print(tennis['name'].unique())\n",
    "\n",
    "#array(['Рафаэль Надаль', 'Роджер Федерер', 'Roger Federer',\n",
    "#       'Новак Джокович'], dtype=object)"
   ]
  },
  {
   "cell_type": "markdown",
   "metadata": {},
   "source": [
    "## Replace"
   ]
  },
  {
   "cell_type": "markdown",
   "metadata": {},
   "source": [
    "Первый аргумент — текущее значение, а второй — новое, нужное."
   ]
  },
  {
   "cell_type": "code",
   "execution_count": null,
   "metadata": {},
   "outputs": [],
   "source": [
    "#ПРИМЕР\n",
    "#tennis['name'] = tennis['name'].replace('Roger Federer', 'Роджер Федерер')"
   ]
  },
  {
   "cell_type": "markdown",
   "metadata": {},
   "source": [
    "## Groupby"
   ]
  },
  {
   "cell_type": "markdown",
   "metadata": {},
   "source": [
    "Рandas для группировки данных есть метод groupby(). Он принимает как аргумент название столбца, по которому нужно группировать. В случае с делением экзопланет по годам открытия:"
   ]
  },
  {
   "cell_type": "markdown",
   "metadata": {},
   "source": [
    "Применение метода groupby() к объекту типа DataFrame приводит к созданию объекта особого типа — DataFrameGroupBy. Это сгруппированные данные. Если применить к ним какой-нибудь метод Pandas, они станут новой структурой данных типа DataFrame или Series."
   ]
  },
  {
   "cell_type": "code",
   "execution_count": null,
   "metadata": {},
   "outputs": [],
   "source": [
    "<pandas.core.groupby.DataFrameGroupBy object at 0x7fc1e1ca3400>\n"
   ]
  },
  {
   "cell_type": "markdown",
   "metadata": {},
   "source": [
    "Если нужно сравнить наблюдения по одному показателю, метод применяют к DataFrameGroupBy с указанием на один столбец. Нас в первую очередь интересует радиус экзопланет: мы ищем другую Землю. Давайте получим таблицу с единственным столбцом 'radius':"
   ]
  },
  {
   "cell_type": "code",
   "execution_count": null,
   "metadata": {},
   "outputs": [],
   "source": [
    "#ПРИМЕР\n",
    "#exo_number = exoplanet.groupby('discovered')['radius'].count()"
   ]
  },
  {
   "cell_type": "markdown",
   "metadata": {},
   "source": [
    "## Sort_values"
   ]
  },
  {
   "cell_type": "markdown",
   "metadata": {},
   "source": [
    "Как всю таблицу, так и отдельные группы изучают, сортируя строки по какому-либо столбцу. В Pandas для этой операции есть метод sort_values() (от англ. sort values, «сортировать значения»). У него два атрибута:\n",
    "\n",
    "• by = 'имя столбца' — имя столбца, по которому нужно сортировать;\n",
    "\n",
    "• ascending: по умолчанию True. Для сортировки по убыванию установите значение False."
   ]
  },
  {
   "cell_type": "code",
   "execution_count": 10,
   "metadata": {},
   "outputs": [
    {
     "data": {
      "text/html": [
       "<img src=\"https://pictures.s3.yandex.net/resources/7_4_36_1564573529.png\"/>"
      ],
      "text/plain": [
       "<IPython.core.display.Image object>"
      ]
     },
     "execution_count": 10,
     "metadata": {},
     "output_type": "execute_result"
    }
   ],
   "source": [
    "from IPython.display import Image\n",
    "from IPython.core.display import HTML \n",
    "Image(url= \"https://pictures.s3.yandex.net/resources/7_4_36_1564573529.png\")"
   ]
  },
  {
   "cell_type": "markdown",
   "metadata": {},
   "source": [
    "## Max Min"
   ]
  },
  {
   "cell_type": "markdown",
   "metadata": {},
   "source": [
    "Наибольшее и наименьшее обычно вычисляют только по одному признаку. Например, можно получить минимальное и максимальное значение количества прослушанных секунд композиции (столбец 'total_play_seconds'). Для поиска максимума вызывают метод max():"
   ]
  },
  {
   "cell_type": "code",
   "execution_count": null,
   "metadata": {},
   "outputs": [],
   "source": [
    "#df['total_play_seconds'].max()"
   ]
  },
  {
   "cell_type": "code",
   "execution_count": null,
   "metadata": {},
   "outputs": [],
   "source": [
    "#Запросим из df строку с максимальным значением, прибегнув к логической индексации с условием\n",
    "#df[df['total_play_seconds'] == df['total_play_seconds'].max()]"
   ]
  },
  {
   "cell_type": "code",
   "execution_count": null,
   "metadata": {},
   "outputs": [],
   "source": []
  },
  {
   "cell_type": "code",
   "execution_count": null,
   "metadata": {},
   "outputs": [],
   "source": []
  },
  {
   "cell_type": "code",
   "execution_count": null,
   "metadata": {},
   "outputs": [],
   "source": []
  },
  {
   "cell_type": "code",
   "execution_count": null,
   "metadata": {},
   "outputs": [],
   "source": []
  },
  {
   "cell_type": "markdown",
   "metadata": {},
   "source": [
    "## To_numeric"
   ]
  },
  {
   "cell_type": "code",
   "execution_count": null,
   "metadata": {},
   "outputs": [],
   "source": [
    "transactions['amount'] = pd.to_numeric(transactions['amount'])"
   ]
  },
  {
   "cell_type": "markdown",
   "metadata": {},
   "source": [
    "Метод превращает значения столбца в числовые типы float64 (вещественное число) или int64 (целое число) в зависимости от исходного значения."
   ]
  },
  {
   "cell_type": "markdown",
   "metadata": {},
   "source": [
    "У метода to_numeric() есть параметр errors (англ. error — «ошибка, сбой»). От значений, принимаемых errors, зависят действия to_numeric при встрече с некорректным значением:\n",
    "\n",
    "- errors='raise' (англ. raise, «поднятие, подъём») — дефолтное поведение: при встрече с некорректным значением выдается ошибка, операция перевода в числа прерывается;\n",
    "\n",
    "- errors='coerce' (англ. coerce, «принуждать») — некорректные значения принудительно заменяются на NaN;\n",
    "\n",
    "- errors='ignore' (англ. ignore, «игнорировать») — некорректные значения игнорируются, но остаются."
   ]
  },
  {
   "cell_type": "code",
   "execution_count": null,
   "metadata": {},
   "outputs": [],
   "source": [
    "transactions['amount'] = pd.to_numeric(transactions['amount'], errors='coerce')"
   ]
  },
  {
   "cell_type": "markdown",
   "metadata": {},
   "source": [
    "Особенность метода to_numeric() в том, что при переводе все числа будут иметь тип данных float. Это подходит далеко не всем значениям. "
   ]
  },
  {
   "cell_type": "markdown",
   "metadata": {},
   "source": [
    "## Astype"
   ]
  },
  {
   "cell_type": "markdown",
   "metadata": {},
   "source": [
    "В нужный тип значения переводят методом astype(). Например, аргумент ('int') метода astype() означает, что значение нужно перевести в целое число:"
   ]
  },
  {
   "cell_type": "code",
   "execution_count": 1,
   "metadata": {},
   "outputs": [
    {
     "data": {
      "text/html": [
       "<img src=\"https://pictures.s3.yandex.net/resources/Frame_3.3_1561106592.jpg\"/>"
      ],
      "text/plain": [
       "<IPython.core.display.Image object>"
      ]
     },
     "execution_count": 1,
     "metadata": {},
     "output_type": "execute_result"
    }
   ],
   "source": [
    "from IPython.display import Image\n",
    "from IPython.core.display import HTML \n",
    "Image(url= \"https://pictures.s3.yandex.net/resources/Frame_3.3_1561106592.jpg\")"
   ]
  },
  {
   "cell_type": "markdown",
   "metadata": {},
   "source": [
    "## To_datetime"
   ]
  },
  {
   "cell_type": "markdown",
   "metadata": {},
   "source": [
    "Методом to_datetime() превратим содержимое этого столбца в понятные для Python даты."
   ]
  },
  {
   "cell_type": "markdown",
   "metadata": {},
   "source": [
    "Для этого строку форматируют, обращаясь к специальной системе обозначений, где:\n",
    " - %d — день месяца (от 01 до 31)\n",
    " - %m — номер месяца (от 01 до 12)\n",
    " - %Y — четырёхзначный номер года (например, 2019)\n",
    " - Z — стандартный разделитель даты и времени\n",
    " - %H — номер часа в 24-часовом формате\n",
    " - %I — номер часа в 12-часовом формате\n",
    " - %M — минуты (от 00 до 59)\n",
    " - %S — секунды (от 00 до 59)"
   ]
  },
  {
   "cell_type": "markdown",
   "metadata": {},
   "source": [
    "Преобразуем формат даты 01.04.2019Z11:03:00 из первой строчки датафрейма:\n",
    " - Сначала номер дня месяца. В соответствии с таблицей форматов заменяем его на %d: %d.04.2019Z11:03:00\n",
    " - Далее точка (ее оставляем без изменений), потом номер месяца: %m: %d.%m.2019Z11:03:00\n",
    " - После четырёхзначный номер года, заменяем 2019 на %Y: %d.%m.%YZ11:03:00\n",
    " - Букву Z оставляем без изменений: %d.%m.%YZ11:03:00\n",
    " - Номер часа в 24-часовом формате заменим на %H: %d.%m.%YZ%H:03:00\n",
    " - Количество минут обозначим %M: %d.%m.%YZ%H:%M:00\n",
    " - Завершим форматирование обозначением секунд %S: %d.%m.%YZ%H:%M:%S"
   ]
  },
  {
   "cell_type": "code",
   "execution_count": 1,
   "metadata": {},
   "outputs": [
    {
     "data": {
      "text/html": [
       "<img src=\"https://pictures.s3.yandex.net/resources/2_tema_4_urok_1561652819.jpg\"/>"
      ],
      "text/plain": [
       "<IPython.core.display.Image object>"
      ]
     },
     "execution_count": 1,
     "metadata": {},
     "output_type": "execute_result"
    }
   ],
   "source": [
    "from IPython.display import Image\n",
    "from IPython.core.display import HTML \n",
    "Image(url= \"https://pictures.s3.yandex.net/resources/2_tema_4_urok_1561652819.jpg\")"
   ]
  },
  {
   "cell_type": "markdown",
   "metadata": {},
   "source": [
    "Вот такое выражение '%d.%m.%YZ%H:%M:%S' передают в аргумент format метода to_datetime() при переводе строковых значений столбца 'date' в формат datetime:"
   ]
  },
  {
   "cell_type": "code",
   "execution_count": null,
   "metadata": {},
   "outputs": [],
   "source": [
    "arrivals['date_datetime']= pd.to_datetime(arrivals['date'], format='%d.%m.%YZ%H:%M:%S')\n",
    "print(arrivals.head())"
   ]
  },
  {
   "cell_type": "markdown",
   "metadata": {},
   "source": [
    "Часто приходится исследовать статистику по месяцам: например, узнать, на сколько минут сотрудник опаздывал в среднем. Чтобы осуществить такой расчёт, нужно поместить время в класс DatetimeIndex и применить к нему атрибут month:"
   ]
  },
  {
   "cell_type": "code",
   "execution_count": null,
   "metadata": {},
   "outputs": [],
   "source": [
    "arrivals['month'] = pd.DatetimeIndex(arrivals['date']).month"
   ]
  },
  {
   "cell_type": "markdown",
   "metadata": {},
   "source": [
    "### dt.round"
   ]
  },
  {
   "cell_type": "markdown",
   "metadata": {},
   "source": [
    "В качестве параметра ему передают строку с шагом округления в часах, днях, минутах или секундах:\n",
    " - 'D' — day (от англ. «день»)\n",
    " - 'H' — hour (от англ. «час»)\n",
    " - 'min' или 'T' — minute (от англ. «минута»)\n",
    " - 'S' — second (от англ. «секунда»)"
   ]
  },
  {
   "cell_type": "code",
   "execution_count": 11,
   "metadata": {},
   "outputs": [
    {
     "ename": "ModuleNotFoundError",
     "evalue": "No module named 'pandas'",
     "output_type": "error",
     "traceback": [
      "\u001b[1;31m---------------------------------------------------------------------------\u001b[0m",
      "\u001b[1;31mModuleNotFoundError\u001b[0m                       Traceback (most recent call last)",
      "\u001b[1;32m<ipython-input-11-7d3cec210338>\u001b[0m in \u001b[0;36m<module>\u001b[1;34m\u001b[0m\n\u001b[0;32m      1\u001b[0m \u001b[1;31m#Округление с шагом в один час:\u001b[0m\u001b[1;33m\u001b[0m\u001b[1;33m\u001b[0m\u001b[0m\n\u001b[1;32m----> 2\u001b[1;33m \u001b[1;32mimport\u001b[0m \u001b[0mpandas\u001b[0m \u001b[1;32mas\u001b[0m \u001b[0mpd\u001b[0m\u001b[1;33m\u001b[0m\u001b[0m\n\u001b[0m\u001b[0;32m      3\u001b[0m \u001b[1;33m\u001b[0m\u001b[0m\n\u001b[0;32m      4\u001b[0m \u001b[0mdf\u001b[0m \u001b[1;33m=\u001b[0m \u001b[0mpd\u001b[0m\u001b[1;33m.\u001b[0m\u001b[0mDataFrame\u001b[0m\u001b[1;33m(\u001b[0m\u001b[1;33m{\u001b[0m\u001b[1;34m'time'\u001b[0m\u001b[1;33m:\u001b[0m \u001b[1;33m[\u001b[0m\u001b[1;34m'11-03-01 17:34'\u001b[0m\u001b[1;33m]\u001b[0m\u001b[1;33m}\u001b[0m\u001b[1;33m)\u001b[0m\u001b[1;33m\u001b[0m\u001b[0m\n\u001b[0;32m      5\u001b[0m \u001b[0mdf\u001b[0m\u001b[1;33m[\u001b[0m\u001b[1;34m'time'\u001b[0m\u001b[1;33m]\u001b[0m \u001b[1;33m=\u001b[0m \u001b[0mpd\u001b[0m\u001b[1;33m.\u001b[0m\u001b[0mto_datetime\u001b[0m\u001b[1;33m(\u001b[0m\u001b[0mdf\u001b[0m\u001b[1;33m[\u001b[0m\u001b[1;34m'time'\u001b[0m\u001b[1;33m]\u001b[0m\u001b[1;33m,\u001b[0m \u001b[0mformat\u001b[0m\u001b[1;33m=\u001b[0m\u001b[1;34m'%y-%m-%d %H:%M'\u001b[0m\u001b[1;33m)\u001b[0m\u001b[1;33m\u001b[0m\u001b[0m\n",
      "\u001b[1;31mModuleNotFoundError\u001b[0m: No module named 'pandas'"
     ]
    }
   ],
   "source": [
    "#Округление с шагом в один час:\n",
    "import pandas as pd \n",
    "\n",
    "df = pd.DataFrame({'time': ['11-03-01 17:34']})\n",
    "df['time'] = pd.to_datetime(df['time'], format='%y-%m-%d %H:%M')\n",
    "df['time_rounded'] = df['time'].dt.round('1H') # округляем до ближайшего значения с шагом в один час\n",
    "print(df['time_rounded'])"
   ]
  },
  {
   "cell_type": "markdown",
   "metadata": {},
   "source": [
    "dt.round() округляет до ближайшего значения — не всегда получается в бóльшую сторону. Четверть шестого после округления методом dt.round() станет пятью часами:"
   ]
  },
  {
   "cell_type": "code",
   "execution_count": null,
   "metadata": {},
   "outputs": [],
   "source": [
    "import pandas as pd\n",
    "\n",
    "df = pd.DataFrame({'time': ['11-03-01 17:15']})\n",
    "df['time'] = pd.to_datetime(df['time'], format='%y-%m-%d %H:%M')\n",
    "df['time_rounded'] = df['time'].dt.round('1H') # округляем до ближайшего значения с шагом в один час\n",
    "print(df['time_rounded'])"
   ]
  },
  {
   "cell_type": "markdown",
   "metadata": {},
   "source": [
    "Чтобы быть уверенными в том, что время будет округлено к бóльшему значению, обращаются к методу <b>dt.ceil()</b> (от англ. ceiling — «потолок»). К меньшему значению, «вниз», округляют методом <b>dt.floor()</b> (англ. floor, «пол»).\n"
   ]
  },
  {
   "cell_type": "code",
   "execution_count": null,
   "metadata": {},
   "outputs": [],
   "source": [
    "import pandas as pd\n",
    "\n",
    "df = pd.DataFrame({'time': ['11-03-01 17:15']})\n",
    "df['time'] = pd.to_datetime(df['time'], format='%y-%m-%d %H:%M')\n",
    "df['ceil'] = df['time'].dt.ceil('1H') # округляем к потолку\n",
    "df['floor'] = df['time'].dt.floor('1H') # округляем к полу\n",
    "print('Время, округлённое вверх', df['ceil'])\n",
    "print('Время, округлённое вниз', df['floor'])"
   ]
  },
  {
   "cell_type": "markdown",
   "metadata": {},
   "source": [
    "Номер дня в неделе находят методом <b>dt.weekday</b> (англ. weekday, «будний день»). Понедельник — день под номером 0, а воскресенье — шестой день.\n"
   ]
  },
  {
   "cell_type": "code",
   "execution_count": null,
   "metadata": {},
   "outputs": [],
   "source": [
    "import pandas as pd \n",
    "\n",
    "df = pd.DataFrame({'time': ['11-03-07 17:15', '11-04-02 17:15']}) # пн и сб\n",
    "df['time'] = pd.to_datetime(df['time'], format='%y-%m-%d %H:%M')\n",
    "df['weekday'] = df['time'].dt.weekday\n",
    "print(df['weekday'])"
   ]
  },
  {
   "cell_type": "markdown",
   "metadata": {},
   "source": [
    "Иногда нужно переводить время в другой часовой пояс. За временные сдвиги отвечает <b>pd.Timedelta()</b> (от англ. time delta — «дельта времени, перепад во времени»). Количество часов передают в параметре: (hours=10).\n",
    "\n",
    "Прибавим 9 часов к московскому времени и узнаем, который час был в Петропавловске-Камчатском, когда в Москве происходили события датафрейма:"
   ]
  },
  {
   "cell_type": "code",
   "execution_count": null,
   "metadata": {},
   "outputs": [],
   "source": [
    "import pandas as pd\n",
    "\n",
    "df = pd.DataFrame({'time': ['11-03-07 17:15', '11-05-02 10:20']})\n",
    "df['moscow_time'] = pd.to_datetime(df['time'], format='%y-%m-%d %H:%M')\n",
    "df['petropavlovsk-kamchatsky_time'] = df['moscow_time'] + pd.Timedelta(hours=9)\n",
    "print(df['petropavlovsk-kamchatsky_time'])"
   ]
  },
  {
   "cell_type": "code",
   "execution_count": null,
   "metadata": {},
   "outputs": [],
   "source": []
  },
  {
   "cell_type": "markdown",
   "metadata": {},
   "source": [
    "## Merge"
   ]
  },
  {
   "cell_type": "markdown",
   "metadata": {},
   "source": [
    "merge() применяют к таблице, к которой присоединяют другую. У метода следующие аргументы:\n",
    " - right — имя DataFrame или Series, присоединяемого к исходной таблице\n",
    " - on — название общего списка в двух соединяемых таблицах: по нему происходит слияние\n",
    " - how — чьи id включать в итоговую таблицу. Аргумент how может принять значение left: тогда в итоговую таблицу будут включены    id из левой таблицы. Аргумент right включает id из правой таблицы."
   ]
  },
  {
   "cell_type": "markdown",
   "metadata": {},
   "source": [
    "Объединим таблицы data и subcategory_dict со следующими условиями:\n",
    " - data — таблица, к которой будем присоединять другую таблицу\n",
    " - subcategory_dict — таблица, которую присоединяем к data\n",
    " - 'subcategory_id' — общий столбец в двух таблицах, по нему будем объединять\n",
    " - how='left' — id таблицы data включены в итоговую таблицу data_subcategory"
   ]
  },
  {
   "cell_type": "code",
   "execution_count": null,
   "metadata": {},
   "outputs": [],
   "source": [
    "data_subcategory = data.merge(subcategory_dict, on='subcategory_id', how='left')\n",
    "print(data_subcategory.head(10))"
   ]
  },
  {
   "cell_type": "markdown",
   "metadata": {},
   "source": [
    "В таблице-результате работы метода merge() к названиями столбцов добавились _x и _y. Окончания названий столбцов задают в параметре suffixes (от англ. suffix — «суффикс, окончание»):"
   ]
  },
  {
   "cell_type": "code",
   "execution_count": null,
   "metadata": {},
   "outputs": [],
   "source": [
    "first_pupil_df.merge(second_pupil_df, on='author', how='left', suffixes=('_записал первый', '_записал второй'))"
   ]
  },
  {
   "cell_type": "markdown",
   "metadata": {},
   "source": [
    "## Join"
   ]
  },
  {
   "cell_type": "markdown",
   "metadata": {},
   "source": [
    "Метод join() похож на merge().<br>\n",
    "Без параметра on этот join() будет искать совпадения по индексам в первом и втором датафреймах. Если же передать параметру on столбец, то join() найдёт его в первом датафрейме и начнёт сравнивать с индексом второго.<br> \n",
    "В отличие от merge(), по умолчанию в join() установлен тип слияния how='left'. А параметр suffixes разделён на два независимых: lsuffix (от англ. left suffix, «левый суффикс») и rsuffix (от англ. right suffix, «правый суффикс»). Ещё методом join() можно объединять больше двух таблиц: их набор передают списком вместо второго датафрейма."
   ]
  },
  {
   "cell_type": "code",
   "execution_count": null,
   "metadata": {},
   "outputs": [],
   "source": [
    "df1 = pd.DataFrame({'a': [1, 2, 3, 4], 'b': ['A', 'B', 'C', 'D']})\n",
    "df2 = pd.DataFrame({'a': [2, 2, 2, 2], 'c': ['E', 'F', 'G', 'H']})\n",
    "print(df1)\n",
    "print()\n",
    "print(df2)\n",
    "print()\n",
    "print (df1.join(df2, on='a', rsuffix='_y')['c'])"
   ]
  },
  {
   "cell_type": "markdown",
   "metadata": {},
   "source": [
    "Каждому значению в столбце 'a' первого датафрейма метод ищет соответствие в индексах второго датафрейма. И находит. В индексах второго датафрейма есть 1, 2 и 3. На экран выводят соответствующие им значения столбца 'c': F, G и H. В индексах второго датафрейма нет 4: join() не находит её и возвращает в итоговый столбец NaN."
   ]
  },
  {
   "cell_type": "markdown",
   "metadata": {},
   "source": [
    "## Pivot_table"
   ]
  },
  {
   "cell_type": "markdown",
   "metadata": {},
   "source": [
    "Аргументы метода:\n",
    " - index — столбец или столбцы, по которым группируют данные (название товара)\n",
    " - columns — столбец, по значениям которого происходит группировка (даты)\n",
    " - values — значения, по которым мы хотим увидеть сводную таблицу (количество проданного товара)\n",
    " - aggfunc — функция, применяемая к значениям (сумма товаров)"
   ]
  },
  {
   "cell_type": "code",
   "execution_count": null,
   "metadata": {},
   "outputs": [],
   "source": [
    "data_pivot = data_final.pivot_table(index=['category_name', 'subcategory_name'], columns='source', values='visits', aggfunc='sum')\n",
    "print(data_pivot.head(10))"
   ]
  },
  {
   "cell_type": "markdown",
   "metadata": {},
   "source": [
    "pivot_table группирует данные, а что с ними делать, указывает значение параметра aggfunc. Например:\n",
    " - 'median' — медианное значение;\n",
    " - 'count' — количество значений;\n",
    " - 'sum' — сумма значений;\n",
    " - 'min' — минимальное значение;\n",
    " - 'max' — максимальное значение;\n",
    " - 'first' — первое значение из группы;\n",
    " - 'last' — последнее значение из группы."
   ]
  },
  {
   "cell_type": "markdown",
   "metadata": {},
   "source": [
    "В одном вызове pivot_table можно передать параметру aggfunc cписком сразу несколько функций. Например, aggfunc=['median', 'count'] посчитает и медиану, и число значений — в результирующей таблице они будут в соседних столбцах."
   ]
  },
  {
   "cell_type": "code",
   "execution_count": 23,
   "metadata": {},
   "outputs": [],
   "source": [
    "#                first count\n",
    "#                 name  name\n",
    "#id                         \n",
    "#00ca1b70     Вероника   131\n",
    "#0178ce70      Василек   164\n",
    "#01abf4e9      Гацания    30\n",
    "#030a9067  Колокольчик   228\n",
    "#03740f2d      Василек   157"
   ]
  },
  {
   "cell_type": "markdown",
   "metadata": {},
   "source": [
    "Вы передали список функций в aggfunc и получили двухэтажные названия столбцов. Это вовсе не ошибка, а мультииндекс. Такое случается, когда в индексе не одно значение, а целый список.\n",
    "В нашей задаче это усложнение излишне. Зададим обычные названия столбцов. Запишем их в атрибуте columns так:"
   ]
  },
  {
   "cell_type": "code",
   "execution_count": null,
   "metadata": {},
   "outputs": [],
   "source": [
    "df.columns = ['column_name_1', 'column_name_2', 'column_name_3']"
   ]
  },
  {
   "cell_type": "markdown",
   "metadata": {},
   "source": [
    "## Lower"
   ]
  },
  {
   "cell_type": "code",
   "execution_count": null,
   "metadata": {},
   "outputs": [],
   "source": [
    "giraffe_height = 'жираф БОЛЬШОЙ, ему ВИДНЕЙ'\n",
    "giraffe_height.lower()"
   ]
  },
  {
   "cell_type": "code",
   "execution_count": null,
   "metadata": {},
   "outputs": [],
   "source": [
    "#Переведите названия моделей в нижний регистр методом str.lower(). \n",
    "#Сохраните их в новом столбце 'item_lowercase'.\n",
    "#Распечатайте таблицу после преобразования.\n",
    "stock['item_lowercase'] = stock['item'].str.lower()"
   ]
  },
  {
   "cell_type": "markdown",
   "metadata": {},
   "source": [
    "## Apply"
   ]
  },
  {
   "cell_type": "markdown",
   "metadata": {},
   "source": [
    "Метод берёт значения столбца датафрейма и применяет к ним функцию из своего аргумента. В нашем случае метод apply() следует вызвать для столбца ['age'], так как в нём содержатся данные, которые функция примет на вход. Аргументом метода станет сама функция age_group."
   ]
  },
  {
   "cell_type": "code",
   "execution_count": null,
   "metadata": {},
   "outputs": [],
   "source": [
    "def age_group(age):\n",
    "        \"\"\"\n",
    "        Возвращает возврастную группу по значению возраста age, используя правила:\n",
    "        - 'дети' при значении age < 18 лет\n",
    "        - 'взрослые' при значениии age более 18 и менее 64, включая 64\n",
    "        - 'пенсионеры' во всех остальных случаях\n",
    "        \"\"\"\n",
    "\n",
    "        if age < 18:\n",
    "                return 'дети'\n",
    "        if age <= 64:\n",
    "                return 'взрослые'\n",
    "        return 'пенсионеры'\n",
    "\n",
    "clients['age_group'] = clients['age'].apply(age_group)\n",
    "print(clients.head(10))"
   ]
  },
  {
   "cell_type": "code",
   "execution_count": null,
   "metadata": {},
   "outputs": [],
   "source": [
    "import pandas as pd\n",
    "clients = pd.read_csv('/datasets/stats_by_age_employment.csv')\n",
    "def age_group_unemployed(row):\n",
    "\"\"\"\n",
    "Возвращает возврастную группу по значению возраста age и занятости unemployed, используя правила:\n",
    "- 'дети' при значении age <= 18 лет\n",
    "- 'безработные' при значении age от 19 до 64 лет включительно и значении unemployed = 0\n",
    "- 'занятые' при значении age от 19 до 64 лет включительно и значении unemployed = 1\n",
    "- 'пенсионеры' во всех остальных случаях\n",
    "\"\"\"\n",
    "    age = row['age']\n",
    "    unemployed = row['unemployed']\n",
    "\n",
    "    if age <= 18:\n",
    "        return 'дети'\n",
    "\n",
    "    if age <= 64:\n",
    "        if unemployed == 1:\n",
    "            return 'безработные'\n",
    "\n",
    "        return 'занятые'\n",
    "\n",
    "    return 'пенсионеры'\n",
    "\n",
    "clients['age_group'] = clients.apply(age_group_unemployed, axis=1)\n",
    "print(clients.head(10))"
   ]
  },
  {
   "cell_type": "markdown",
   "metadata": {},
   "source": [
    "## Hist"
   ]
  },
  {
   "cell_type": "markdown",
   "metadata": {},
   "source": [
    "Гистограмма — это график, который показывает, как часто в наборе данных встречается то или иное значение. Гистограмма объединяет числовые значения по диапазонам, то есть считает частоту значений в пределах каждого интервала. Её построение подобно работе знакомого вам метода value_counts(), подсчитывающего количество уникальных значений в списке. value_counts() группирует строго одинаковые величины и хорош для подсчёта частоты в списках с категориальными переменными."
   ]
  },
  {
   "cell_type": "markdown",
   "metadata": {},
   "source": [
    "Параметр bins (англ. «корзины, вёдра») определяет, на сколько областей делить диапазон данных. По умолчанию таких «корзин» 10."
   ]
  },
  {
   "cell_type": "code",
   "execution_count": null,
   "metadata": {},
   "outputs": [],
   "source": [
    "#Построим гистограмму, отображающую количество шаров в боулинге. \n",
    "#Допустим, у нас по одному шару каждого номера от 6 до 16:\n",
    "import pandas as pd\n",
    "\n",
    "# строим гистограмму\n",
    "pd.Series([6, 7, 8, 9, 10, 11, 12, 13, 14, 15, 16]).hist()"
   ]
  },
  {
   "cell_type": "code",
   "execution_count": 2,
   "metadata": {},
   "outputs": [
    {
     "data": {
      "text/html": [
       "<img src=\"https://pictures.s3.yandex.net/resources/_1_1561400792.png\"/>"
      ],
      "text/plain": [
       "<IPython.core.display.Image object>"
      ]
     },
     "execution_count": 2,
     "metadata": {},
     "output_type": "execute_result"
    }
   ],
   "source": [
    "from IPython.display import Image\n",
    "from IPython.core.display import HTML \n",
    "Image(url= \"https://pictures.s3.yandex.net/resources/_1_1561400792.png\")"
   ]
  },
  {
   "cell_type": "markdown",
   "metadata": {},
   "source": [
    "Хотя на каждый номер приходится 1 шар, гистограмма не похожа на прямоугольник. Это потому, что по умолчанию параметр bins=10, а шаров 11. Передадим соответствующее число корзин и взглянем на полученный график:"
   ]
  },
  {
   "cell_type": "code",
   "execution_count": null,
   "metadata": {},
   "outputs": [],
   "source": [
    "pd.Series([6, 7, 8, 9, 10, 11, 12, 13, 14, 15, 16]).hist(bins=11)"
   ]
  },
  {
   "cell_type": "code",
   "execution_count": 3,
   "metadata": {},
   "outputs": [
    {
     "data": {
      "text/html": [
       "<img src=\"https://pictures.s3.yandex.net/resources/2_1561400825.png\"/>"
      ],
      "text/plain": [
       "<IPython.core.display.Image object>"
      ]
     },
     "execution_count": 3,
     "metadata": {},
     "output_type": "execute_result"
    }
   ],
   "source": [
    "from IPython.display import Image\n",
    "from IPython.core.display import HTML \n",
    "Image(url= \"https://pictures.s3.yandex.net/resources/2_1561400825.png\")"
   ]
  },
  {
   "cell_type": "markdown",
   "metadata": {},
   "source": [
    "Что произойдёт, если в данных шестнадцатый шар вдруг станет шаром под номером 100, а пятнадцатый пропадёт вовсе?"
   ]
  },
  {
   "cell_type": "code",
   "execution_count": null,
   "metadata": {},
   "outputs": [],
   "source": [
    "pd.Series([6, 8, 8, 9, 10, 11, 12, 13, 14, 100]).hist() # убрали параметр bins, так как шаров стало 10"
   ]
  },
  {
   "cell_type": "code",
   "execution_count": 4,
   "metadata": {},
   "outputs": [
    {
     "data": {
      "text/html": [
       "<img src=\"https://pictures.s3.yandex.net/resources/_5_1561400937.png\"/>"
      ],
      "text/plain": [
       "<IPython.core.display.Image object>"
      ]
     },
     "execution_count": 4,
     "metadata": {},
     "output_type": "execute_result"
    }
   ],
   "source": [
    "from IPython.display import Image\n",
    "from IPython.core.display import HTML \n",
    "Image(url= \"https://pictures.s3.yandex.net/resources/_5_1561400937.png\")"
   ]
  },
  {
   "cell_type": "markdown",
   "metadata": {},
   "source": [
    "9 шаров со значениями в диапазоне от 5 до 15 и 1 шар с номером от 90 до 100. При таком изображении не видно тонких особенностей распределения значений в диапазоне от 5 до 15 — того, что в нём нет семёрки, а восьмёрок пара.\n",
    "Вернём детальность, увеличив число корзин до 100."
   ]
  },
  {
   "cell_type": "code",
   "execution_count": null,
   "metadata": {},
   "outputs": [],
   "source": [
    "pd.Series([6, 8, 8, 9, 10, 11, 12, 13, 14, 100]).hist(bins=100)"
   ]
  },
  {
   "cell_type": "code",
   "execution_count": 5,
   "metadata": {},
   "outputs": [
    {
     "data": {
      "text/html": [
       "<img src=\"https://pictures.s3.yandex.net/resources/_6_1561400977.png\"/>"
      ],
      "text/plain": [
       "<IPython.core.display.Image object>"
      ]
     },
     "execution_count": 5,
     "metadata": {},
     "output_type": "execute_result"
    }
   ],
   "source": [
    "from IPython.display import Image\n",
    "from IPython.core.display import HTML \n",
    "Image(url= \"https://pictures.s3.yandex.net/resources/_6_1561400977.png\")"
   ]
  },
  {
   "cell_type": "markdown",
   "metadata": {},
   "source": [
    "На этом графике видно, что восьмёрка удвоена, а семёрка не встречается вовсе. Увеличив число корзин, мы вернули детализацию, однако гистограмма всё ещё не наглядна. 100 слишком похоже на выброс — значение, сильно отличающееся от других элементов в наборе данных."
   ]
  },
  {
   "cell_type": "markdown",
   "metadata": {},
   "source": [
    "Изменим масштаб вручную, указав диапазон значений, по которым следует строить график. Границы интересующего нас интервала указывают в параметре range (англ. «диапазон»): range=(min_value, max_value). Нам нужна область от 6 до 14:"
   ]
  },
  {
   "cell_type": "code",
   "execution_count": null,
   "metadata": {},
   "outputs": [],
   "source": [
    "pd.Series([6, 8, 8, 9, 10, 11, 12, 13, 14, 100]).hist(range = (6, 14))"
   ]
  },
  {
   "cell_type": "code",
   "execution_count": 6,
   "metadata": {},
   "outputs": [
    {
     "data": {
      "text/html": [
       "<img src=\"https://pictures.s3.yandex.net/resources/6_1561401079.png\"/>"
      ],
      "text/plain": [
       "<IPython.core.display.Image object>"
      ]
     },
     "execution_count": 6,
     "metadata": {},
     "output_type": "execute_result"
    }
   ],
   "source": [
    "from IPython.display import Image\n",
    "from IPython.core.display import HTML \n",
    "Image(url= \"https://pictures.s3.yandex.net/resources/6_1561401079.png\")"
   ]
  },
  {
   "cell_type": "markdown",
   "metadata": {},
   "source": [
    "Гистограмма даёт представление о структуре данных. В частности, по ней можно понять, откуда взялось такое среднее арифметическое."
   ]
  },
  {
   "cell_type": "markdown",
   "metadata": {},
   "source": [
    "Вот 2 ряда по 10 чисел: их гистограммы очень разные, а среднее у обеих 5.\n"
   ]
  },
  {
   "cell_type": "code",
   "execution_count": null,
   "metadata": {},
   "outputs": [],
   "source": [
    "pd.Series([0, 0, 0, 0, 0, 10, 10, 10, 10, 10]).hist(range=(0, 10))"
   ]
  },
  {
   "cell_type": "code",
   "execution_count": 7,
   "metadata": {},
   "outputs": [
    {
     "data": {
      "text/html": [
       "<img src=\"https://pictures.s3.yandex.net/resources/8_1561401116.png\"/>"
      ],
      "text/plain": [
       "<IPython.core.display.Image object>"
      ]
     },
     "execution_count": 7,
     "metadata": {},
     "output_type": "execute_result"
    }
   ],
   "source": [
    "from IPython.display import Image\n",
    "from IPython.core.display import HTML \n",
    "Image(url= \"https://pictures.s3.yandex.net/resources/8_1561401116.png\")"
   ]
  },
  {
   "cell_type": "code",
   "execution_count": null,
   "metadata": {},
   "outputs": [],
   "source": [
    "pd.Series([4, 5, 5, 5, 5, 5, 5, 5, 5, 5, 6]).hist(range=(0, 10))"
   ]
  },
  {
   "cell_type": "code",
   "execution_count": 8,
   "metadata": {},
   "outputs": [
    {
     "data": {
      "text/html": [
       "<img src=\"https://pictures.s3.yandex.net/resources/9_1561401157.png\"/>"
      ],
      "text/plain": [
       "<IPython.core.display.Image object>"
      ]
     },
     "execution_count": 8,
     "metadata": {},
     "output_type": "execute_result"
    }
   ],
   "source": [
    "from IPython.display import Image\n",
    "from IPython.core.display import HTML \n",
    "Image(url= \"https://pictures.s3.yandex.net/resources/9_1561401157.png\")"
   ]
  },
  {
   "cell_type": "markdown",
   "metadata": {},
   "source": [
    "Если бы мы смотрели только на среднее значение этих наборов данных, то сказали бы, что они очень похожи. Однако описывающие их гистограммы дают понять, что это два очень разных явления."
   ]
  },
  {
   "cell_type": "markdown",
   "metadata": {},
   "source": [
    "## Plot"
   ]
  },
  {
   "cell_type": "markdown",
   "metadata": {},
   "source": [
    "За построение графиков в Pandas отвечает метод plot() (англ. «график»). Вот простой пример:"
   ]
  },
  {
   "cell_type": "code",
   "execution_count": 12,
   "metadata": {},
   "outputs": [
    {
     "ename": "NameError",
     "evalue": "name 'pd' is not defined",
     "output_type": "error",
     "traceback": [
      "\u001b[1;31m---------------------------------------------------------------------------\u001b[0m",
      "\u001b[1;31mNameError\u001b[0m                                 Traceback (most recent call last)",
      "\u001b[1;32m<ipython-input-12-bd5cc8c51c6b>\u001b[0m in \u001b[0;36m<module>\u001b[1;34m\u001b[0m\n\u001b[1;32m----> 1\u001b[1;33m \u001b[0mdf\u001b[0m \u001b[1;33m=\u001b[0m \u001b[0mpd\u001b[0m\u001b[1;33m.\u001b[0m\u001b[0mDataFrame\u001b[0m\u001b[1;33m(\u001b[0m\u001b[1;33m{\u001b[0m\u001b[1;34m'a'\u001b[0m\u001b[1;33m:\u001b[0m \u001b[1;33m[\u001b[0m\u001b[1;36m2\u001b[0m\u001b[1;33m,\u001b[0m \u001b[1;36m3\u001b[0m\u001b[1;33m,\u001b[0m \u001b[1;36m4\u001b[0m\u001b[1;33m,\u001b[0m \u001b[1;36m5\u001b[0m\u001b[1;33m]\u001b[0m\u001b[1;33m,\u001b[0m \u001b[1;34m'b'\u001b[0m\u001b[1;33m:\u001b[0m \u001b[1;33m[\u001b[0m\u001b[1;36m4\u001b[0m\u001b[1;33m,\u001b[0m \u001b[1;36m9\u001b[0m\u001b[1;33m,\u001b[0m \u001b[1;36m16\u001b[0m\u001b[1;33m,\u001b[0m \u001b[1;36m25\u001b[0m\u001b[1;33m]\u001b[0m\u001b[1;33m}\u001b[0m\u001b[1;33m)\u001b[0m\u001b[1;33m\u001b[0m\u001b[0m\n\u001b[0m\u001b[0;32m      2\u001b[0m \u001b[0mprint\u001b[0m\u001b[1;33m(\u001b[0m\u001b[0mdf\u001b[0m\u001b[1;33m)\u001b[0m\u001b[1;33m\u001b[0m\u001b[0m\n\u001b[0;32m      3\u001b[0m \u001b[0mdf\u001b[0m\u001b[1;33m.\u001b[0m\u001b[0mplot\u001b[0m\u001b[1;33m(\u001b[0m\u001b[1;33m)\u001b[0m\u001b[1;33m\u001b[0m\u001b[0m\n",
      "\u001b[1;31mNameError\u001b[0m: name 'pd' is not defined"
     ]
    }
   ],
   "source": [
    "df = pd.DataFrame({'a': [2, 3, 4, 5], 'b': [4, 9, 16, 25]})\n",
    "print(df)\n",
    "df.plot()"
   ]
  },
  {
   "cell_type": "code",
   "execution_count": 13,
   "metadata": {},
   "outputs": [
    {
     "data": {
      "text/html": [
       "<img src=\"https://pictures.s3.yandex.net/resources/uhfabrb1_1562499087.png\"/>"
      ],
      "text/plain": [
       "<IPython.core.display.Image object>"
      ]
     },
     "execution_count": 13,
     "metadata": {},
     "output_type": "execute_result"
    }
   ],
   "source": [
    "from IPython.display import Image\n",
    "from IPython.core.display import HTML \n",
    "Image(url= \"https://pictures.s3.yandex.net/resources/uhfabrb1_1562499087.png\")"
   ]
  },
  {
   "cell_type": "markdown",
   "metadata": {},
   "source": [
    "Метод plot() построил графики по значениям столбцов из датафрейма. На оси абсцисс (x) расположились индексы, а на оси ординат (y) — значения столбцов."
   ]
  },
  {
   "cell_type": "markdown",
   "metadata": {},
   "source": [
    "Названия для графиков указывают строкой или переменной в параметре title (англ. «название»):"
   ]
  },
  {
   "cell_type": "code",
   "execution_count": null,
   "metadata": {},
   "outputs": [],
   "source": [
    "df.plot(title='A и B')"
   ]
  },
  {
   "cell_type": "code",
   "execution_count": 14,
   "metadata": {},
   "outputs": [
    {
     "data": {
      "text/html": [
       "<img src=\"https://pictures.s3.yandex.net/resources/_17_1_1562499571.png\"/>"
      ],
      "text/plain": [
       "<IPython.core.display.Image object>"
      ]
     },
     "execution_count": 14,
     "metadata": {},
     "output_type": "execute_result"
    }
   ],
   "source": [
    "from IPython.display import Image\n",
    "from IPython.core.display import HTML \n",
    "Image(url= \"https://pictures.s3.yandex.net/resources/_17_1_1562499571.png\")"
   ]
  },
  {
   "cell_type": "markdown",
   "metadata": {},
   "source": [
    "Элементов в таблице слишком мало, чтобы они складывались в непрерывную линию. Добавим графику точности, передадим параметр <b>style</b>, со значением 'o', чтобы отметить значения таблицы точками."
   ]
  },
  {
   "cell_type": "code",
   "execution_count": null,
   "metadata": {},
   "outputs": [],
   "source": [
    "df.plot(style='o') # 'o' похожа на кружок или точку, запомнить легко"
   ]
  },
  {
   "cell_type": "code",
   "execution_count": 15,
   "metadata": {},
   "outputs": [
    {
     "data": {
      "text/html": [
       "<img src=\"https://pictures.s3.yandex.net/resources/uhfa1_1562499672.png\"/>"
      ],
      "text/plain": [
       "<IPython.core.display.Image object>"
      ]
     },
     "execution_count": 15,
     "metadata": {},
     "output_type": "execute_result"
    }
   ],
   "source": [
    "from IPython.display import Image\n",
    "from IPython.core.display import HTML \n",
    "Image(url= \"https://pictures.s3.yandex.net/resources/uhfa1_1562499672.png\")"
   ]
  },
  {
   "cell_type": "markdown",
   "metadata": {},
   "source": [
    "Можно задать и другую форму точек. Например, <b>style='х'</b> пометит точки крестиками:"
   ]
  },
  {
   "cell_type": "code",
   "execution_count": 16,
   "metadata": {},
   "outputs": [
    {
     "ename": "NameError",
     "evalue": "name 'df' is not defined",
     "output_type": "error",
     "traceback": [
      "\u001b[1;31m---------------------------------------------------------------------------\u001b[0m",
      "\u001b[1;31mNameError\u001b[0m                                 Traceback (most recent call last)",
      "\u001b[1;32m<ipython-input-16-77cadc3b3338>\u001b[0m in \u001b[0;36m<module>\u001b[1;34m\u001b[0m\n\u001b[1;32m----> 1\u001b[1;33m \u001b[0mdf\u001b[0m\u001b[1;33m.\u001b[0m\u001b[0mplot\u001b[0m\u001b[1;33m(\u001b[0m\u001b[0mstyle\u001b[0m\u001b[1;33m=\u001b[0m\u001b[1;34m'x'\u001b[0m\u001b[1;33m)\u001b[0m \u001b[1;31m# 'x' - точь-в-точь крестик\u001b[0m\u001b[1;33m\u001b[0m\u001b[0m\n\u001b[0m",
      "\u001b[1;31mNameError\u001b[0m: name 'df' is not defined"
     ]
    }
   ],
   "source": [
    "df.plot(style='x') # 'x' - точь-в-точь крестик"
   ]
  },
  {
   "cell_type": "code",
   "execution_count": 17,
   "metadata": {},
   "outputs": [
    {
     "data": {
      "text/html": [
       "<img src=\"https://pictures.s3.yandex.net/resources/png_1562499732\"/>"
      ],
      "text/plain": [
       "<IPython.core.display.Image object>"
      ]
     },
     "execution_count": 17,
     "metadata": {},
     "output_type": "execute_result"
    }
   ],
   "source": [
    "from IPython.display import Image\n",
    "from IPython.core.display import HTML \n",
    "Image(url= \"https://pictures.s3.yandex.net/resources/png_1562499732\")"
   ]
  },
  {
   "cell_type": "markdown",
   "metadata": {},
   "source": [
    "Когда нужен компромиссный вариант: и линии, и точки; передают <b>style='o-'.</b>"
   ]
  },
  {
   "cell_type": "code",
   "execution_count": 18,
   "metadata": {},
   "outputs": [
    {
     "data": {
      "text/html": [
       "<img src=\"https://pictures.s3.yandex.net/resources/___1562499781.png\"/>"
      ],
      "text/plain": [
       "<IPython.core.display.Image object>"
      ]
     },
     "execution_count": 18,
     "metadata": {},
     "output_type": "execute_result"
    }
   ],
   "source": [
    "from IPython.display import Image\n",
    "from IPython.core.display import HTML \n",
    "Image(url= \"https://pictures.s3.yandex.net/resources/___1562499781.png\")"
   ]
  },
  {
   "cell_type": "markdown",
   "metadata": {},
   "source": [
    "Напомним, что по горизонтальной оси отложены индексы. Но что, если такой способ представления не годится для анализа? Можно изменить сами индексы или передать методу plot() параметры осей. Так, оси абсцисс (x) присвоим значения столбца 'b', а оси ординат (y) — значения столбца 'a':\n"
   ]
  },
  {
   "cell_type": "code",
   "execution_count": null,
   "metadata": {},
   "outputs": [],
   "source": [
    "df.plot(x='b', y='a', style='o-')"
   ]
  },
  {
   "cell_type": "code",
   "execution_count": 19,
   "metadata": {},
   "outputs": [
    {
     "data": {
      "text/html": [
       "<img src=\"https://pictures.s3.yandex.net/resources/png_1562499923\"/>"
      ],
      "text/plain": [
       "<IPython.core.display.Image object>"
      ]
     },
     "execution_count": 19,
     "metadata": {},
     "output_type": "execute_result"
    }
   ],
   "source": [
    "from IPython.display import Image\n",
    "from IPython.core.display import HTML \n",
    "Image(url= \"https://pictures.s3.yandex.net/resources/png_1562499923\")"
   ]
  },
  {
   "cell_type": "markdown",
   "metadata": {},
   "source": [
    "По оси абсцисс идут значения столбца b, а по оси ординат — значения столбца a. Обратите внимание, что Pandas переименовал горизонтальную ось: теперь она — b. А в легенде (списке условных обозначений на графике) осталась только линия со значениями столбца a. **"
   ]
  },
  {
   "cell_type": "markdown",
   "metadata": {},
   "source": [
    "Ещё не всё идеально: точки упираются в края графика. Скорректируем границы параметрами <b>xlim и ylim</b> — с ними вы познакомились, когда изучали ящик с усами. Напомним, что параметрам xlim и ylim в скобках передают минимальное и максимальное значение. Ограничим ось абсцисс значениями от 0 до 30:\n"
   ]
  },
  {
   "cell_type": "code",
   "execution_count": null,
   "metadata": {},
   "outputs": [],
   "source": [
    "df.plot(x='b', y='a', style='o-', xlim=(0, 30))"
   ]
  },
  {
   "cell_type": "code",
   "execution_count": 20,
   "metadata": {},
   "outputs": [
    {
     "data": {
      "text/html": [
       "<img src=\"https://pictures.s3.yandex.net/resources/__1562499991.png\"/>"
      ],
      "text/plain": [
       "<IPython.core.display.Image object>"
      ]
     },
     "execution_count": 20,
     "metadata": {},
     "output_type": "execute_result"
    }
   ],
   "source": [
    "from IPython.display import Image\n",
    "from IPython.core.display import HTML \n",
    "Image(url= \"https://pictures.s3.yandex.net/resources/__1562499991.png\")"
   ]
  },
  {
   "cell_type": "markdown",
   "metadata": {},
   "source": [
    "Добавим линии сетки: с ними будет легче понять, какие именно значения отображены. Укажем параметр <b>grid</b> (англ. «сетка, решётка»), равный True (это значит, что отображать сетку — нужно):"
   ]
  },
  {
   "cell_type": "code",
   "execution_count": null,
   "metadata": {},
   "outputs": [],
   "source": [
    "df.plot(x='b', y='a', style='o-', xlim=(0, 30), grid=True)"
   ]
  },
  {
   "cell_type": "code",
   "execution_count": 21,
   "metadata": {},
   "outputs": [
    {
     "data": {
      "text/html": [
       "<img src=\"https://pictures.s3.yandex.net/resources/png_1562500036\"/>"
      ],
      "text/plain": [
       "<IPython.core.display.Image object>"
      ]
     },
     "execution_count": 21,
     "metadata": {},
     "output_type": "execute_result"
    }
   ],
   "source": [
    "from IPython.display import Image\n",
    "from IPython.core.display import HTML \n",
    "Image(url= \"https://pictures.s3.yandex.net/resources/png_1562500036\")"
   ]
  },
  {
   "cell_type": "markdown",
   "metadata": {},
   "source": [
    "Размером графика управляют через параметр <b>figsize</b> (от англ. size of a figure — «размер фигуры»). Ширину и высоту области построения в дюймах передают параметру в скобках: figsize = (x_size, y_size). Сравним графики с разными размерами:"
   ]
  },
  {
   "cell_type": "code",
   "execution_count": null,
   "metadata": {},
   "outputs": [],
   "source": [
    "df.plot(x='b', y='a', style='o-', xlim=(0, 30), grid=True, figsize=(10, 3));"
   ]
  },
  {
   "cell_type": "code",
   "execution_count": 22,
   "metadata": {},
   "outputs": [
    {
     "data": {
      "text/html": [
       "<img src=\"https://pictures.s3.yandex.net/resources/png_1_1562500178\"/>"
      ],
      "text/plain": [
       "<IPython.core.display.Image object>"
      ]
     },
     "execution_count": 22,
     "metadata": {},
     "output_type": "execute_result"
    }
   ],
   "source": [
    "from IPython.display import Image\n",
    "from IPython.core.display import HTML \n",
    "Image(url= \"https://pictures.s3.yandex.net/resources/png_1_1562500178\")"
   ]
  },
  {
   "cell_type": "markdown",
   "metadata": {},
   "source": [
    "Дополнительные параметры:\n",
    " - <b>histtype</b> (от англ. the type of histogram, «тип гистограммы»). В параметре указывают тип гистограммы, по умолчанию — это        столбчатая (закрашенная). Значение 'step' (англ. «шаг») чертит только линию.\n",
    " - <b>linewidth</b> (от англ. width of line, «толщина линии»). Задаёт толщину линии графика в пикселях.\n",
    " - <b>alpha</b> (от термина «альфа-канал»). Назначает густоту закраски линии. 1 — это 100% закраска; 0 — прозрачная линия. С              параметром 0.7 линии чуть прозрачны, так виднее их пересечения.\n",
    " - <b>label</b> (англ. «ярлык, этикетка»). Название линии.\n",
    " - <b>ax</b> (от англ. axis — «ось»). Метод plot() возвращает оси, на которых был построен график. Чтобы обе гистограммы  расположились    на одном графике, сохраним оси первого графика в переменной ax, а затем передадим её значение параметру ax второго plot().      Так, сохранив оси одной гистограммы и построив вторую на осях первой, мы объединили два графика.\n",
    " - <b>legend</b> (англ. «легенда»). Выводит легенду — список условных обозначений на графике. На нашем графике вы можете найти её в      верхнем правом углу.\n",
    " - <b>kind</b> - тип графика:<br>\n",
    "  scatter - рассеяние<br>\n",
    "  hexbin - Число ячеек по горизонтальной оси задают параметром gridsize, параметр sharex=False. Если значение True, то пропадёт подпись оси x, а без sharex график выйдет неказистым — это «костыльный» обход бага библиотеки Pandas.<br>\n",
    "  pie - круговая диаграмма<br>\n",
    "  bar - столбцы"
   ]
  },
  {
   "cell_type": "code",
   "execution_count": null,
   "metadata": {},
   "outputs": [],
   "source": [
    "hw.plot(x='height', y='weight', kind='hexbin', gridsize=20, figsize=(8, 6), sharex=False, grid=True)"
   ]
  },
  {
   "cell_type": "code",
   "execution_count": 24,
   "metadata": {},
   "outputs": [
    {
     "data": {
      "text/html": [
       "<img src=\"https://pictures.s3.yandex.net/resources/_14_1562657087.png\"/>"
      ],
      "text/plain": [
       "<IPython.core.display.Image object>"
      ]
     },
     "execution_count": 24,
     "metadata": {},
     "output_type": "execute_result"
    }
   ],
   "source": [
    "from IPython.display import Image\n",
    "from IPython.core.display import HTML \n",
    "Image(url= \"https://pictures.s3.yandex.net/resources/_14_1562657087.png\")"
   ]
  },
  {
   "cell_type": "markdown",
   "metadata": {},
   "source": [
    "### pd.plotting.scatter_matrix(df)"
   ]
  },
  {
   "cell_type": "code",
   "execution_count": null,
   "metadata": {},
   "outputs": [],
   "source": [
    "hwa = pd.read_csv('hwa.csv', sep=';')\n",
    "pd.plotting.scatter_matrix(hwa, figsize=(9, 9))"
   ]
  },
  {
   "cell_type": "code",
   "execution_count": 25,
   "metadata": {},
   "outputs": [
    {
     "data": {
      "text/html": [
       "<img src=\"https://pictures.s3.yandex.net/resources/_15_1562657631.png\"/>"
      ],
      "text/plain": [
       "<IPython.core.display.Image object>"
      ]
     },
     "execution_count": 25,
     "metadata": {},
     "output_type": "execute_result"
    }
   ],
   "source": [
    "from IPython.display import Image\n",
    "from IPython.core.display import HTML \n",
    "Image(url= \"https://pictures.s3.yandex.net/resources/_15_1562657631.png\")"
   ]
  },
  {
   "cell_type": "code",
   "execution_count": null,
   "metadata": {},
   "outputs": [],
   "source": []
  },
  {
   "cell_type": "markdown",
   "metadata": {},
   "source": [
    "## Corr"
   ]
  },
  {
   "cell_type": "markdown",
   "metadata": {},
   "source": [
    "Как оценить численно, насколько тесна взаимосвязь? Для этого находят коэффициент корреляции Пирсона. Он помогает определить, как сильно меняется одна величина при изменении другой; и принимает значения от - 1 до 1.<br>\n",
    "Если с ростом первой величины, растёт вторая, то коэффициент корреляции Пирсона — положительный.<br>\n",
    "Если при изменении одной величины другая остаётся прежней, то коэффициент равен 0.\n",
    "\n"
   ]
  },
  {
   "cell_type": "markdown",
   "metadata": {},
   "source": [
    "Чем ближе коэффициент корреляции Пирсона к крайним значениям: 1 или -1, тем сильнее взаимозависимость. Если значение близко к нулю, значит связь слабая, либо отсутствует вовсе. Бывает, что коэффициент нулевой не потому, что связи между значениями нет, а из-за того, что у неё более сложный, не линейный характер. Потому-то коэффициент корреляции такую связь не берёт."
   ]
  },
  {
   "cell_type": "code",
   "execution_count": null,
   "metadata": {},
   "outputs": [],
   "source": [
    "print(hw['height'].corr(hw['weight']))\n",
    "print(hw['weight'].corr(hw['height'])) # поменяли местами рост и вес\n",
    "\n",
    "#0.5196907833692264\n",
    "#0.5196907833692264"
   ]
  },
  {
   "cell_type": "code",
   "execution_count": null,
   "metadata": {},
   "outputs": [],
   "source": [
    "print(hwa.corr())"
   ]
  },
  {
   "cell_type": "code",
   "execution_count": null,
   "metadata": {},
   "outputs": [],
   "source": [
    "#                    height    weight       age      male\n",
    "#height  1.000000  0.940822  0.683689  0.139229\n",
    "#weight  0.940822  1.000000  0.678335  0.155443\n",
    "#age     0.683689  0.678335  1.000000  0.005887\n",
    "#male    0.139229  0.155443  0.005887  1.000000"
   ]
  },
  {
   "cell_type": "code",
   "execution_count": null,
   "metadata": {},
   "outputs": [],
   "source": []
  },
  {
   "cell_type": "markdown",
   "metadata": {},
   "source": [
    "## Describe"
   ]
  },
  {
   "cell_type": "code",
   "execution_count": null,
   "metadata": {},
   "outputs": [],
   "source": [
    "print(data.describe())"
   ]
  },
  {
   "cell_type": "code",
   "execution_count": 9,
   "metadata": {},
   "outputs": [
    {
     "ename": "SyntaxError",
     "evalue": "invalid syntax (<ipython-input-9-3828b51b5370>, line 1)",
     "output_type": "error",
     "traceback": [
      "\u001b[1;36m  File \u001b[1;32m\"<ipython-input-9-3828b51b5370>\"\u001b[1;36m, line \u001b[1;32m1\u001b[0m\n\u001b[1;33m    count    3.0 # количество наблюдений в наборе данных\u001b[0m\n\u001b[1;37m               ^\u001b[0m\n\u001b[1;31mSyntaxError\u001b[0m\u001b[1;31m:\u001b[0m invalid syntax\n"
     ]
    }
   ],
   "source": [
    "count    3.0 # количество наблюдений в наборе данных\n",
    "mean     2.0 # среднее арифметическое\n",
    "std      1.0 # стандартное отклонение\n",
    "min      1.0 # минимальное значение\n",
    "25%      1.5 # первый квартиль\n",
    "50%      2.0 # медиана или второй квартиль\n",
    "75%      2.5 # третий квартиль\n",
    "max      3.0 # максимальное значение\n",
    "dtype: float64 # тип данных"
   ]
  },
  {
   "cell_type": "markdown",
   "metadata": {},
   "source": [
    "## Булев массив"
   ]
  },
  {
   "cell_type": "code",
   "execution_count": null,
   "metadata": {},
   "outputs": [],
   "source": [
    "#Пример\n",
    "print(df['From'] == 'Moscow')"
   ]
  },
  {
   "cell_type": "code",
   "execution_count": null,
   "metadata": {},
   "outputs": [],
   "source": [
    "#Пример\n",
    "print(df[df['From'] == 'Moscow']) # передаём булев массив как индекс датафрейма"
   ]
  },
  {
   "cell_type": "code",
   "execution_count": null,
   "metadata": {},
   "outputs": [],
   "source": [
    "#Пример\n",
    "print(df[df['Price'] < 21000])"
   ]
  },
  {
   "cell_type": "code",
   "execution_count": null,
   "metadata": {},
   "outputs": [],
   "source": [
    "#Пример\n",
    "df[df['Travel_time_to'] > df['Travel_time_from']]"
   ]
  },
  {
   "cell_type": "code",
   "execution_count": null,
   "metadata": {},
   "outputs": [],
   "source": [
    "#Пример\n",
    "#Чтобы проверить наличие конкретных значений в столбце, вызовем метод isin(). \n",
    "#Посмотрим, какие рейсы вылетают после 3 июля 2019:\n",
    "\n",
    "df[df['Date_From'].isin(('04.07.2019', '05.07.2019'))] # находим элементы столбца Date_From, равные 4 или 5 июля\n"
   ]
  },
  {
   "cell_type": "code",
   "execution_count": null,
   "metadata": {},
   "outputs": [],
   "source": [
    "#И Результат выполнения логической операции True, только если оба условия — True \n",
    "#(df['Is_Direct']) & (df['Price'] < 21000)\t&"
   ]
  },
  {
   "cell_type": "code",
   "execution_count": null,
   "metadata": {},
   "outputs": [],
   "source": [
    "#ИЛИ Результат выполнения — True, если хотя бы одно из условий — True \n",
    "#(df['Has_luggage']) ⎮ (df['Price'] < 20000)\t⎮"
   ]
  },
  {
   "cell_type": "code",
   "execution_count": null,
   "metadata": {},
   "outputs": [],
   "source": [
    "#НЕ Результат выполнения — True, если условие — False\n",
    "#~((df['Is_Direct']) ⎮ (df['Has_luggage']))\t~"
   ]
  },
  {
   "cell_type": "code",
   "execution_count": null,
   "metadata": {},
   "outputs": [],
   "source": [
    "#ПРИМЕР\n",
    "#Выберите дешёвые авиабилеты — те у которых цена меньше максимальной в полтора раза или ещё ниже.\n",
    "#Выведите на экран полученную выборку.\n",
    "import pandas as pd\n",
    "\n",
    "df = pd.DataFrame({\n",
    "    'From': ['Moscow', 'Moscow', 'St. Petersburg', 'St. Petersburg', 'St. Petersburg'], \n",
    "    'To': ['Rome', 'Rome', 'Rome', 'Barcelona', 'Barcelona'],\n",
    "    'Is_Direct': [False, True, False, False, True],\n",
    "\t\t'Has_luggage': [True, False, False, True, False],\n",
    "\t\t'Price': [21032, 19250, 19301, 20168, 31425],\n",
    "\t\t'Date_From': ['01.07.19', '01.07.19', '04.07.2019', '03.07.2019', '05.07.2019'],\n",
    "\t\t'Date_To': ['07.07.19', '07.07.19', '10.07.2019', '09.07.2019', '11.07.2019'],\n",
    "\t\t'Airline': ['Belavia', 'S7', 'Finnair', 'Swiss', 'Rossiya'],\n",
    "\t\t'Travel_time_from': [995, 230, 605, 365, 255],\n",
    "\t\t'Travel_time_to': [350, 225, 720, 355, 250],\n",
    "})\n",
    "filter_list = df['Price'].max() > df['Price'] * 1.5 \n",
    "\n",
    "print(df[filter_list]) # впишите нужное условие"
   ]
  },
  {
   "cell_type": "code",
   "execution_count": null,
   "metadata": {},
   "outputs": [],
   "source": [
    "#ПРИМЕР\n",
    "#Выберите строки, где значения столбца 'Travel_time_from' больше или равно 365, или значения 'Travel_time_to' меньше 250. \n",
    "#Результат выведите на экран.\n",
    "\n",
    "import pandas as pd\n",
    "\n",
    "df = pd.DataFrame({\n",
    "    'From': ['Moscow', 'Moscow', 'St. Petersburg', 'St. Petersburg', 'St. Petersburg'], \n",
    "    'To': ['Rome', 'Rome', 'Rome', 'Barcelona', 'Barcelona'],\n",
    "    'Is_Direct': [False, True, False, False, True],\n",
    "\t\t'Has_luggage': [True, False, False, True, False],\n",
    "\t\t'Price': [21032, 19250, 19301, 20168, 31425],\n",
    "\t\t'Date_From': ['01.07.19', '01.07.19', '04.07.2019', '03.07.2019', '05.07.2019'],\n",
    "\t\t'Date_To': ['07.07.19', '07.07.19', '10.07.2019', '09.07.2019', '11.07.2019'],\n",
    "\t\t'Airline': ['Belavia', 'S7', 'Finnair', 'Swiss', 'Rossiya'],\n",
    "\t\t'Travel_time_from': [995, 230, 605, 365, 255],\n",
    "\t\t'Travel_time_to': [350, 225, 720, 355, 250],\n",
    "})\n",
    "\n",
    "filtered_data = (df['Travel_time_from'] >= 365) | (df['Travel_time_to'] < 250)\n",
    "\n",
    "print(df[filtered_data]) # впишите нужное условие"
   ]
  },
  {
   "cell_type": "code",
   "execution_count": null,
   "metadata": {},
   "outputs": [],
   "source": [
    "#ПРИМЕР\n",
    "#Выберите строки, где:\n",
    "#Полёт с пересадкой;\n",
    "#Возвращение до 8 июля (ни 9, ни 10, ни 11 июля).\n",
    "#Результат выведите на экран.\n",
    "\n",
    "import pandas as pd\n",
    "\n",
    "df = pd.DataFrame({\n",
    "    'From': ['Moscow', 'Moscow', 'St. Petersburg', 'St. Petersburg', 'St. Petersburg'], \n",
    "    'To': ['Rome', 'Rome', 'Rome', 'Barcelona', 'Barcelona'],\n",
    "    'Is_Direct': [False, True, False, False, True],\n",
    "\t\t'Has_luggage': [True, False, False, True, False],\n",
    "\t\t'Price': [21032, 19250, 19301, 20168, 31425],\n",
    "\t\t'Date_From': ['01.07.19', '01.07.19', '04.07.2019', '03.07.2019', '05.07.2019'],\n",
    "\t\t'Date_To': ['07.07.19', '07.07.19', '10.07.2019', '09.07.2019', '11.07.2019'],\n",
    "\t\t'Airline': ['Belavia', 'S7', 'Finnair', 'Swiss', 'Rossiya'],\n",
    "\t\t'Travel_time_from': [995, 230, 605, 365, 255],\n",
    "\t\t'Travel_time_to': [350, 225, 720, 355, 250],\n",
    "})\n",
    "new_data = (df['Is_Direct'] == False) & ~(df['Date_To'].isin(('09.07.2019', '10.07.2019', '11.07.2019'))) \n",
    "print(df[new_data]) # впишите нужное условие"
   ]
  },
  {
   "cell_type": "markdown",
   "metadata": {},
   "source": [
    "## Query"
   ]
  },
  {
   "cell_type": "markdown",
   "metadata": {},
   "source": [
    "Необходимое условие для среза записывается в строке, которую передают как аргумент методу query(). А его применяют к датафрейму. В результате получаем нужный срез."
   ]
  },
  {
   "cell_type": "code",
   "execution_count": 10,
   "metadata": {},
   "outputs": [
    {
     "ename": "ModuleNotFoundError",
     "evalue": "No module named 'pandas'",
     "output_type": "error",
     "traceback": [
      "\u001b[1;31m---------------------------------------------------------------------------\u001b[0m",
      "\u001b[1;31mModuleNotFoundError\u001b[0m                       Traceback (most recent call last)",
      "\u001b[1;32m<ipython-input-10-4cbcf3966a06>\u001b[0m in \u001b[0;36m<module>\u001b[1;34m\u001b[0m\n\u001b[0;32m      1\u001b[0m \u001b[1;31m#ПРИМЕР\u001b[0m\u001b[1;33m\u001b[0m\u001b[1;33m\u001b[0m\u001b[0m\n\u001b[1;32m----> 2\u001b[1;33m \u001b[1;32mimport\u001b[0m \u001b[0mpandas\u001b[0m \u001b[1;32mas\u001b[0m \u001b[0mpd\u001b[0m\u001b[1;33m\u001b[0m\u001b[0m\n\u001b[0m\u001b[0;32m      3\u001b[0m \u001b[1;33m\u001b[0m\u001b[0m\n\u001b[0;32m      4\u001b[0m df = pd.DataFrame({\n\u001b[0;32m      5\u001b[0m     \u001b[1;34m'From'\u001b[0m\u001b[1;33m:\u001b[0m \u001b[1;33m[\u001b[0m\u001b[1;34m'Moscow'\u001b[0m\u001b[1;33m,\u001b[0m \u001b[1;34m'Moscow'\u001b[0m\u001b[1;33m,\u001b[0m \u001b[1;34m'St. Petersburg'\u001b[0m\u001b[1;33m,\u001b[0m \u001b[1;34m'St. Petersburg'\u001b[0m\u001b[1;33m,\u001b[0m \u001b[1;34m'St. Petersburg'\u001b[0m\u001b[1;33m]\u001b[0m\u001b[1;33m,\u001b[0m\u001b[1;33m\u001b[0m\u001b[0m\n",
      "\u001b[1;31mModuleNotFoundError\u001b[0m: No module named 'pandas'"
     ]
    }
   ],
   "source": [
    "#ПРИМЕР\n",
    "import pandas as pd\n",
    "\n",
    "df = pd.DataFrame({\n",
    "    'From': ['Moscow', 'Moscow', 'St. Petersburg', 'St. Petersburg', 'St. Petersburg'], \n",
    "    'To': ['Rome', 'Rome', 'Rome', 'Barcelona', 'Barcelona'],\n",
    "    'Is_Direct': [False, True, False, False, True],\n",
    "        'Has_luggage': [True, False, False, True, False],\n",
    "        'Price': [21032, 19250, 19301, 20168, 31425],\n",
    "        'Date_From': ['01.07.19', '01.07.19', '04.07.2019', '03.07.2019', '05.07.2019'],\n",
    "        'Date_To': ['07.07.19', '07.07.19', '10.07.2019', '09.07.2019', '11.07.2019'],\n",
    "        'Airline': ['Belavia', 'S7', 'Finnair', 'Swiss', 'Rossiya'],\n",
    "        'Travel_time_from': [995, 230, 605, 365, 255],\n",
    "        'Travel_time_to': [350, 225, 720, 355, 250],\n",
    "})\n",
    "print(df.query('To == \"Barcelona\"'))"
   ]
  },
  {
   "cell_type": "markdown",
   "metadata": {},
   "source": [
    "Условия, указанные в параметре query():\n",
    " - поддерживают разные операции сравнения: !=, >, >=, <, <=\n",
    " - проверяют, входят ли конкретные значения в список, конструкцией: Date_To in (\"07.07.19\", \"09.07.2019\"). Если нужно узнать,      нет ли в списке определённых значений, пишут так: Date_To not in (\"07.07.19\", \"09.07.2019\").\n",
    " - работают с логическими операторами в привычном виде, где «или» — or , «и» — and, «не» — not. Указывать условия в скобках   м    необязательно. Без скобок операции выполняются в следующем порядке: сначала not, потом and и, наконец, or.\n"
   ]
  },
  {
   "cell_type": "code",
   "execution_count": null,
   "metadata": {},
   "outputs": [],
   "source": [
    "#В строке query() проводят математические операции:\n",
    "df.query('Travel_time_from < 2 * Travel_time_to ')\n",
    "\n",
    "#вызывают методы\n",
    "df.query('Travel_time_from < Travel_time_to.mean()')\n",
    "\n",
    "#Когда вызываете внешнюю переменную (не из датафрейма), помечайте её знаком @\n",
    "maximum_price = 20000\n",
    "df.query('Price <= @maximum_price')"
   ]
  },
  {
   "cell_type": "code",
   "execution_count": null,
   "metadata": {},
   "outputs": [],
   "source": [
    "#ПРИМЕР\n",
    "#Выберите строки, где: Has_luggage равно False и Airline не равно ни S7, ни Rossiya. \n",
    "import pandas as pd\n",
    "\n",
    "df = pd.DataFrame({\n",
    "    'From': ['Moscow', 'Moscow', 'St. Petersburg', 'St. Petersburg', 'St. Petersburg'], \n",
    "    'To': ['Rome', 'Rome', 'Rome', 'Barcelona', 'Barcelona'],\n",
    "    'Is_Direct': [False, True, False, False, True],\n",
    "\t\t'Has_luggage': [True, False, False, True, False],\n",
    "\t\t'Price': [21032, 19250, 19301, 20168, 31425],\n",
    "\t\t'Date_From': ['01.07.19', '01.07.19', '04.07.2019', '03.07.2019', '05.07.2019'],\n",
    "\t\t'Date_To': ['07.07.19', '07.07.19', '10.07.2019', '09.07.2019', '11.07.2019'],\n",
    "\t\t'Airline': ['Belavia', 'S7', 'Finnair', 'Swiss', 'Rossiya'],\n",
    "\t\t'Travel_time_from': [995, 230, 605, 365, 255],\n",
    "\t\t'Travel_time_to': [350, 225, 720, 355, 250],\n",
    "})\n",
    "print(df.query('Has_luggage == False and Airline not in (\"S7\", \"Rossiya\")')) # впишите условие создания нужной выборки"
   ]
  },
  {
   "cell_type": "code",
   "execution_count": null,
   "metadata": {},
   "outputs": [],
   "source": [
    "#ПРИМЕР\n",
    "#Выберите строки, где Airline равно \"Belavia\", \"S7\" или \"Rossiya\", \n",
    "#при этом 'Travel_time_from' меньше переменной под названием max_time.\n",
    "import pandas as pd\n",
    "\n",
    "df = pd.DataFrame({\n",
    "    'From': ['Moscow', 'Moscow', 'St. Petersburg', 'St. Petersburg', 'St. Petersburg'], \n",
    "    'To': ['Rome', 'Rome', 'Rome', 'Barcelona', 'Barcelona'],\n",
    "    'Is_Direct': [False, True, False, False, True],\n",
    "\t\t'Has_luggage': [True, False, False, True, False],\n",
    "\t\t'Price': [21032, 19250, 19301, 20168, 31425],\n",
    "\t\t'Date_From': ['01.07.19', '01.07.19', '04.07.2019', '03.07.2019', '05.07.2019'],\n",
    "\t\t'Date_To': ['07.07.19', '07.07.19', '10.07.2019', '09.07.2019', '11.07.2019'],\n",
    "\t\t'Airline': ['Belavia', 'S7', 'Finnair', 'Swiss', 'Rossiya'],\n",
    "\t\t'Travel_time_from': [995, 230, 605, 365, 255],\n",
    "\t\t'Travel_time_to': [350, 225, 720, 355, 250],\n",
    "})\n",
    "max_time = 300\n",
    "print(df.query('Airline in (\"Belavia\", \"S7\", \"Rossiya\") and Travel_time_from < @max_time'))"
   ]
  },
  {
   "cell_type": "code",
   "execution_count": null,
   "metadata": {},
   "outputs": [],
   "source": [
    "#ПРИМЕР query+pivot+plot\n",
    "(data\n",
    "         .query('id == \"3c1e4c52\"')\n",
    "         .pivot_table(index='date_hour', values='time_spent', aggfunc='median')\n",
    "         .plot(grid=True, figsize=(12, 5))\n",
    ");"
   ]
  },
  {
   "cell_type": "markdown",
   "metadata": {},
   "source": [
    "Когда в переменной сохранён объект Series, конструкция a in @our_series проверит вхождение в список значений, а не индексов:"
   ]
  },
  {
   "cell_type": "code",
   "execution_count": null,
   "metadata": {},
   "outputs": [],
   "source": [
    "our_series=pd.Series([10,11,12])\n",
    "df = pd.DataFrame({\n",
    "    'a': [0, 1, 10, 11, 12],\n",
    "    'b': [5, 4, 3, 2, 1],\n",
    "    'c': ['X', 'Y', 'Y', 'Y', 'Z'],\n",
    "})\n",
    "print(df.query('a in @our_series')) # строим срез, в котором значения столбца 'a' равны значениям Series, но не их индексам"
   ]
  },
  {
   "cell_type": "markdown",
   "metadata": {},
   "source": [
    "Если нужно проверить вхождение в индекс, это указывают явно, дописывая index через точку: a in @our_series.index:"
   ]
  },
  {
   "cell_type": "code",
   "execution_count": null,
   "metadata": {},
   "outputs": [],
   "source": [
    "our_series = pd.Series([10,11,12])\n",
    "df = pd.DataFrame({\n",
    "    'a': [0, 1, 10, 11, 12],\n",
    "    'b': [5, 4, 3, 2, 1],\n",
    "    'c': ['X', 'Y', 'Y', 'Y', 'Z'],\n",
    "})\n",
    "print(df.query('a in @our_series.index')) # строим срез, в котором значения столбца 'a' равны индексам Series, т.е. 0, 1 или 2"
   ]
  },
  {
   "cell_type": "markdown",
   "metadata": {},
   "source": [
    "Когда имеют дело с объектом DataFrame, вхождение в индекс проверяют так же, как в Series — приписав index через точку к имени датафрейма:"
   ]
  },
  {
   "cell_type": "code",
   "execution_count": null,
   "metadata": {},
   "outputs": [],
   "source": [
    "df = pd.DataFrame({\n",
    "    'a': [0, 1, 10, 11, 12],\n",
    "    'b': [5, 4, 3, 2, 1],\n",
    "    'c': ['X', 'Y', 'Y', 'Y', 'Z'],\n",
    "})\n",
    "our_df = pd.DataFrame ({\n",
    "    'a1': [2, 4, 6],\n",
    "    'b1': [3, 2, 2],\n",
    "    'c1': ['A', 'B', 'C'],\n",
    "})\n",
    "print(df.query('a in @our_df.index')) # строим срез, в котором значения столбца 'a' равны индексам датафрейма our_df, т.е. 0, 1 или 2"
   ]
  },
  {
   "cell_type": "markdown",
   "metadata": {},
   "source": [
    "Для проверки вхождения в какой-либо столбец, передают его имя. Построим срез из значений столбца 'b' первого датафрейма, равных элементам столбца 'b1' второго датафрейма:\n"
   ]
  },
  {
   "cell_type": "code",
   "execution_count": null,
   "metadata": {},
   "outputs": [],
   "source": [
    "df = pd.DataFrame({\n",
    "    'a': [0, 1, 10, 11, 12],\n",
    "    'b': [5, 4, 3, 2, 1],\n",
    "    'c': ['X', 'Y', 'Y', 'Y', 'Z'],\n",
    "})\n",
    "our_df = pd.DataFrame ({\n",
    "    'a1': [2, 4, 6],\n",
    "    'b1': [3, 2, 2],\n",
    "    'c1': ['A', 'B', 'C'],\n",
    "})\n",
    "print(df.query('b in @our_df.b1')) # строим срез, в котором значения столбца 'b' равны значениям столбца b1 датафрейма our_df"
   ]
  },
  {
   "cell_type": "markdown",
   "metadata": {},
   "source": [
    "## Where"
   ]
  },
  {
   "cell_type": "markdown",
   "metadata": {},
   "source": [
    "Выборочно изменяют значения методом where() (от англ. «где»). Ему передают 2 параметра: условие для булева массива и новые значения. Если условие равно True, соответствующее ему значение не изменится; а если False — поменяется на второй параметр метода. Возьмём, к примеру, список покупок:\n"
   ]
  },
  {
   "cell_type": "code",
   "execution_count": null,
   "metadata": {},
   "outputs": [],
   "source": [
    "shopping = pd.Series(['молоко', 'хамон', 'хлеб', 'картошка', 'огурцы'])\n",
    "print(shopping) # список того, что нужно купить\n",
    "print()"
   ]
  },
  {
   "cell_type": "code",
   "execution_count": null,
   "metadata": {},
   "outputs": [],
   "source": [
    "#Создайте в station_stat_full новый столбец 'group_name', где для сетей АЗС из big_nets_stat названия останутся прежними, \n",
    "#а имена остальных измените на 'Другие'.\n",
    "station_stat_full['group_name'] = station_stat_full['name'].where(station_stat_full['name'].isin(big_nets_stat.index), 'Другие')"
   ]
  }
 ],
 "metadata": {
  "kernelspec": {
   "display_name": "Python 3",
   "language": "python",
   "name": "python3"
  },
  "language_info": {
   "codemirror_mode": {
    "name": "ipython",
    "version": 3
   },
   "file_extension": ".py",
   "mimetype": "text/x-python",
   "name": "python",
   "nbconvert_exporter": "python",
   "pygments_lexer": "ipython3",
   "version": "3.7.3"
  }
 },
 "nbformat": 4,
 "nbformat_minor": 2
}
