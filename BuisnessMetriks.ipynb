{
 "cells": [
  {
   "cell_type": "markdown",
   "metadata": {},
   "source": [
    "## Валовая прибыль. Оборот, себестоимость и маржинальность"
   ]
  },
  {
   "cell_type": "markdown",
   "metadata": {},
   "source": [
    "Например, компания «Василий и сыновья» продаёт беспроводные наушники. В 2018 году оборот компании насчитывал 1 000 000 рублей. Себестоимость товаров составила 300 000. На зарплаты ушло 100 000, на аренду и обслуживание офиса — 100 000. «Василий и сыновья» работают по упрощённой схеме налогообложения и платят 6% от оборота."
   ]
  },
  {
   "cell_type": "markdown",
   "metadata": {},
   "source": [
    "Разберём условие задачи по порядку.<br>\n",
    "<br>\n",
    "«Оборот компании насчитывал 1 000 000 рублей»<br>\n",
    "<b>Оборот, или выручка</b> — это сумма денег, которую клиенты заплатили компании. Например, цена одного товара — 10 рублей. Продали 10 единиц. Оборот равен: 10×10=100 рублей.<br>\n",
    "<br>\n",
    "«Себестоимость товаров составила 300 000»<br>\n",
    "<b>Себестоимость</b> — это деньги, которые компания заплатила за приобретение товара. Себестоимость есть не только у товаров, но и у услуг. Например, у таксиста затраты на бензин входят в себестоимость поездки пассажира.<br>\n",
    "<br>\n",
    "Зная оборот и себестоимость, можно рассчитать первый бизнес-показатель — <b>валовую прибыль</b>."
   ]
  },
  {
   "cell_type": "code",
   "execution_count": 1,
   "metadata": {},
   "outputs": [
    {
     "data": {
      "text/html": [
       "<img src=\"https://pictures.s3.yandex.net/resources/resschet_metrik_1571298621.jpg\"/>"
      ],
      "text/plain": [
       "<IPython.core.display.Image object>"
      ]
     },
     "execution_count": 1,
     "metadata": {},
     "output_type": "execute_result"
    }
   ],
   "source": [
    "from IPython.display import Image\n",
    "from IPython.core.display import HTML \n",
    "Image(url= \"https://pictures.s3.yandex.net/resources/resschet_metrik_1571298621.jpg\")"
   ]
  },
  {
   "cell_type": "markdown",
   "metadata": {},
   "source": [
    "Компания купила дешевле, продала дороже — вуаля, получилась валовая прибыль. Валовая прибыль — первый индикатор здоровья бизнеса, посчитать её проще и быстрее всего. Зная этот показатель, предприниматель может легко оценить, достаточно ли он продал товаров, чтобы заплатить зарплаты, аренду и налоги."
   ]
  },
  {
   "cell_type": "markdown",
   "metadata": {},
   "source": [
    "Валовая прибыль «Василия и сыновей» равна 1 000 000 - 300 000 = 700 000.\n"
   ]
  },
  {
   "cell_type": "markdown",
   "metadata": {},
   "source": [
    "Хотя есть исключения. Например, бутики часто распродают остатки прошлогодних коллекций себе в убыток. Бутики идут на это по двум причинам. Во-первых, они закладывают этот убыток в общую экономику сезона. Например, продают 1000 платьев с серьёзной прибылью, а оставшиеся 10 — с небольшим убытком. Общая прибыль всё равно остаётся на приемлемом уровне. Во-вторых, быстро распродав предыдущую коллекцию, бутики освобождают место на складе и прилавках для новых товаров, на которых могут заработать больше.\n"
   ]
  },
  {
   "cell_type": "markdown",
   "metadata": {},
   "source": [
    "Ещё пример. Бывает, компании продают товар ниже себестоимости, чтобы «подсадить» клиента на свои услуги или поддержку. Так произошло с игровой приставкой Xbox. Microsoft удалось захватить значительную долю рынка благодаря тому, что Xbox стоила значительно дешевле, чем доминирующая тогда Sony Playstation. При этом всю прибыль Microsoft получали с продажи игр, а не приставок.\n"
   ]
  },
  {
   "cell_type": "markdown",
   "metadata": {},
   "source": [
    "Отношение валовой прибыли к выручке называют <b>валовой маржинальностью или валовой рентабельностью</b>."
   ]
  },
  {
   "cell_type": "code",
   "execution_count": 2,
   "metadata": {},
   "outputs": [
    {
     "data": {
      "text/html": [
       "<img src=\"https://pictures.s3.yandex.net/resources/resschet_metrik-1_1571298830.jpg\"/>"
      ],
      "text/plain": [
       "<IPython.core.display.Image object>"
      ]
     },
     "execution_count": 2,
     "metadata": {},
     "output_type": "execute_result"
    }
   ],
   "source": [
    "from IPython.display import Image\n",
    "from IPython.core.display import HTML \n",
    "Image(url= \"https://pictures.s3.yandex.net/resources/resschet_metrik-1_1571298830.jpg\")"
   ]
  },
  {
   "cell_type": "markdown",
   "metadata": {},
   "source": [
    "Например, валовая маржинальность «Василия и сыновей» равна 700 000 / 1 000 000 = 70%. То есть только 70% выручки остаётся в компании. Маржинальность стоит считать для разных товаров и категорий: так проще понять, на продаже каких продуктов компании следует сосредоточиться."
   ]
  },
  {
   "cell_type": "markdown",
   "metadata": {},
   "source": [
    "## Операционные расходы и операционная прибыль\n"
   ]
  },
  {
   "cell_type": "markdown",
   "metadata": {},
   "source": [
    "К сожалению, валовая прибыль — ещё не заработок владельцев. Вы уже обратили внимание, что зарплаты и аренду не включают в себестоимость. Для таких затрат предусмотрена отдельная категория — <b>операционные расходы</b>. Это все затраты, связанные с основной деятельностью компании: зарплаты, аренда, расходы на электричество и интернет.\n"
   ]
  },
  {
   "cell_type": "markdown",
   "metadata": {},
   "source": [
    "Если вычесть из валовой прибыли операционные расходы, получим операционную прибыль.\n"
   ]
  },
  {
   "cell_type": "code",
   "execution_count": 3,
   "metadata": {},
   "outputs": [
    {
     "data": {
      "text/html": [
       "<img src=\"https://pictures.s3.yandex.net/resources/resschet_metrik-3_1571298770.jpg\"/>"
      ],
      "text/plain": [
       "<IPython.core.display.Image object>"
      ]
     },
     "execution_count": 3,
     "metadata": {},
     "output_type": "execute_result"
    }
   ],
   "source": [
    "from IPython.display import Image\n",
    "from IPython.core.display import HTML \n",
    "Image(url= \"https://pictures.s3.yandex.net/resources/resschet_metrik-3_1571298770.jpg\")"
   ]
  },
  {
   "cell_type": "markdown",
   "metadata": {},
   "source": [
    "Операционная прибыль позволяет оценить общую эффективность бизнеса — узнать, сколько компания зарабатывает на своей основной деятельности. За очень редкими исключениями операционная прибыль коррелирует с чистой прибылью: чем больше операционная, тем больше и чистая. При этом операционную прибыль считать быстрее и проще.\n"
   ]
  },
  {
   "cell_type": "markdown",
   "metadata": {},
   "source": [
    "Если операционная прибыль отрицательная, это <b>операционный убыток</b>. Он показывает, что пока что владельцы бизнеса не могут «достать» из него деньги. Но, как и отрицательная валовая прибыль, операционный убыток не означает, что всё пропало. Часто компания бывает <b>планово-убыточной</b>, потому что инвестирует всю прибыль в бурный рост. Например, компания Amazon была такой в течение многих лет, а потом её основатель Джеф Безос стал самым богатым человеком на планете.\n"
   ]
  },
  {
   "cell_type": "markdown",
   "metadata": {},
   "source": [
    "Если поделить операционную прибыль на выручку, получится <b>операционная маржинальность</b>. Это доля выручки, которая остаётся в компании после вычета себестоимости, зарплат, аренды, маркетинга и других расходов, связанных с основной деятельностью. Инвесторам часто интересна именно операционная маржинальность — она позволяет сравнить разные бизнесы.\n"
   ]
  },
  {
   "cell_type": "markdown",
   "metadata": {},
   "source": [
    "<b>Операционная маржинальность = Операционная прибыль / Выручка</b>\n"
   ]
  },
  {
   "cell_type": "markdown",
   "metadata": {},
   "source": [
    "## Чистая прибыль "
   ]
  },
  {
   "cell_type": "markdown",
   "metadata": {},
   "source": [
    "Ни выручка, ни операционная прибыль не показывают, сколько денег зарабатывает компания на самом деле. Все затраты компании — себестоимость, операционные расходы и обязательства перед государством и кредиторами — учитывает показатель <b>чистой прибыли</b>. Чистая прибыль — именно та сумма, которую владельцы бизнеса могут забрать себе или реинвестировать в развитие компании."
   ]
  },
  {
   "cell_type": "code",
   "execution_count": 4,
   "metadata": {},
   "outputs": [
    {
     "data": {
      "text/html": [
       "<img src=\"https://pictures.s3.yandex.net/resources/resschet_metrik-4_1571299371.jpg\"/>"
      ],
      "text/plain": [
       "<IPython.core.display.Image object>"
      ]
     },
     "execution_count": 4,
     "metadata": {},
     "output_type": "execute_result"
    }
   ],
   "source": [
    "from IPython.display import Image\n",
    "from IPython.core.display import HTML \n",
    "Image(url= \"https://pictures.s3.yandex.net/resources/resschet_metrik-4_1571299371.jpg\")"
   ]
  },
  {
   "cell_type": "markdown",
   "metadata": {},
   "source": [
    "К сожалению, чистую прибыль можно посчитать только в конце года, когда определяются все обязательства по налогам и кредитам. Поэтому для ежедневного управления компанией находят валовую и операционную прибыль, а чистую оставляют до ежегодного собрания акционеров.\n"
   ]
  },
  {
   "cell_type": "markdown",
   "metadata": {},
   "source": [
    "Отрицательная чистая прибыль называется <b>чистым убытком</b>. Как и другие виды убытка, этот показывает, что компания не смогла заработать денег.\n"
   ]
  },
  {
   "cell_type": "code",
   "execution_count": 5,
   "metadata": {},
   "outputs": [
    {
     "data": {
      "text/html": [
       "<img src=\"https://pictures.s3.yandex.net/resources/resschet_metrik_1567764540.jpg\"/>"
      ],
      "text/plain": [
       "<IPython.core.display.Image object>"
      ]
     },
     "execution_count": 5,
     "metadata": {},
     "output_type": "execute_result"
    }
   ],
   "source": [
    "from IPython.display import Image\n",
    "from IPython.core.display import HTML \n",
    "Image(url= \"https://pictures.s3.yandex.net/resources/resschet_metrik_1567764540.jpg\")"
   ]
  },
  {
   "cell_type": "markdown",
   "metadata": {},
   "source": [
    "## Возврат на инвестиции\n"
   ]
  },
  {
   "cell_type": "code",
   "execution_count": 6,
   "metadata": {},
   "outputs": [
    {
     "data": {
      "text/html": [
       "<img src=\"https://pictures.s3.yandex.net/resources/roi_1571301727.jpg\"/>"
      ],
      "text/plain": [
       "<IPython.core.display.Image object>"
      ]
     },
     "execution_count": 6,
     "metadata": {},
     "output_type": "execute_result"
    }
   ],
   "source": [
    "from IPython.display import Image\n",
    "from IPython.core.display import HTML \n",
    "Image(url= \"https://pictures.s3.yandex.net/resources/roi_1571301727.jpg\")"
   ]
  },
  {
   "cell_type": "markdown",
   "metadata": {},
   "source": [
    "Например, инвестор Семён Семёнович вложил в постройку фабрики роликовых коньков 1 миллиард рублей. Фабрику строили 2 года, ещё год ушёл на запуск и отладку производства. Спустя год работы фабрика заработала 200 миллионов рублей чистой прибыли.\n"
   ]
  },
  {
   "cell_type": "markdown",
   "metadata": {},
   "source": [
    "Текущий ROI вложений Семёна Семёновича = (200 миллионов - 1 миллиард) / 1 миллиард = −80%. То есть 80% его вложений пока не окупились."
   ]
  },
  {
   "cell_type": "markdown",
   "metadata": {},
   "source": [
    "## Возврат на инвестиции в маркетинг\n"
   ]
  },
  {
   "cell_type": "code",
   "execution_count": 7,
   "metadata": {},
   "outputs": [
    {
     "data": {
      "text/html": [
       "<img src=\"https://pictures.s3.yandex.net/resources/roi_2_1571301765.jpg\"/>"
      ],
      "text/plain": [
       "<IPython.core.display.Image object>"
      ]
     },
     "execution_count": 7,
     "metadata": {},
     "output_type": "execute_result"
    }
   ],
   "source": [
    "from IPython.display import Image\n",
    "from IPython.core.display import HTML \n",
    "Image(url= \"https://pictures.s3.yandex.net/resources/roi_2_1571301765.jpg\")"
   ]
  },
  {
   "cell_type": "markdown",
   "metadata": {},
   "source": [
    "Чтобы не путать окупаемость бизнеса с окупаемостью маркетинга, вместо ROI рассчитывают <b>ROMI</b> (от англ. return on marketing investments, **«возврат на маркетинговые инвестиции»)."
   ]
  },
  {
   "cell_type": "markdown",
   "metadata": {},
   "source": [
    "Например, разработчики мобильной игры потратили на рекламу 100 000 рублей, привлекли 2000 пользователей, купивших игровой валюты на 150 000 рублей.<br>\n",
    "<br>\n",
    "ROMI = (150 000 − 100 000) / 100 000 = 50%. Бизнес получил прибыль в 50% с этих вложений."
   ]
  },
  {
   "cell_type": "markdown",
   "metadata": {},
   "source": [
    "На практике ROMI считают по упрощённой формуле:<br>\n",
    "<br>\n",
    "<b>ROMI рекламной кампании = валовая прибыль из этой кампании / затраты.</b>\n",
    "\n"
   ]
  },
  {
   "cell_type": "markdown",
   "metadata": {},
   "source": [
    "сли придерживаться этой формулы, точка окупаемости будет не в ROMI = 0%, а в ROMI = 100%. Такой показатель означает, что затраты окупились на 100%."
   ]
  },
  {
   "cell_type": "markdown",
   "metadata": {},
   "source": [
    "ROMI рекламной кампании мобильной игры по упрощённой формуле равен: 150 000 / 100 000 = 150%. То есть затраты окупились на 100% и принесли ещё 50% прибыли сверху."
   ]
  },
  {
   "cell_type": "markdown",
   "metadata": {},
   "source": [
    "## Конверсии"
   ]
  },
  {
   "cell_type": "markdown",
   "metadata": {},
   "source": [
    "<b>Конверсия</b> — это доля людей, перешедших из одного состояния в другое. Например, доля посетителей, зашедших в магазин и ставших покупателями."
   ]
  },
  {
   "cell_type": "markdown",
   "metadata": {},
   "source": [
    "## Воронки"
   ]
  },
  {
   "cell_type": "markdown",
   "metadata": {},
   "source": [
    "Вы анализируете эффективность интернет-магазина. Измерили: из 10 000 посетителей сайта 100 что-нибудь купили. Конверсия равна 1%. К сожалению, знание этого показателя не отвечает на вопрос, что нужно сделать для увеличения продаж. Чтобы разобраться в этом, маркетологи и аналитики строят воронки.\n"
   ]
  },
  {
   "cell_type": "markdown",
   "metadata": {},
   "source": [
    "Воронка — способ отобразить:<br>\n",
    "1) путь, который проходит пользователь, чтобы купить товар;<br>\n",
    "2) долю людей, которые переходят на следующий этап, или «не отваливаются».<br>\n",
    "<br>\n",
    "Например, в интернет-магазине пользователь совершил такие шаги:<br>\n",
    "Зашёл на главную страницу магазина<br>\n",
    "Перешёл на страницу товара<br>\n",
    "Добавил товар в корзину<br>\n",
    "Перешёл на страницу оформления заказа<br>\n",
    "Оплатил заказ"
   ]
  },
  {
   "cell_type": "markdown",
   "metadata": {},
   "source": [
    "Чтобы построить воронку, надо измерить, сколько людей добралось до каждого этапа. 10 000 пользователей открыли главную страницу сайта, из них 8000 перешли на страницу товара. В корзину его добавили 3000 пользователей, из которых только тысяча дошла до страницы оформления. Заказом завершился путь сотни людей:\n"
   ]
  },
  {
   "cell_type": "code",
   "execution_count": 8,
   "metadata": {},
   "outputs": [
    {
     "data": {
      "text/html": [
       "<img src=\"https://pictures.s3.yandex.net/resources/etap_1567685703.jpg\"/>"
      ],
      "text/plain": [
       "<IPython.core.display.Image object>"
      ]
     },
     "execution_count": 8,
     "metadata": {},
     "output_type": "execute_result"
    }
   ],
   "source": [
    "from IPython.display import Image\n",
    "from IPython.core.display import HTML \n",
    "Image(url= \"https://pictures.s3.yandex.net/resources/etap_1567685703.jpg\")"
   ]
  },
  {
   "cell_type": "code",
   "execution_count": 9,
   "metadata": {},
   "outputs": [
    {
     "data": {
      "text/html": [
       "<img src=\"https://pictures.s3.yandex.net/resources/voronka_1571299897.jpg\"/>"
      ],
      "text/plain": [
       "<IPython.core.display.Image object>"
      ]
     },
     "execution_count": 9,
     "metadata": {},
     "output_type": "execute_result"
    }
   ],
   "source": [
    "from IPython.display import Image\n",
    "from IPython.core.display import HTML \n",
    "Image(url= \"https://pictures.s3.yandex.net/resources/voronka_1571299897.jpg\")"
   ]
  },
  {
   "cell_type": "markdown",
   "metadata": {},
   "source": [
    "Зная количество людей на каждом этапе, во-первых, можно посчитать долю дошедших до определённого шага. А во-вторых, долю сделавших каждый следующий шаг:\n"
   ]
  },
  {
   "cell_type": "code",
   "execution_count": 10,
   "metadata": {},
   "outputs": [
    {
     "data": {
      "text/html": [
       "<img src=\"https://pictures.s3.yandex.net/resources/konversiya_1567685794.jpg\"/>"
      ],
      "text/plain": [
       "<IPython.core.display.Image object>"
      ]
     },
     "execution_count": 10,
     "metadata": {},
     "output_type": "execute_result"
    }
   ],
   "source": [
    "from IPython.display import Image\n",
    "from IPython.core.display import HTML \n",
    "Image(url= \"https://pictures.s3.yandex.net/resources/konversiya_1567685794.jpg\")"
   ]
  },
  {
   "cell_type": "markdown",
   "metadata": {},
   "source": [
    "Итоговая конверсия — это отношение количества посетителей в данном шаге к количеству посетителей на первом шаге. Конверсия в следующий шаг — отношения количества посетителей в данном шаге к количеству посетителей в предыдущем шаге. Эта небольшая таблица — источник множества выводов и гипотез. Например, только у одного из 10 человек, начавших оформлять заказ, получилось его осуществить. Что-то не так со страницей оплаты?\n"
   ]
  },
  {
   "cell_type": "markdown",
   "metadata": {},
   "source": [
    "## Маркетинговая воронка: группировка по неделям и месяцам\n"
   ]
  },
  {
   "cell_type": "markdown",
   "metadata": {},
   "source": [
    "Вы посчитали воронку за каждый день. Дневные метрики полезны, если нужно узнать, «что происходило в субботу». Однако если вы хотите увидеть закономерности на более длинном периоде — в таких данных слишком много шума."
   ]
  },
  {
   "cell_type": "markdown",
   "metadata": {},
   "source": [
    "На «шумных» данных увидеть закономерности трудно. Чтобы избавиться от шума, метрики укрупняют, например, группируют по неделям. Разберёмся, как это сделать.\n"
   ]
  },
  {
   "cell_type": "code",
   "execution_count": null,
   "metadata": {},
   "outputs": [],
   "source": [
    "        date  clicks  regs  cr, %\n",
    "0  2019-01-01    2000    36   1.80\n",
    "1  2019-01-02   10000    26   0.26\n",
    "2  2019-01-03    1000    15   1.50\n",
    "3  2019-01-04    4000     4   0.10\n",
    "4  2019-01-05    5000    24   0.48\n",
    "5  2019-01-06    2000    66   3.30\n",
    "6  2019-01-07    1000     2   0.20\n",
    "7  2019-01-08    1500     2   0.13"
   ]
  },
  {
   "cell_type": "markdown",
   "metadata": {},
   "source": [
    "Первым на ум приходит такой алгоритм:<br>\n",
    "- Добавить в датафрейм колонку «неделя»;<br>\n",
    "- Сгруппировать датафрейм по этой колонке;<br>\n",
    "- Посчитать средние значения конверсий по неделям."
   ]
  },
  {
   "cell_type": "code",
   "execution_count": null,
   "metadata": {},
   "outputs": [],
   "source": [
    "funnel['week'] = funnel['date'].dt.week\n",
    "print(df.groupby('week')['cr, %'].mean())"
   ]
  },
  {
   "cell_type": "code",
   "execution_count": null,
   "metadata": {},
   "outputs": [],
   "source": [
    "week\n",
    "36    1.091429\n",
    "Name: cr, %, dtype: float64"
   ]
  },
  {
   "cell_type": "markdown",
   "metadata": {},
   "source": [
    "Это неверный подход. Точнее, первые два шага правильные, а вот третий — ошибка. Вот как нужно:<br>\n",
    "- Добавить в датафрейм колонку «неделя»;<br>\n",
    "- Сгруппировать датафрейм по этой колонке;<br>\n",
    "- Просуммировать количество показов, кликов и регистраций для каждой недели;<br>\n",
    "- Пересчитать конверсию по неделям."
   ]
  },
  {
   "cell_type": "markdown",
   "metadata": {},
   "source": [
    "Усредняя средние значения, теряем важную информацию — число переходов. Так, мы придаём одинаковую значимость конверсии за 2 января, когда на сайт зашли 10000 человек, и конверсии за 7 января, когда на сайте было всего 1000.\n"
   ]
  },
  {
   "cell_type": "code",
   "execution_count": null,
   "metadata": {},
   "outputs": [],
   "source": [
    "funnel['week'] = funnel['date'].dt.week\n",
    "funnel_update = funnel.groupby('week')[['regs', 'clicks']].sum()\n",
    "print(funnel_update['regs'] / funnel_update['clicks'] * 100)"
   ]
  },
  {
   "cell_type": "code",
   "execution_count": null,
   "metadata": {},
   "outputs": [],
   "source": [
    "week\n",
    "36    0.692\n",
    "dtype: float64"
   ]
  },
  {
   "cell_type": "markdown",
   "metadata": {},
   "source": [
    "Этот подход работает для любых относительных метрик — таких, когда одно число делят на другое. Сначала суммируете и только потом делите."
   ]
  },
  {
   "cell_type": "code",
   "execution_count": null,
   "metadata": {},
   "outputs": [],
   "source": [
    "#Найдите значения CTR и CR по неделям.\n",
    "#Загрузите данные о ежедневных конверсиях из файла /datasets/funnel_daily.csv и \n",
    "#сохраните в переменной funnel_daily. Переведите значения столбца funnel_daily['date'] в формат datetime. \n",
    "#Добавьте столбец funnel_daily['week'], в котором посчитайте номер недели для соответствующей даты.\n",
    "#Посчитайте понедельный CTR и CR. Результат сохраните в переменной funnel_weekly.\n",
    "\n",
    "import pandas as pd\n",
    "\n",
    "funnel_daily = pd.read_csv('/datasets/funnel_daily.csv')\n",
    "\n",
    "funnel_daily['date'] = pd.to_datetime(funnel_daily['date'])\n",
    "funnel_daily['week'] = funnel_daily['date'].dt.week\n",
    "\n",
    "funnel_weekly = funnel_daily.groupby('week')[['impressions', 'clicks', 'registrations']].sum()\n",
    "funnel_weekly['ctr, %'] = funnel_weekly['clicks'] / funnel_weekly['impressions'] * 100\n",
    "funnel_weekly['cr, %'] = funnel_weekly['registrations'] / funnel_weekly['clicks'] * 100\n",
    "\n",
    "print(funnel_weekly)\n",
    "______________________________________________________________\n",
    "      impressions  clicks  registrations    ctr, %     cr, %\n",
    "week                                                        \n",
    "31          28351     264             23  0.931184  8.712121\n",
    "32          57031     503             43  0.881976  8.548708\n",
    "33          57184     471             39  0.823657  8.280255\n",
    "34          49911     424             37  0.849512  8.726415\n",
    "35          34956     307             25  0.878247  8.143322"
   ]
  },
  {
   "cell_type": "code",
   "execution_count": null,
   "metadata": {},
   "outputs": [],
   "source": [
    "#Прочитайте данные о расходах на рекламу /datasets/ad_data_2.csv и сохраните в переменной ad_data. \n",
    "#Данные о регистрациях: /datasets/site_data_2.csv — в переменной site_data.\n",
    "#Методом merge() объедините ad_data и site_data по столбцу 'date'. \n",
    "#Сохраните полученный датафрейм с дневными воронками в переменной funnel_daily. В funnel_daily создайте столбцы 'week' и 'month'.\n",
    "#В столбцах сохраните порядковые номера недель и месяцев, полученные методами dt.week и dt.month, соответственно.\n",
    "#Недельную воронку сохраните в funnel_weekly. Сгруппируйте данные funnel_daily методом groupby() по столбцу 'week'. \n",
    "#Данные столбцов ['impressions', 'clicks', 'registrations'] просуммируйте внутри группировки.\n",
    "#Постройте месячную воронку аналогично недельной. Сохраните в переменной funnel_monthly\n",
    "#В каждой из трёх воронок — дневной, недельной и месячной — посчитайте CTR и CR. \n",
    "#Результат сохраните в столбцах 'ctr, %', 'cr, %', соответственно. Выведите на экран месячную воронку.\n",
    "\n",
    "import pandas as pd\n",
    "\n",
    "ad_data = pd.read_csv('/datasets/ad_data_2.csv')\n",
    "site_data = pd.read_csv('/datasets/site_data_2.csv')\n",
    "\n",
    "funnel_daily = ad_data.merge(site_data, on='date')\n",
    "funnel_daily['date'] = pd.to_datetime(funnel_daily['date'])\n",
    "funnel_daily['week'] = funnel_daily['date'].dt.week\n",
    "funnel_daily['month'] = funnel_daily['date'].dt.month\n",
    "\n",
    "funnel_weekly = funnel_daily.groupby('week')[['impressions', 'clicks', 'registrations']].sum()\n",
    "funnel_monthly = funnel_daily.groupby('month')[['impressions', 'clicks', 'registrations']].sum()\n",
    "\n",
    "funnel_daily['ctr, %'] = funnel_daily['clicks'] / funnel_daily['impressions'] * 100\n",
    "funnel_daily['cr, %'] = funnel_daily['registrations'] / funnel_daily['clicks'] * 100\n",
    "funnel_weekly['ctr, %'] = funnel_weekly['clicks'] / funnel_weekly['impressions'] * 100\n",
    "funnel_weekly['cr, %'] = funnel_weekly['registrations'] / funnel_weekly['clicks'] * 100\n",
    "funnel_monthly['ctr, %'] = funnel_monthly['clicks'] / funnel_monthly['impressions'] * 100\n",
    "funnel_monthly['cr, %'] = funnel_monthly['registrations'] / funnel_monthly['clicks'] * 100\n",
    "\n",
    "print(funnel_monthly)\n",
    "________________________________\n",
    "       impressions  clicks  registrations    ctr, %     cr, %\n",
    "month                                                        \n",
    "1           197929    1462            118  0.738649  8.071135\n",
    "2           188815    1447            103  0.766359  7.118176\n",
    "3           214317    1710            122  0.797884  7.134503"
   ]
  },
  {
   "cell_type": "markdown",
   "metadata": {},
   "source": [
    "## Простая продуктовая воронка"
   ]
  },
  {
   "cell_type": "markdown",
   "metadata": {},
   "source": [
    "Отличие в информации, на основе которой составляют воронку. Маркетинговые данные, как правило, агрегированные: количество показов, кликов, регистраций за каждый день. Они похожи на результаты социологического опроса.<br>\n",
    "<br>\n",
    "Продуктовые данные обычно «сырые». Каждая строчка в таблице — это индивидуальное событие, например, «пользователь №42 открыл страницу сайта». Больше напоминает анкету определённого респондента соцопроса."
   ]
  },
  {
   "cell_type": "markdown",
   "metadata": {},
   "source": [
    "Например, интернет-магазин ищет точки роста продаж. Воронка состоит из 4 шагов:<br>\n",
    "- Потенциальные клиенты приходят на сайт;<br>\n",
    "- Добавляют в корзину товары;<br>\n",
    "- Оформляют заказ;<br>\n",
    "- Оплачивают покупку."
   ]
  },
  {
   "cell_type": "markdown",
   "metadata": {},
   "source": [
    "В разных системах логи событий различаются, но везде есть 3 обязательных столбца: название события (event_name), дата и время события (event_time) и идентификатор пользователя, с которым это событие произошло (uid)."
   ]
  },
  {
   "cell_type": "code",
   "execution_count": null,
   "metadata": {},
   "outputs": [],
   "source": [
    "events_count = events.groupby('event_name').agg({'uid': 'count'})\n",
    "print(events_count)\n",
    "\n",
    "event_name       uid\n",
    "pageview     1084       \n",
    "add_to_card  1233\n",
    "checkout      714\n",
    "payment       253"
   ]
  },
  {
   "cell_type": "markdown",
   "metadata": {},
   "source": [
    "Событие pageview (от англ. «просмотр страницы») сработало 1084 раз, а событие add_to_cart (от англ. «добавление в корзину») — 1233 раза. Однако пользователь должен был «сначала зайти на сайт, потом добавить товар в корзину», то есть добавлений в корзину никак не может быть больше просмотров страницы.<br>\n",
    "<br>\n",
    "Отгадка в том, что событие не равно пользователю. Один человек может добавить в корзину несколько товаров.<br>\n",
    "<br>\n",
    "Раз в воронке нужно измерять долю пользователей, переделаем отчёт. Чтобы посчитать количество уникальных людей в каждой группе, при агрегации вызовем метод <b>nunique</b> (от англ. number of unique elements, «число уникальных элементов»). Он находит число уникальных элементов в множестве. Отсортируем вывод по убыванию:"
   ]
  },
  {
   "cell_type": "code",
   "execution_count": null,
   "metadata": {},
   "outputs": [],
   "source": [
    "users_count = events.groupby('event_name').agg({'uid': 'nunique'})\n",
    "print(users_count.sort_values(by = 'uid', ascending=False))\n",
    "\n",
    "event_name     uid  \n",
    "pageview     1084\n",
    "add_to_card   802\n",
    "checkout      272\n",
    "payment        97"
   ]
  },
  {
   "cell_type": "markdown",
   "metadata": {},
   "source": [
    "Теперь видно, сколько людей дошло до каждого этапа воронки. 80% зашедших на сайт пользователей добавили товар в корзину. Однако из 272 начавших оформлять заказ только 97 его оплатили. Кажется, на этом шаге можно добиться существенного улучшения."
   ]
  },
  {
   "cell_type": "markdown",
   "metadata": {},
   "source": [
    "## Продуктовая воронка с учётом последовательности событий\n"
   ]
  },
  {
   "cell_type": "markdown",
   "metadata": {},
   "source": [
    "Бывает нужно изучить детали перехода с этапа на этап. Например, установить долю пользователей, которые заходят на сайт, пишут в чате, и только потом регистрируются.<br>\n",
    "<br>\n",
    "Чтобы решить эту задачу, нужно сначала по каждому пользователю посчитать, в какое время он впервые совершил определённое событие. Затем найти тех, чьи события происходили в нужном порядке."
   ]
  },
  {
   "cell_type": "code",
   "execution_count": null,
   "metadata": {},
   "outputs": [],
   "source": [
    "users = events.pivot_table(\n",
    "        index='uid', \n",
    "        columns='event_name', \n",
    "        values='event_time',\n",
    "        aggfunc='min')\n",
    "\n",
    "uid            \n",
    "event_name    add_to_cart    checkout    pageview              payment            \n",
    "2554      2019-04-05  05:52:14      NaN         2019-04-05 05:52:32    NaN\n",
    "14878      2019-05-05  16:09:51      NaN         2019-05-05 16:06:22    NaN\n",
    "125581    2019-02-23  14:24:25      NaN         2019-02-23 14:25:09    NaN\n",
    "129688    2019-03-10  03:51:19      NaN         2019-03-10 03:49:36    NaN\n",
    "445788    2019-07-10  01:45:17      NaN         2019-07-10 01:42:28    NaN"
   ]
  },
  {
   "cell_type": "markdown",
   "metadata": {},
   "source": [
    "Каждая строка таблицы — пользователь. В столбцах — время первого срабатывания каждого события. Если события из категории не случалось, в его ячейке — NaN.<br>\n",
    "<br>\n",
    "Например, пользователь 129688 в первый раз зашёл на сайт (событие pageview) 10 марта в 3:49. Впервые добавил товар в корзину (событие add_to_cart) две минуты спустя, в 3:51.<br>\n",
    "<br>\n",
    "А вот данные пользователя 2554 вызывают вопросы: впервые зашёл на сайт 5 апреля в 5:52:32, а товар добавил в корзину в 5:52:14, за 18 секунд до предположительного захода на сайт! Такие сбои бывают в любой аналитической системе — о них обязательно нужно сообщить коллегам.<br>\n",
    "<br>\n",
    "Узнаем, сколько пользователей переходило с этапа на этап. Посчитаем количество зашедших на сайт. Найдём число строк таблицы users, где в столбце pageview не пустое значение."
   ]
  },
  {
   "cell_type": "code",
   "execution_count": null,
   "metadata": {},
   "outputs": [],
   "source": [
    "n_pageview = users[~users['pageview'].isna()].shape[0]\n",
    "print('Посетителей:', n_pageview)\n",
    "\n",
    "Посетителей: 1084"
   ]
  },
  {
   "cell_type": "markdown",
   "metadata": {},
   "source": [
    "Определим, сколько людей из тех, кто заходил на сайт, добавили хотя бы один товар в корзину. Тех, у кого, во-первых, есть дата посещения сайта, а во-вторых, дата события «товар добавлен в корзину» позже даты первого захода на сайт."
   ]
  },
  {
   "cell_type": "code",
   "execution_count": null,
   "metadata": {},
   "outputs": [],
   "source": [
    "n_add_to_cart = users[~users['pageview'].isna() & (users['add_to_cart'] > users['pageview'])].shape[0]\n",
    "print('Добавили товара в корзину:', n_add_to_cart)\n",
    "\n",
    "Добавили товара в корзину: 637"
   ]
  },
  {
   "cell_type": "markdown",
   "metadata": {},
   "source": [
    "Аналогично добавим остальные шаги и получим воронку. Чтобы код был читаемым, вынесем условия каждого шага в соответствующие переменные. Обратите внимание, новые условия добавляются к предыдущему шагу:\n"
   ]
  },
  {
   "cell_type": "code",
   "execution_count": null,
   "metadata": {},
   "outputs": [],
   "source": [
    "step_1 = ~users['pageview'].isna()\n",
    "step_2 = step_1 & (users['add_to_cart'] > users['pageview'])\n",
    "step_3 = step_2 & (users['checkout'] > users['add_to_cart'])\n",
    "step_4 = step_3 & (users['payment'] > users['checkout'])\n",
    "\n",
    "n_pageview = users[step_1].shape[0]\n",
    "n_add_to_cart = users[step_2].shape[0]\n",
    "n_checkout = users[step_3].shape[0]\n",
    "n_payment = users[step_4].shape[0]\n",
    "\n",
    "print('Посетителей:', n_pageview)\n",
    "print('Добавили товара в корзину:', n_add_to_cart)\n",
    "print('Начали оформлять заказ:', n_checkout)\n",
    "print('Оплатили:', n_payment)\n",
    "\n",
    "Посетителей: 1084\n",
    "Добавили товара в корзину: 637\n",
    "Начали оформлять заказ: 191\n",
    "Оплатили: 63"
   ]
  },
  {
   "cell_type": "markdown",
   "metadata": {},
   "source": [
    "Количество пользователей на первом шаге, конечно, совпадает, а дальше начинаются расхождения. Это значит, что не все пользователи идут по ожидаемому пути.\n",
    "В простых воронках такие тонкости не заметить. Чтобы заполучить ценную информацию для будущих гипотез, и строят воронки с учётом последовательности событий."
   ]
  },
  {
   "cell_type": "markdown",
   "metadata": {},
   "source": [
    "## Когортный анализ"
   ]
  },
  {
   "cell_type": "code",
   "execution_count": null,
   "metadata": {},
   "outputs": [],
   "source": [
    "     order_id           order_date  customer_id  revenue\n",
    "0    536365  2010-12-01 08:26:00        17850   139.12\n",
    "1    536366  2010-12-01 08:28:00        17850    22.20\n",
    "2    536367  2010-12-01 08:34:00        13047   278.73\n",
    "3    536368  2010-12-01 08:34:00        13047    70.05\n",
    "4    536369  2010-12-01 08:35:00        13047    17.85\n",
    "5    536370  2010-12-01 08:45:00        12583   855.86\n",
    "6    536371  2010-12-01 09:00:00        13748   204.00\n",
    "7    536372  2010-12-01 09:01:00        17850    22.20\n",
    "8    536373  2010-12-01 09:02:00        17850   259.86\n",
    "9    536374  2010-12-01 09:09:00        15100   350.40"
   ]
  },
  {
   "cell_type": "markdown",
   "metadata": {},
   "source": [
    "Сгруппируем данные по столбцу 'customer_id' методом groupby(). Для каждого клиента получим дату его первого заказа — ['order_date'].min():"
   ]
  },
  {
   "cell_type": "code",
   "execution_count": null,
   "metadata": {},
   "outputs": [],
   "source": [
    "first_order_date_by_customers = orders.groupby('customer_id')['order_date'].min() \n",
    "print (first_order_date_by_customers.head())\n",
    "\n",
    "customer_id\n",
    "12346    2011-01-18 10:01:00\n",
    "12347    2010-12-07 14:57:00\n",
    "12348    2010-12-16 19:09:00\n",
    "12349    2011-11-21 09:51:00\n",
    "12350    2011-02-02 16:01:00\n",
    "Name: order_date, dtype: object"
   ]
  },
  {
   "cell_type": "markdown",
   "metadata": {},
   "source": [
    "В исходной таблице orders уже есть столбец order_date. Чтобы в результирующем датафрейме не было двух столбцов с одинаковыми названиями, изменим имя Series на first_order_date, обратившись к атрибуту name у Series. Причём менять нужно имя Series, а не название переменной, где она сохранена:"
   ]
  },
  {
   "cell_type": "code",
   "execution_count": null,
   "metadata": {},
   "outputs": [],
   "source": [
    "first_order_date_by_customers.name = 'first_order_date'\n",
    "# обращаемся к атрибуту name Series в переменной first_order_date_by_customers"
   ]
  },
  {
   "cell_type": "markdown",
   "metadata": {},
   "source": [
    "Методом join() объединим датафрейм orders и Series first_order_date_by_customers по столбцу 'customer_id':"
   ]
  },
  {
   "cell_type": "code",
   "execution_count": null,
   "metadata": {},
   "outputs": [],
   "source": [
    "orders = orders.join(first_order_date_by_customers,on='customer_id')\n",
    "print(orders.head(10))\n",
    "\n",
    "     order_id           order_date  customer_id  revenue     first_order_date\n",
    "0    536365  2010-12-01 08:26:00        17850   139.12  2010-12-01 08:26:00\n",
    "1    536366  2010-12-01 08:28:00        17850    22.20  2010-12-01 08:26:00\n",
    "2    536367  2010-12-01 08:34:00        13047   278.73  2010-12-01 08:34:00\n",
    "3    536368  2010-12-01 08:34:00        13047    70.05  2010-12-01 08:34:00\n",
    "4    536369  2010-12-01 08:35:00        13047    17.85  2010-12-01 08:34:00\n",
    "5    536370  2010-12-01 08:45:00        12583   855.86  2010-12-01 08:45:00\n",
    "6    536371  2010-12-01 09:00:00        13748   204.00  2010-12-01 09:00:00\n",
    "7    536372  2010-12-01 09:01:00        17850    22.20  2010-12-01 08:26:00\n",
    "8    536373  2010-12-01 09:02:00        17850   259.86  2010-12-01 08:26:00\n",
    "9    536374  2010-12-01 09:09:00        15100   350.40  2010-12-01 09:09:00"
   ]
  },
  {
   "cell_type": "markdown",
   "metadata": {},
   "source": [
    "В таблице появился столбец first_order_date с датами первой покупки клиента.<br>\n",
    "<br>\n",
    "Следующим шагом выделим из столбцов first_order_date и order_date месяцы. Вызовем метод astype(): преобразуем значения столбцов к типу 'datetime64[M]'. [M] в типе datetime64 означает размерность временной метки, в этом случае — месяц:"
   ]
  },
  {
   "cell_type": "code",
   "execution_count": null,
   "metadata": {},
   "outputs": [],
   "source": [
    "orders['first_order_month'] = orders['first_order_date'].astype('datetime64[M]')\n",
    "orders['order_month'] = orders['order_date'].astype('datetime64[M]')\n",
    "print(orders.head(10))\n",
    "\n",
    "     order_id           order_date  customer_id  revenue     first_order_date  \\\n",
    "0    536365  2010-12-01 08:26:00        17850   139.12  2010-12-01 08:26:00   \n",
    "1    536366  2010-12-01 08:28:00        17850    22.20  2010-12-01 08:26:00   \n",
    "2    536367  2010-12-01 08:34:00        13047   278.73  2010-12-01 08:34:00   \n",
    "3    536368  2010-12-01 08:34:00        13047    70.05  2010-12-01 08:34:00   \n",
    "4    536369  2010-12-01 08:35:00        13047    17.85  2010-12-01 08:34:00   \n",
    "5    536370  2010-12-01 08:45:00        12583   855.86  2010-12-01 08:45:00   \n",
    "6    536371  2010-12-01 09:00:00        13748   204.00  2010-12-01 09:00:00   \n",
    "7    536372  2010-12-01 09:01:00        17850    22.20  2010-12-01 08:26:00   \n",
    "8    536373  2010-12-01 09:02:00        17850   259.86  2010-12-01 08:26:00   \n",
    "9    536374  2010-12-01 09:09:00        15100   350.40  2010-12-01 09:09:00   \n",
    "\n",
    "    first_order_month order_month  \n",
    "0        2010-12-01  2010-12-01  \n",
    "1        2010-12-01  2010-12-01  \n",
    "2        2010-12-01  2010-12-01  \n",
    "3        2010-12-01  2010-12-01  \n",
    "4        2010-12-01  2010-12-01  \n",
    "5        2010-12-01  2010-12-01  \n",
    "6        2010-12-01  2010-12-01  \n",
    "7        2010-12-01  2010-12-01  \n",
    "8        2010-12-01  2010-12-01  \n",
    "9        2010-12-01  2010-12-01"
   ]
  },
  {
   "cell_type": "markdown",
   "metadata": {},
   "source": [
    "Когортой станет столбец first_order_month — месяц, в котором был сделан первый заказ. Сгруппируем данные по этому столбцу и оценим показатели каждой когорты. Применим знакомый метод agg. Ему передают словарь, где ключи — названия столбцов, а значения — агрегирующие функции.\n"
   ]
  },
  {
   "cell_type": "code",
   "execution_count": null,
   "metadata": {},
   "outputs": [],
   "source": [
    "cohort_grouped = orders.groupby('first_order_month').agg({'order_id':'nunique','customer_id':'nunique','revenue':'sum'})\n",
    "print(cohort_grouped)\n",
    "\n",
    "first_order_month          order_id  customer_id      revenue                                  \n",
    "2010-12-01             8318          885  4512148.220\n",
    "2011-01-01             2153          417  1125882.281\n",
    "2011-02-01             1561          380   593876.880\n",
    "2011-03-01             1611          452   643758.940\n",
    "2011-04-01              924          300   326621.031\n",
    "2011-05-01              818          284   287075.780\n",
    "2011-06-01              661          242   273455.230\n",
    "2011-07-01              442          188   144468.341\n",
    "2011-08-01              358          169   196049.050\n",
    "2011-09-01              595          299   233296.821\n",
    "2011-10-01              608          358   227369.540\n",
    "2011-11-01              439          323   151876.730\n",
    "2011-12-01               43           41    27059.460"
   ]
  },
  {
   "cell_type": "markdown",
   "metadata": {},
   "source": [
    "Какие выводы можно сделать из этой таблицы?<br>\n",
    "<br>\n",
    "Выручка по каждой следующей когорте меньше предыдущей. Это логично, ведь более старые когорты существуют дольше, и пользователи из них совершали заказы в течение бóльшего времени.<br>\n",
    "<br>\n",
    "А ещё: количество пользователей, составляющих каждую когорту, стремительно убывает с каждым месяцем. Значит, в интернет-магазин со временем приходит всё меньше и меньше новых пользователей, совершающих покупки."
   ]
  },
  {
   "cell_type": "markdown",
   "metadata": {},
   "source": [
    "## Оценка изменений абсолютных показателей по месяцам"
   ]
  },
  {
   "cell_type": "markdown",
   "metadata": {},
   "source": [
    "<b>Оценка изменений абсолютных показателей по месяцам</b>\n",
    "<br>\n",
    "<br>\n",
    "Большинство количественных наблюдений фиксируют в абсолютных величинах. <b>Абсолютная величина</b> — это объём, величина или размер наблюдаемого явления или события. Например, итоговая стоимость в рублях или количество покупок в штуках.\n",
    "<br>\n",
    "<br>\n",
    "Если взять стоимость покупок и разделить на их количество, получим среднюю стоимость купленного товара. Это будет <b>относительная величина</b> — показатель, который даёт числовую меру соотношения двух сопоставимых величин.\n",
    "<br>\n",
    "<br>\n",
    "При расчёте относительных показателей важно, чтобы их компоненты были связаны. Например, стоимость всех покупок можно разделить на их количество — эти величины сопоставимы. А вот отношение суммы из чека к числу пройденных до магазина шагов имеет мало отношения к продуктовой аналитике."
   ]
  },
  {
   "cell_type": "markdown",
   "metadata": {},
   "source": [
    "Первая задача, которую можно решить путём когортного анализа: отследить, как изменяется количество покупающих пользователей<br> внутри одной когорты. Это позволит понять, сколько людей продолжают покупать в следующих месяцах после совершения первой<br> покупки. Построим сводную таблицу методом pivot_table():<br>\n",
    "- в строках (index) будет когорта пользователей first_order_month<br>\n",
    "- в столбцах (columns) — месяц совершения покупки order_month<br>\n",
    "- значениями (values) станет количество уникальных пользователей customer_id, совершивших покупку в интернет-магазине<br>\n",
    "- в аргументе aggfunc укажем 'nunique':"
   ]
  },
  {
   "cell_type": "code",
   "execution_count": null,
   "metadata": {},
   "outputs": [],
   "source": [
    "orders.pivot_table(index='first_order_month',\n",
    "    columns='order_month',\n",
    "    values='customer_id',\n",
    "    aggfunc='nunique')"
   ]
  },
  {
   "cell_type": "code",
   "execution_count": 5,
   "metadata": {},
   "outputs": [
    {
     "data": {
      "text/html": [
       "<img src=\"https://pictures.s3.yandex.net/resources/Untitled_1567687971.png\"/>"
      ],
      "text/plain": [
       "<IPython.core.display.Image object>"
      ]
     },
     "execution_count": 5,
     "metadata": {},
     "output_type": "execute_result"
    }
   ],
   "source": [
    "from IPython.display import Image\n",
    "from IPython.core.display import HTML \n",
    "Image(url= \"https://pictures.s3.yandex.net/resources/Untitled_1567687971.png\")"
   ]
  },
  {
   "cell_type": "markdown",
   "metadata": {},
   "source": [
    "Что можно сказать по этой таблице:<br>\n",
    "- После первого месяца количество покупателей в когорте снижается.<br>\n",
    "- В некоторых когортах число покупателей периодически начинает расти. Например, в когорте 2010-12-01.<br>\n",
    "- Количество покупателей уменьшается во всех когортах в декабре 2011. Возможно, это связано с сезонностью.<br>\n",
    "- Пользователи когорты декабря 2010 года продолжают составлять большую долю покупателей даже спустя год. В ноябре 2011 года их 445."
   ]
  },
  {
   "cell_type": "markdown",
   "metadata": {},
   "source": [
    "Отслеживание абсолютных показателей по месяцам позволяет исследовать изменения с течением времени. А также заметить общие черты в поведении всех когорт — например, обнаружить сезонное снижение числа пользователей. Можно сделать и вывод о доле каждой когорты в общем количестве покупателей месяца.\n"
   ]
  },
  {
   "cell_type": "code",
   "execution_count": 6,
   "metadata": {},
   "outputs": [
    {
     "data": {
      "text/html": [
       "<img src=\"https://pictures.s3.yandex.net/resources/Untitled_1_1567688019.png\"/>"
      ],
      "text/plain": [
       "<IPython.core.display.Image object>"
      ]
     },
     "execution_count": 6,
     "metadata": {},
     "output_type": "execute_result"
    }
   ],
   "source": [
    "from IPython.display import Image\n",
    "from IPython.core.display import HTML \n",
    "Image(url= \"https://pictures.s3.yandex.net/resources/Untitled_1_1567688019.png\")"
   ]
  },
  {
   "cell_type": "markdown",
   "metadata": {},
   "source": [
    "## Оценка изменений относительных показателей по времени жизни"
   ]
  },
  {
   "cell_type": "markdown",
   "metadata": {},
   "source": [
    "Ещё одна задача когортного анализа: понять, как с течением времени изменяется средний чек — сумма покупок, делённая на число покупателей. Так узнаем, увеличивается или уменьшается средний чек покупателей, которые продолжают делать заказы в интернет-магазине.\n"
   ]
  },
  {
   "cell_type": "markdown",
   "metadata": {},
   "source": [
    "Рассчитаем дополнительные показатели когорт по месяцам:<br>\n",
    "- средний чек покупателей в каждый месяц;<br>\n",
    "- порядковый месяц относительно месяца первой покупки.<br>\n",
    "Сперва сгруппируем данные по когорте first_order_month и месяцу совершения заказа order_month:"
   ]
  },
  {
   "cell_type": "code",
   "execution_count": null,
   "metadata": {},
   "outputs": [],
   "source": [
    "import pandas as pd\n",
    "\n",
    "orders=pd.read_csv('/datasets/orders_data_for_cohort.csv')\n",
    "first_order_date_by_customers = orders.groupby('customer_id')['order_date'].min()\n",
    "first_order_date_by_customers.name = 'first_order_date'\n",
    "orders = orders.join(first_order_date_by_customers,on='customer_id')\n",
    "orders['first_order_month'] = orders['first_order_date'].astype('datetime64[M]')\n",
    "orders['order_month'] = orders['order_date'].astype('datetime64[M]')\n",
    "\n",
    "orders_grouped_by_cohorts = orders.groupby(['first_order_month','order_month']).agg({'revenue':'sum','customer_id':'nunique'})\n",
    "print(orders_grouped_by_cohorts.head())\n",
    "\n",
    "\n",
    "                                 revenue  customer_id\n",
    "first_order_month order_month                        \n",
    "2010-12-01        2010-12-01   572713.89          885\n",
    "                                                    2011-01-01   276237.69          324\n",
    "                                                    2011-02-01   233845.37          286\n",
    "                                                    2011-03-01   303119.39          340\n",
    "                                                    2011-04-01   204407.66          321"
   ]
  },
  {
   "cell_type": "markdown",
   "metadata": {},
   "source": [
    "Найдём средний чек покупателя revenue_per_user — разделим показатель revenue на customer_id:\n"
   ]
  },
  {
   "cell_type": "code",
   "execution_count": null,
   "metadata": {},
   "outputs": [],
   "source": [
    "orders_grouped_by_cohorts['revenue_per_user'] = orders_grouped_by_cohorts['revenue'] / orders_grouped_by_cohorts['customer_id']"
   ]
  },
  {
   "cell_type": "markdown",
   "metadata": {},
   "source": [
    "Построим сводную таблицу изменения среднего чека в когортах по месяцу совершения покупки и оценим, как изменяется средний чек с течением времени:\n"
   ]
  },
  {
   "cell_type": "code",
   "execution_count": null,
   "metadata": {},
   "outputs": [],
   "source": [
    "orders_grouped_by_cohorts.pivot_table(index='first_order_month',columns='order_month',values='revenue_per_user',aggfunc='mean')"
   ]
  },
  {
   "cell_type": "code",
   "execution_count": 7,
   "metadata": {},
   "outputs": [
    {
     "data": {
      "text/html": [
       "<img src=\"https://pictures.s3.yandex.net/resources/Untitled_1567688438.png\"/>"
      ],
      "text/plain": [
       "<IPython.core.display.Image object>"
      ]
     },
     "execution_count": 7,
     "metadata": {},
     "output_type": "execute_result"
    }
   ],
   "source": [
    "from IPython.display import Image\n",
    "from IPython.core.display import HTML \n",
    "Image(url= \"https://pictures.s3.yandex.net/resources/Untitled_1567688438.png\")"
   ]
  },
  {
   "cell_type": "markdown",
   "metadata": {},
   "source": [
    "Что если нужно оценить, как изменяется средний чек в зависимости от времени, прошедшего с момента первой покупки? Для когорты покупателей такой показатель называют <b>lifetime</b> (англ. «время жизни»). Эта метрика для каждого события отображает, в каком по счёту месяце от месяца когорты оно произошло. Рассмотрим lifetime для когорты покупателей, которые совершили первую покупку в декабре 2011:<br>\n",
    "<br>\n",
    "- покупки, сделанные в этом же месяце, будут считаться выполненными на нулевом месяце lifetime;\n",
    "- покупки, выполненные в январе 2012 — уже на первом месяце lifetime."
   ]
  },
  {
   "cell_type": "code",
   "execution_count": 8,
   "metadata": {},
   "outputs": [
    {
     "data": {
      "text/html": [
       "<img src=\"https://pictures.s3.yandex.net/resources/lifetime_1567688528.jpg\"/>"
      ],
      "text/plain": [
       "<IPython.core.display.Image object>"
      ]
     },
     "execution_count": 8,
     "metadata": {},
     "output_type": "execute_result"
    }
   ],
   "source": [
    "from IPython.display import Image\n",
    "from IPython.core.display import HTML \n",
    "Image(url= \"https://pictures.s3.yandex.net/resources/lifetime_1567688528.jpg\")"
   ]
  },
  {
   "cell_type": "markdown",
   "metadata": {},
   "source": [
    "Найдём lifetime когорты. Из месяца совершения заказа order_month вычтем месяц когорты first_order_month:"
   ]
  },
  {
   "cell_type": "code",
   "execution_count": null,
   "metadata": {},
   "outputs": [],
   "source": [
    "orders_grouped_by_cohorts = orders_grouped_by_cohorts.reset_index()\n",
    "orders_grouped_by_cohorts['cohort_lifetime'] = orders_grouped_by_cohorts['order_month'] - orders_grouped_by_cohorts['first_order_month']\n",
    "orders_grouped_by_cohorts['cohort_lifetime'].head()\n",
    "\n",
    "0     0 days\n",
    "1    31 days\n",
    "2    62 days\n",
    "3    90 days\n",
    "4   121 days\n",
    "Name: cohort_lifetime, dtype: timedelta64[ns]"
   ]
  },
  {
   "cell_type": "markdown",
   "metadata": {},
   "source": [
    "Получили столбец cohort_lifetime с типом <b>timedelta</b> (от англ. time delta — «дельта времени, перепад во времени»). Он хранит в себе разницу между двумя датами. В курсе исследовательского анализа данных вы познакомились с методом <b>pd.timedelta()</b>, его применяют, когда время нужно «сдвинуть», например, при переводе в другой часовой пояс.\n"
   ]
  },
  {
   "cell_type": "markdown",
   "metadata": {},
   "source": [
    "Преобразуем этот тип в число месяцев, прошедших между датами. Для этого cohort_lifetime нужно разделить на константу np.timedelta64(1, 'M') — узнать, сколько величин длиной в 1 месяц содержится в cohort_lifetime. Константа np.timedelta64(1, 'M') есть только в Numpy, импортируем библиотеку:\n"
   ]
  },
  {
   "cell_type": "code",
   "execution_count": null,
   "metadata": {},
   "outputs": [],
   "source": [
    "import pandas as pd\n",
    "import numpy as np\n",
    "\n",
    "orders_grouped_by_cohorts['cohort_lifetime'] = orders_grouped_by_cohorts['cohort_lifetime'] / np.timedelta64(1,'M')\n",
    "print(orders_grouped_by_cohorts['cohort_lifetime'].head())\n",
    "\n",
    "0    0.000000\n",
    "1    1.018501\n",
    "2    2.037003\n",
    "3    2.956940\n",
    "4    3.975441\n",
    "Name: cohort_lifetime, dtype: float64"
   ]
  },
  {
   "cell_type": "markdown",
   "metadata": {},
   "source": [
    "Получили дробные числа. Это связано с тем, что константа np.timedelta64(1,'M') представляет собой среднюю длину месяца в году. В месяце бывает от 28 дней до 31, вот и числа вышли не целые. Округлим значения столбца cohort_lifetime методом round(), а затем приведём их к целочисленному типу методом astype('int'):\n"
   ]
  },
  {
   "cell_type": "code",
   "execution_count": null,
   "metadata": {},
   "outputs": [],
   "source": [
    "orders_grouped_by_cohorts['cohort_lifetime'] = orders_grouped_by_cohorts['cohort_lifetime'].round().astype('int')\n",
    "print(orders_grouped_by_cohorts[['first_order_month','order_month','cohort_lifetime']].head())\n",
    "print(orders_grouped_by_cohorts[['first_order_month','order_month','cohort_lifetime']].tail())\n",
    "\n",
    "        first_order_month order_month  cohort_lifetime\n",
    "    0        2010-12-01  2010-12-01                0\n",
    "    1        2010-12-01  2011-01-01                1\n",
    "    2        2010-12-01  2011-02-01                2\n",
    "    3        2010-12-01  2011-03-01                3\n",
    "    4        2010-12-01  2011-04-01                4\n",
    "         first_order_month order_month  cohort_lifetime\n",
    "    86        2011-10-01  2011-11-01                1\n",
    "    87        2011-10-01  2011-12-01                2\n",
    "    88        2011-11-01  2011-11-01                0\n",
    "    89        2011-11-01  2011-12-01                1\n",
    "    90        2011-12-01  2011-12-01                0"
   ]
  },
  {
   "cell_type": "markdown",
   "metadata": {},
   "source": [
    "Получили целое число месяцев, обозначающее порядковый месяц совершения покупки относительно месяца первой покупки.\n"
   ]
  },
  {
   "cell_type": "markdown",
   "metadata": {},
   "source": [
    "Когда все расчёты выполнены, оставим в обозначении когорты только год и месяц. Применим метод dt.strftime() (от англ. string format time) — он превращает объект Series с типом datetime в строку в формате даты. Например, так:\n"
   ]
  },
  {
   "cell_type": "code",
   "execution_count": null,
   "metadata": {},
   "outputs": [],
   "source": [
    "orders_grouped_by_cohorts['first_order_month'].dt.strftime('%d.%m.%Y')\n",
    "\n",
    "0     01.12.2010\n",
    "1     01.12.2010\n",
    "2     01.12.2010\n",
    "3     01.12.2010\n",
    "4     01.12.2010\n",
    "                 ...    \n",
    "86    01.10.2011\n",
    "87    01.10.2011\n",
    "88    01.11.2011\n",
    "89    01.11.2011\n",
    "90    01.12.2011\n",
    "Name: first_order_month, Length: 91, dtype: object"
   ]
  },
  {
   "cell_type": "markdown",
   "metadata": {},
   "source": [
    "Оставим в данных о месяце первого заказа только год и месяц:\n"
   ]
  },
  {
   "cell_type": "code",
   "execution_count": null,
   "metadata": {},
   "outputs": [],
   "source": [
    "orders_grouped_by_cohorts['first_order_month'] = orders_grouped_by_cohorts['first_order_month'].dt.strftime('%Y-%m')"
   ]
  },
  {
   "cell_type": "markdown",
   "metadata": {},
   "source": [
    "Построим сводную таблицу изменения среднего чека, где в столбцах будет lifetime, а строках — когорты:\n"
   ]
  },
  {
   "cell_type": "code",
   "execution_count": null,
   "metadata": {},
   "outputs": [],
   "source": [
    "revenue_per_user_pivot = orders_grouped_by_cohorts.pivot_table(index='first_order_month',columns='cohort_lifetime',values='revenue_per_user',aggfunc='mean')\n",
    "print(revenue_per_user_pivot)"
   ]
  },
  {
   "cell_type": "code",
   "execution_count": 10,
   "metadata": {},
   "outputs": [
    {
     "data": {
      "text/html": [
       "<img src=\"https://pictures.s3.yandex.net/resources/Untitled_1_1567688841.png\"/>"
      ],
      "text/plain": [
       "<IPython.core.display.Image object>"
      ]
     },
     "execution_count": 10,
     "metadata": {},
     "output_type": "execute_result"
    }
   ],
   "source": [
    "from IPython.display import Image\n",
    "from IPython.core.display import HTML \n",
    "Image(url= \"https://pictures.s3.yandex.net/resources/Untitled_1_1567688841.png\")"
   ]
  },
  {
   "cell_type": "markdown",
   "metadata": {},
   "source": [
    "Видно, в каких когортах средний чек пользователей возрастает на следующий месяц после месяца первой покупки. А в некоторых когортах средний чек стремительно растёт с течением времени. Например, в когорте декабря 2010 и августа 2011."
   ]
  },
  {
   "cell_type": "markdown",
   "metadata": {},
   "source": [
    "## Визуализация когортного анализа"
   ]
  },
  {
   "cell_type": "markdown",
   "metadata": {},
   "source": [
    "Создадим тепловую карту методом <b>heatmap()</b> (от англ. heatmap, «тепловая карта»). Передадим ему сводную таблицу revenue_per_user_pivot и параметры:<br>\n",
    "- <b>annot=True</b> (от англ. annotate, «комментировать») означает, что в ячейках тепловой карты будет отображаться значение самой величины;<br>\n",
    "- <b>fmt='.1f'</b> (от англ. format, «формат») задаёт формат вывода значения — один знак после запятой;<br>\n",
    "- <b>linewidths=1</b> задаёт ширину линии, которая разграничит ячейки тепловой карты (1 пиксель);<br>\n",
    "- <b>linecolor='gray'</b> устанавливает цвет линии — серый."
   ]
  },
  {
   "cell_type": "code",
   "execution_count": null,
   "metadata": {},
   "outputs": [],
   "source": [
    "import seaborn as sns\n",
    "from matplotlib import pyplot as plt\n",
    "plt.figure(figsize=(13, 9))\n",
    "plt.title('Средний чек покупателей')\n",
    "sns.heatmap(revenue_per_user_pivot, annot=True, fmt='.1f', linewidths=1, linecolor='gray')"
   ]
  },
  {
   "cell_type": "code",
   "execution_count": 11,
   "metadata": {},
   "outputs": [
    {
     "data": {
      "text/html": [
       "<img src=\"https://pictures.s3.yandex.net/resources/Untitled_2_1567767884.png\"/>"
      ],
      "text/plain": [
       "<IPython.core.display.Image object>"
      ]
     },
     "execution_count": 11,
     "metadata": {},
     "output_type": "execute_result"
    }
   ],
   "source": [
    "from IPython.display import Image\n",
    "from IPython.core.display import HTML \n",
    "Image(url= \"https://pictures.s3.yandex.net/resources/Untitled_2_1567767884.png\")"
   ]
  },
  {
   "cell_type": "markdown",
   "metadata": {},
   "source": [
    "## Retention Rate"
   ]
  },
  {
   "cell_type": "markdown",
   "metadata": {},
   "source": [
    "Retention Rate показывает, сколько пользователей из когорты относительно их изначального числа вернулось в последующие периоды.<br>\n",
    "<br>\n",
    "Почему следить за этим показателем важно? Чем дольше привлечённый пользователь пользуется продуктом, тем выше потенциальная выручка. Это касается продуктов, зарабатывающих с пользователей напрямую, например, сервисов с подпиской.<br>\n",
    "<br>\n",
    "Для продуктов, чей заработок — реклама, Retention Rate тоже имеет значение. Чем дольше пользователи пользуются сервисом, тем больше аудитории увидит объявления рекламодателя"
   ]
  },
  {
   "cell_type": "code",
   "execution_count": 1,
   "metadata": {},
   "outputs": [
    {
     "data": {
      "text/html": [
       "<img src=\"https://pictures.s3.yandex.net/resources/rr_1572436473.jpg\"/>"
      ],
      "text/plain": [
       "<IPython.core.display.Image object>"
      ]
     },
     "execution_count": 1,
     "metadata": {},
     "output_type": "execute_result"
    }
   ],
   "source": [
    "from IPython.display import Image\n",
    "from IPython.core.display import HTML \n",
    "Image(url= \"https://pictures.s3.yandex.net/resources/rr_1572436473.jpg\")"
   ]
  },
  {
   "cell_type": "markdown",
   "metadata": {},
   "source": [
    "Объясним формулу на примере. В феврале 2019 года в клининговую компанию «Умывальников начальник» обратилось 700 новых клиентов. В когорте февраля 2019 года их будет 700, и Retention Rate на нулевой месяц lifetime составит 100%.<br>\n",
    "<br>\n",
    "В следующем месяце (марте 2019 или первом месяце lifetime) из 700 клиентов февральской когорты уборку заказали только 600 клиентов. <b>`Retention Rate = 600 / 700 x 100 % = 85,71%`.</b><br>\n",
    " <br>\n",
    "Если в апреле 2019 года (на второй месяц lifetime) услугами воспользуются 650 клиентов из февральской когорты, Retention Rate вырастет до 92,86%. Однако если клиентов будет меньше, например, 550, то Retention Rate снизится до 78,57%."
   ]
  },
  {
   "cell_type": "code",
   "execution_count": null,
   "metadata": {},
   "outputs": [],
   "source": [
    "import pandas as pd\n",
    "user_activity = pd.read_csv('/datasets/user_activity.csv')\n",
    "user_activity['activity_date'] = pd.to_datetime(user_activity['activity_date'])\n",
    "print (user_activity.head())\n",
    "\n",
    "user_id                                    activity_date\n",
    "0  cdf343d1-f733-4b2c-896c-d565255e1ecc    2019-05-01\n",
    "1  bb59f0d1-b1bc-4e89-982e-f451ed83e3af    2019-05-01\n",
    "2  92c0476c-2384-4955-803d-10a4bfb5df63    2019-05-01\n",
    "3  4774aedc-6236-4f97-9279-04b096b62e4f    2019-05-01\n",
    "4  68b203ea-7532-4bc0-aedc-2d1d7e71e492    2019-05-01"
   ]
  },
  {
   "cell_type": "markdown",
   "metadata": {},
   "source": [
    "Определим событие и период — на их основе сформируем когорту. Возьмём дату, когда пользователь впервые проявил активность в мобильном приложении.<br>\n",
    "<br>\n",
    "Эти данные запишем в объект Series first_activity_date. Объединим его с исходным датафреймом user_activity:"
   ]
  },
  {
   "cell_type": "code",
   "execution_count": null,
   "metadata": {},
   "outputs": [],
   "source": [
    "first_activity_date = user_activity.groupby(['user_id'])['activity_date'].min()\n",
    "first_activity_date.name = 'first_activity_date'\n",
    "user_activity = user_activity.join(first_activity_date,on='user_id')"
   ]
  },
  {
   "cell_type": "markdown",
   "metadata": {},
   "source": [
    "Раньше вы строили когорты периодом в 1 месяц. Однако период формирования когорты зависит от того, как срочно бизнесу нужно принимать решения об изменении продукта.<br>\n",
    "<br>\n",
    "В случае с мобильным приложением результаты этих изменений так быстро сказываются на действиях пользователей, что новые решения надо принимать быстрее. А значит, формировать когорты по данным не за месяц, а за неделю."
   ]
  },
  {
   "cell_type": "code",
   "execution_count": null,
   "metadata": {},
   "outputs": [],
   "source": [
    "user_activity['activity_week'] = pd.to_datetime(user_activity['activity_date'], unit='d') \n",
    "- pd.to_timedelta(user_activity['activity_date'].dt.dayofweek, unit='d')\n",
    "\n",
    "user_activity['first_activity_week'] = pd.to_datetime(user_activity['first_activity_date'], unit='d') \n",
    "- pd.to_timedelta(user_activity['first_activity_date'].dt.dayofweek, unit='d')"
   ]
  },
  {
   "cell_type": "markdown",
   "metadata": {},
   "source": [
    "Теперь для каждой строки датафрейма можно рассчитать lifetime пользователя в рамках когорты. Всё как в прошлых уроках — только в качестве делителя обратимся к константе np.timedelta64(1,'W') (где 'W' от англ. week, «неделя»):"
   ]
  },
  {
   "cell_type": "code",
   "execution_count": null,
   "metadata": {},
   "outputs": [],
   "source": [
    "import numpy as np\n",
    "user_activity['cohort_lifetime'] = user_activity['activity_week'] - user_activity['first_activity_week']\n",
    "user_activity['cohort_lifetime'] = user_activity['cohort_lifetime'] / np.timedelta64(1,'W')\n",
    "user_activity['cohort_lifetime'] = user_activity['cohort_lifetime'].astype(int)"
   ]
  },
  {
   "cell_type": "markdown",
   "metadata": {},
   "source": [
    "Сгруппируем данные по когорте и lifetime. Посчитаем для каждой когорты количество активных пользователей на определённую «неделю жизни»:"
   ]
  },
  {
   "cell_type": "code",
   "execution_count": null,
   "metadata": {},
   "outputs": [],
   "source": [
    "cohorts = user_activity.groupby(['first_activity_week','cohort_lifetime']).agg({'user_id':'nunique'}).reset_index()"
   ]
  },
  {
   "cell_type": "markdown",
   "metadata": {},
   "source": [
    "Чтобы найти Retention Rate, нужно сперва получить число пользователей, изначально бывших в когорте, и на него разделить число пользователей в каждую следующую неделю."
   ]
  },
  {
   "cell_type": "markdown",
   "metadata": {},
   "source": [
    "Найдём исходное количество пользователей в когорте. Возьмём их число на нулевую неделю:\n"
   ]
  },
  {
   "cell_type": "code",
   "execution_count": null,
   "metadata": {},
   "outputs": [],
   "source": [
    "inital_users_count = cohorts[cohorts['cohort_lifetime'] == 0][['first_activity_week','user_id']]\n",
    "print(inital_users_count)\n",
    "\n",
    "     first_activity_week  user_id\n",
    "0           2019-04-29    22573\n",
    "6           2019-05-06    40911\n",
    "12          2019-05-13    39683\n",
    "18          2019-05-20    38648\n",
    "24          2019-05-27    31064\n",
    "29          2019-06-03     7075\n",
    "33          2019-06-10     2642\n",
    "36          2019-06-17     1056\n",
    "38          2019-06-24      281"
   ]
  },
  {
   "cell_type": "markdown",
   "metadata": {},
   "source": [
    "Переименуем столбец user_id в cohort_users методом <b>rename()</b> (англ. «переименовать»). Параметру columns передадим словарь, где ключ — старое название столбца, а значение — новое:"
   ]
  },
  {
   "cell_type": "code",
   "execution_count": null,
   "metadata": {},
   "outputs": [],
   "source": [
    "inital_users_count = inital_users_count.rename(columns={'user_id':'cohort_users'})"
   ]
  },
  {
   "cell_type": "markdown",
   "metadata": {},
   "source": [
    "Объединим данные по когортам с исходным количеством пользователей в когорте:\n"
   ]
  },
  {
   "cell_type": "code",
   "execution_count": null,
   "metadata": {},
   "outputs": [],
   "source": [
    "cohorts = cohorts.merge(inital_users_count,on='first_activity_week')"
   ]
  },
  {
   "cell_type": "markdown",
   "metadata": {},
   "source": [
    "Наконец, рассчитаем Retention Rate. Разделим количество активных пользователей в каждую из недель на исходное число пользователей в когорте:"
   ]
  },
  {
   "cell_type": "code",
   "execution_count": null,
   "metadata": {},
   "outputs": [],
   "source": [
    "cohorts['retention'] = cohorts['user_id']/cohorts['cohort_users']"
   ]
  },
  {
   "cell_type": "markdown",
   "metadata": {},
   "source": [
    "Построим сводную таблицу и создадим тепловую карту:\n"
   ]
  },
  {
   "cell_type": "code",
   "execution_count": null,
   "metadata": {},
   "outputs": [],
   "source": [
    "retention_pivot = cohorts.pivot_table(index='first_activity_week',columns='cohort_lifetime',values='retention',aggfunc='sum')"
   ]
  },
  {
   "cell_type": "code",
   "execution_count": null,
   "metadata": {},
   "outputs": [],
   "source": [
    "import seaborn as sns\n",
    "from matplotlib import pyplot as plt\n",
    "sns.set(style='white')\n",
    "plt.figure(figsize=(13, 9))\n",
    "plt.title('Cohorts: User Retention')\n",
    "sns.heatmap(retention_pivot, annot=True, fmt='.1%', linewidths=1, linecolor='gray');"
   ]
  },
  {
   "cell_type": "code",
   "execution_count": 3,
   "metadata": {},
   "outputs": [
    {
     "data": {
      "text/html": [
       "<img src=\"https://pictures.s3.yandex.net/resources/retentionrate_1568448323.png\"/>"
      ],
      "text/plain": [
       "<IPython.core.display.Image object>"
      ]
     },
     "execution_count": 3,
     "metadata": {},
     "output_type": "execute_result"
    }
   ],
   "source": [
    "from IPython.display import Image\n",
    "from IPython.core.display import HTML \n",
    "Image(url= \"https://pictures.s3.yandex.net/resources/retentionrate_1568448323.png\")"
   ]
  },
  {
   "cell_type": "markdown",
   "metadata": {},
   "source": [
    "Retention Rate в первую неделю убывает по когортам с течением времени. Если для когорты пользователей, пришедших с 29 апреля по 5 мая Retention Rate в первую неделю составляет 69,9%, то для пользователей, пришедших с 10 по 16 июня — уже 24,3%. Так, за 6 недель коэффициент удержания упал на 45,6%. Это говорит, что с каждой новой когортой поведение покупателей меняется. Возможно, были выбраны неэффективные источники трафика или ухудшилось качество работы службы поддержки.\n"
   ]
  },
  {
   "cell_type": "markdown",
   "metadata": {},
   "source": [
    "## Churn Rate\n"
   ]
  },
  {
   "cell_type": "markdown",
   "metadata": {},
   "source": [
    "Другой показатель, позволяющий следить за здоровьем продукта — это Churn Rate. Он даёт понимание, какой процент пользователей прекращает использование продукта с течением времени. Если при вычислении Retention Rate за точку отсчёта берут общее количество клиентов когорты, то для <b>`Churn Rate — количество клиентов на определённый отрезок времени сравнивается с предыдущим.`</b>"
   ]
  },
  {
   "cell_type": "code",
   "execution_count": 2,
   "metadata": {},
   "outputs": [
    {
     "data": {
      "text/html": [
       "<img src=\"https://pictures.s3.yandex.net/resources/churn_rate_1571228722.jpg\"/>"
      ],
      "text/plain": [
       "<IPython.core.display.Image object>"
      ]
     },
     "execution_count": 2,
     "metadata": {},
     "output_type": "execute_result"
    }
   ],
   "source": [
    "from IPython.display import Image\n",
    "from IPython.core.display import HTML \n",
    "Image(url= \"https://pictures.s3.yandex.net/resources/churn_rate_1571228722.jpg\")"
   ]
  },
  {
   "cell_type": "markdown",
   "metadata": {},
   "source": [
    "Найдём показатель Churn Rate для «Умывальников начальника». В февральской когорте (на нулевом lifetime) за уборкой обратилось 700 клиентов, а в в марте 2019 (первом месяце lifetime) — 600. Churn Rate первого месяца lifetime рассчитывают так:<br>\n",
    "<b>`(600 / 700 - 1) * 100% = -14,28%`</b>.<br>\n",
    "Если в апреле услугами воспользуется 650 клиентов, то Churn Rate станет положительным: <b>`(650 / 600 - 1) * 100% = 8,33%`</b>."
   ]
  },
  {
   "cell_type": "markdown",
   "metadata": {},
   "source": [
    "Выделим когорты пользователей по дате первого события:"
   ]
  },
  {
   "cell_type": "code",
   "execution_count": null,
   "metadata": {},
   "outputs": [],
   "source": [
    "import pandas as pd\n",
    "import numpy as np\n",
    "\n",
    "user_activity = pd.read_csv('/datasets/user_activity.csv')\n",
    "user_activity['activity_date'] = pd.to_datetime(user_activity['activity_date'])\n",
    "\n",
    "first_activity_date = user_activity.groupby(['user_id'])['activity_date'].min()\n",
    "first_activity_date.name = 'first_activity_date'\n",
    "user_activity = user_activity.join(first_activity_date,on='user_id')\n",
    "\n",
    "user_activity['activity_week'] = pd.to_datetime(user_activity['activity_date'], unit='d') - pd.to_timedelta(user_activity['activity_date'].dt.dayofweek, unit='d')\n",
    "user_activity['first_activity_week'] = pd.to_datetime(user_activity['first_activity_date'], unit='d') - pd.to_timedelta(user_activity['first_activity_date'].dt.dayofweek, unit='d')\n",
    "\n",
    "user_activity['cohort_lifetime'] = user_activity['activity_week'] - user_activity['first_activity_week']\n",
    "user_activity['cohort_lifetime'] = user_activity['cohort_lifetime'] / np.timedelta64(1,'W')\n",
    "user_activity['cohort_lifetime'] = user_activity['cohort_lifetime'].astype(int)\n",
    "\n",
    "cohorts = user_activity.groupby(['first_activity_week','cohort_lifetime']).agg({'user_id':'nunique'}).reset_index()\n",
    "\n",
    "initial_users_count = cohorts[cohorts['cohort_lifetime'] == 0][['first_activity_week','user_id']]\n",
    "initial_users_count = initial_users_count.rename(columns={'user_id':'cohort_users'})\n",
    "cohorts = cohorts.merge(initial_users_count,on='first_activity_week')"
   ]
  },
  {
   "cell_type": "markdown",
   "metadata": {},
   "source": [
    "Найти Churn Rate просто — достаточно определить, на сколько пользователей в когорте становится меньше в сравнении с предыдущим периодом. Чтобы рассчитать этот показатель, вызовем метод <b>pct_change()</b> (от англ. percentage change, «процентное изменение»). Он позволяет вычислить процентное изменение значения в столбце относительно предыдущей строки датафрейма. Если применить его с группировкой, метод сработает внутри группы."
   ]
  },
  {
   "cell_type": "markdown",
   "metadata": {},
   "source": [
    "Так, применительно к когортам, методом pct_change() можно рассчитать внутри каждой когорты, как изменяется число пользователей относительно предыдущего lifetime:"
   ]
  },
  {
   "cell_type": "code",
   "execution_count": null,
   "metadata": {},
   "outputs": [],
   "source": [
    "cohorts['churn_rate'] = cohorts.groupby(['first_activity_week'])['user_id'].pct_change()"
   ]
  },
  {
   "cell_type": "markdown",
   "metadata": {},
   "source": [
    "Построим сводную таблицу и визуализируем результаты на тепловой карте:\n"
   ]
  },
  {
   "cell_type": "code",
   "execution_count": null,
   "metadata": {},
   "outputs": [],
   "source": [
    "import seaborn as sns\n",
    "from matplotlib import pyplot as plt\n",
    "\n",
    "churn_pivot = cohorts.pivot_table(index='first_activity_week',columns='cohort_lifetime',values='churn_rate',aggfunc='sum')\n",
    "\n",
    "sns.set(style='white')\n",
    "plt.figure(figsize=(13, 9))\n",
    "plt.title('Cohorts: Churn Rate')\n",
    "sns.heatmap(churn_pivot, annot=True, fmt='.1%', linewidths=1, linecolor='gray');"
   ]
  },
  {
   "cell_type": "code",
   "execution_count": 4,
   "metadata": {},
   "outputs": [
    {
     "data": {
      "text/html": [
       "<img src=\"https://pictures.s3.yandex.net/resources/churnrate_1568224674.png\"/>"
      ],
      "text/plain": [
       "<IPython.core.display.Image object>"
      ]
     },
     "execution_count": 4,
     "metadata": {},
     "output_type": "execute_result"
    }
   ],
   "source": [
    "from IPython.display import Image\n",
    "from IPython.core.display import HTML \n",
    "Image(url= \"https://pictures.s3.yandex.net/resources/churnrate_1568224674.png\")"
   ]
  },
  {
   "cell_type": "markdown",
   "metadata": {},
   "source": [
    "растёт по когортам в первую неделю после стартовой. Выходит, с каждой новой когортой теряем всё больше пользователей. Это важный сигнал того, что нужно сосредоточиться на удержании пользователей в первую неделю, ведь бóльшая часть активных пользователей отказывается от сервиса именно в этот период.<br>\n",
    "<br>\n",
    "На вторую неделю Churn Rate снижается по всем когортам, но в четвёртую резко возрастает. Это говорит, что на этой неделе пользователи сталкиваются со сложностями, которые критически влияют на отток. Возможно, уровень в игре непомерно усложнился или у пользователей пропала мотивация по иным причинам."
   ]
  },
  {
   "cell_type": "markdown",
   "metadata": {},
   "source": [
    "## Поведенческие когорты"
   ]
  },
  {
   "cell_type": "markdown",
   "metadata": {},
   "source": [
    "Анализ поведенческих когорт — метод анализа, в ходе которого выделяют когорту пользователей, совершивших событие или ряд событий в определённый промежуток времени. Затем изучают, как с течением времени изменяется целевой показатель поведенческой когорты, например, Retention Rate.\n"
   ]
  },
  {
   "cell_type": "markdown",
   "metadata": {},
   "source": [
    "Узнайте, влияет ли частое обращение пользователя в раздел «Помощь» в первую неделю на то, что он продолжит пользоваться приложением и дальше.\n"
   ]
  },
  {
   "cell_type": "code",
   "execution_count": null,
   "metadata": {},
   "outputs": [],
   "source": [
    "import pandas as pd\n",
    "events = pd.read_csv('/datasets/behavioral_cohorts.csv')\n",
    "print(events.head())\n",
    "\n",
    "   user_id     event_type              event_datetime\n",
    "0   175893   registration  2019-07-31 09:35:40.988574\n",
    "1   175893  choice_option  2019-07-31 09:36:29.045261\n",
    "2   175893           help  2019-07-31 09:36:31.992824\n",
    "3   175893           help  2019-07-31 09:36:34.990551\n",
    "4   175893   registration  2019-07-31 09:36:55.989291"
   ]
  },
  {
   "cell_type": "markdown",
   "metadata": {},
   "source": [
    "Преобразуем event_datetime к типу datetime:"
   ]
  },
  {
   "cell_type": "code",
   "execution_count": null,
   "metadata": {},
   "outputs": [],
   "source": [
    "events['event_datetime'] = pd.to_datetime(events['event_datetime'])"
   ]
  },
  {
   "cell_type": "markdown",
   "metadata": {},
   "source": [
    "По каждому пользователю выделим дату совершения первого события и добавим её к датафрейму events:"
   ]
  },
  {
   "cell_type": "code",
   "execution_count": null,
   "metadata": {},
   "outputs": [],
   "source": [
    "min_event_datetime = events.groupby(['user_id'])['event_datetime'].min()\n",
    "min_event_datetime.name = 'min_event_datetime'\n",
    "events = events.join(min_event_datetime,on='user_id')"
   ]
  },
  {
   "cell_type": "markdown",
   "metadata": {},
   "source": [
    "Сформируем пользовательскую когорту на основе события, совершаемого в первую неделю жизни пользователя в сервисе. Нужно рассчитать параметр, который позволит для каждого события определить, через какое время после первого события оно произошло.<br>\n",
    "<br>\n",
    "Создадим новый столбец time_to_event, содержащий время между событием и первым событием пользователя:"
   ]
  },
  {
   "cell_type": "code",
   "execution_count": null,
   "metadata": {},
   "outputs": [],
   "source": [
    "events['time_to_event'] = events['event_datetime'] - events['min_event_datetime']"
   ]
  },
  {
   "cell_type": "markdown",
   "metadata": {},
   "source": [
    "Нужны лишь события типа help и только те, у которых после первого события прошло меньше 7 дней. Обратите внимание на применение среза по timedelta: можно просто указать количество дней. Это работает и с другими единицами измерения времени. Например, с минутами."
   ]
  },
  {
   "cell_type": "code",
   "execution_count": null,
   "metadata": {},
   "outputs": [],
   "source": [
    "filtered_events = events[(events['event_type'] == 'help') & (events['time_to_event'] < '7 days')]"
   ]
  },
  {
   "cell_type": "markdown",
   "metadata": {},
   "source": [
    "Сгруппируем датафрейм по пользователям и подсчитаем количество совершённых действий:\n"
   ]
  },
  {
   "cell_type": "code",
   "execution_count": null,
   "metadata": {},
   "outputs": [],
   "source": [
    "count_events_by_users = filtered_events.groupby(['user_id']).agg({'event_datetime':'count'}).reset_index()"
   ]
  },
  {
   "cell_type": "markdown",
   "metadata": {},
   "source": [
    "Найдём медианное количество переходов в «Помощь» за первую неделю:\n"
   ]
  },
  {
   "cell_type": "code",
   "execution_count": null,
   "metadata": {},
   "outputs": [],
   "source": [
    "count_events_by_users['event_datetime'].median()\n",
    "\n",
    "5"
   ]
  },
  {
   "cell_type": "markdown",
   "metadata": {},
   "source": [
    "Половина пользователей, хотя бы раз переходивших в раздел «Помощь», делали это снова более пяти раз."
   ]
  },
  {
   "cell_type": "markdown",
   "metadata": {},
   "source": [
    "Разделим пользователей по целевому поведению, установив 5 обращений как рубеж:\n"
   ]
  },
  {
   "cell_type": "code",
   "execution_count": null,
   "metadata": {},
   "outputs": [],
   "source": [
    "count_events_by_users['is_target_behavior'] = count_events_by_users['event_datetime'] > 5\n",
    "\n",
    "user_ids_with_target_behavior = count_events_by_users[count_events_by_users['is_target_behavior']]['user_id'].unique()\n",
    "user_ids_without_target_behavior = count_events_by_users[~count_events_by_users['is_target_behavior']]['user_id'].unique()"
   ]
  },
  {
   "cell_type": "markdown",
   "metadata": {},
   "source": [
    "В основном датафрейме разделим пользователей на 3 группы:<br>\n",
    "- Пользователи, которые обращались за помощью более 5 раз — их примем за целевых пользователей поведенческой когорты;<br>\n",
    "- Пользователи, которые обращались за помощью менее 5 раз;<br>\n",
    "- Пользователи, которые не обращались за помощью."
   ]
  },
  {
   "cell_type": "code",
   "execution_count": null,
   "metadata": {},
   "outputs": [],
   "source": [
    "events.loc[events['user_id'].isin(user_ids_with_target_behavior), 'is_in_behavioral_cohort'] = 'yes'\n",
    "events.loc[events['user_id'].isin(user_ids_without_target_behavior), 'is_in_behavioral_cohort'] = 'no'\n",
    "events['is_in_behavioral_cohort'] = events['is_in_behavioral_cohort'].fillna('no_behavior')"
   ]
  },
  {
   "cell_type": "markdown",
   "metadata": {},
   "source": [
    "Посмотрим, как разделилось число пользователей между группами:\n"
   ]
  },
  {
   "cell_type": "code",
   "execution_count": null,
   "metadata": {},
   "outputs": [],
   "source": [
    "events.groupby('is_in_behavioral_cohort')['user_id'].nunique()\n",
    "\n",
    "is_in_behavioral_cohort\n",
    "no             51\n",
    "no_behavior    36\n",
    "yes            50\n",
    "Name: user_id, dtype: int64"
   ]
  },
  {
   "cell_type": "markdown",
   "metadata": {},
   "source": [
    "Проанализируем, как для каждой поведенческой когорты изменяется Retention Rate с течением времени. Выделим недельные когорты и подсчитаем относительную неделю lifetime пользователя в мобильном приложении:"
   ]
  },
  {
   "cell_type": "code",
   "execution_count": null,
   "metadata": {},
   "outputs": [],
   "source": [
    "import numpy as np\n",
    "\n",
    "events['event_week'] = pd.to_datetime(events['event_datetime'].dt.date) - pd.to_timedelta(events['event_datetime'].dt.dayofweek, unit='d')\n",
    "events['min_event_week'] = pd.to_datetime(events['min_event_datetime'].dt.date) - pd.to_timedelta(events['min_event_datetime'].dt.dayofweek, unit='d')\n",
    "\n",
    "events['cohort_lifetime'] = events['event_week'] - events['min_event_week']\n",
    "events['cohort_lifetime'] = events['cohort_lifetime'] / np.timedelta64(1,'W')\n",
    "events['cohort_lifetime'] = events['cohort_lifetime'].astype(int)"
   ]
  },
  {
   "cell_type": "markdown",
   "metadata": {},
   "source": [
    "Создадим функцию расчёта и вывода Retention Rate в зависимости от lifetime:\n"
   ]
  },
  {
   "cell_type": "code",
   "execution_count": null,
   "metadata": {},
   "outputs": [],
   "source": [
    "def printRetentionRate(df):\n",
    "cohorts = df.groupby(['min_event_week','cohort_lifetime'],as_index=False).agg({'user_id':'nunique'}).sort_values(['min_event_week','cohort_lifetime'])\n",
    "\n",
    "inital_users_count = cohorts[cohorts['cohort_lifetime'] == 0][['min_event_week','user_id']]\n",
    "inital_users_count = inital_users_count.rename(columns={'user_id':'cohort_users'})\n",
    "\n",
    "cohorts = cohorts.merge(inital_users_count,on='min_event_week')\n",
    "\n",
    "cohorts['retention'] = cohorts['user_id']/cohorts['cohort_users']\n",
    "\n",
    "\n",
    "print (cohorts.groupby(['cohort_lifetime'])['retention'].mean())\n",
    "cohorts.groupby(['cohort_lifetime'])['retention'].mean().plot.bar()"
   ]
  },
  {
   "cell_type": "markdown",
   "metadata": {},
   "source": [
    "Найдём Retention Rate пользователей, не обращавшихся за помощью:\n"
   ]
  },
  {
   "cell_type": "code",
   "execution_count": null,
   "metadata": {},
   "outputs": [],
   "source": [
    "printRetentionRate(events[events['is_in_behavioral_cohort'] == 'no_behavior'])"
   ]
  },
  {
   "cell_type": "code",
   "execution_count": 1,
   "metadata": {},
   "outputs": [
    {
     "data": {
      "text/html": [
       "<img src=\"https://pictures.s3.yandex.net/resources/Untitled_1567773452.png\"/>"
      ],
      "text/plain": [
       "<IPython.core.display.Image object>"
      ]
     },
     "execution_count": 1,
     "metadata": {},
     "output_type": "execute_result"
    }
   ],
   "source": [
    "from IPython.display import Image\n",
    "from IPython.core.display import HTML \n",
    "Image(url= \"https://pictures.s3.yandex.net/resources/Untitled_1567773452.png\")"
   ]
  },
  {
   "cell_type": "markdown",
   "metadata": {},
   "source": [
    "Аналогично рассчитаем Retention Rate пользователей, которые не совершили требуемого числа обращений (более 5), но при этом переходили в раздел «Помощь» хотя бы раз:"
   ]
  },
  {
   "cell_type": "code",
   "execution_count": 2,
   "metadata": {},
   "outputs": [
    {
     "data": {
      "text/html": [
       "<img src=\"https://pictures.s3.yandex.net/resources/22_1567773549.png\"/>"
      ],
      "text/plain": [
       "<IPython.core.display.Image object>"
      ]
     },
     "execution_count": 2,
     "metadata": {},
     "output_type": "execute_result"
    }
   ],
   "source": [
    "from IPython.display import Image\n",
    "from IPython.core.display import HTML \n",
    "Image(url= \"https://pictures.s3.yandex.net/resources/22_1567773549.png\")"
   ]
  },
  {
   "cell_type": "markdown",
   "metadata": {},
   "source": [
    "Сравним Retention Rate двух групп. Начиная со второй недели коэффициент удержания у тех, кто обращался за помощью, существенно выше.<br>\n",
    "<br>\n",
    "Посмотрим на пользователей, попавших в целевую поведенческую когорту — тех, кто обращался за помощью более 5 раз:"
   ]
  },
  {
   "cell_type": "code",
   "execution_count": null,
   "metadata": {},
   "outputs": [],
   "source": [
    "printRetentionRate(events[events['is_in_behavioral_cohort'] == 'yes'])"
   ]
  },
  {
   "cell_type": "code",
   "execution_count": 3,
   "metadata": {},
   "outputs": [
    {
     "data": {
      "text/html": [
       "<img src=\"https://pictures.s3.yandex.net/resources/Untitled_1567773669.png\"/>"
      ],
      "text/plain": [
       "<IPython.core.display.Image object>"
      ]
     },
     "execution_count": 3,
     "metadata": {},
     "output_type": "execute_result"
    }
   ],
   "source": [
    "from IPython.display import Image\n",
    "from IPython.core.display import HTML \n",
    "Image(url= \"https://pictures.s3.yandex.net/resources/Untitled_1567773669.png\")"
   ]
  },
  {
   "cell_type": "markdown",
   "metadata": {},
   "source": [
    "Retention Rate таких пользователей выше остальных групп в большинстве недель lifetime.<br>\n",
    "<br>\n",
    "Пользователи, обращающиеся за помощью в первую неделю, чаще возвращаются в приложение. Возможно, это происходит из-за того, что они сталкиваются с меньшим количеством трудностей в дальнейшем. Стоит подумать, как стимулировать пользователей переходить в раздел «Помощь» в первую неделю жизни в сервисе."
   ]
  },
  {
   "cell_type": "markdown",
   "metadata": {},
   "source": [
    "## Unit Экономика одной продажи"
   ]
  },
  {
   "cell_type": "markdown",
   "metadata": {},
   "source": [
    "Доходы: ежемесячно магазин продаёт в среднем 50 велосипедов и получает выручку один миллион рублей.<br>\n",
    "<br>\n",
    "Расходы: в месяц на закупку велосипедов уходит 500 тысяч рублей, на доставку — 50 000. Также 200 тысяч требуется на аренду офиса, 100 тысяч — на зарплату и 300 тысяч рублей — на маркетинг.<br>\n",
    "<br>\n",
    "Что остаётся в итоге:"
   ]
  },
  {
   "cell_type": "code",
   "execution_count": 4,
   "metadata": {},
   "outputs": [
    {
     "data": {
      "text/html": [
       "<img src=\"https://pictures.s3.yandex.net/resources/prodaji_1567774438.jpg\"/>"
      ],
      "text/plain": [
       "<IPython.core.display.Image object>"
      ]
     },
     "execution_count": 4,
     "metadata": {},
     "output_type": "execute_result"
    }
   ],
   "source": [
    "from IPython.display import Image\n",
    "from IPython.core.display import HTML \n",
    "Image(url= \"https://pictures.s3.yandex.net/resources/prodaji_1567774438.jpg\")"
   ]
  },
  {
   "cell_type": "markdown",
   "metadata": {},
   "source": [
    "Магазин работает в минус. Вам нужно понять, как увеличить доходы или как снизить затраты (и какие именно). Сразу же решили сократить маркетинговый бюджет? Не торопитесь, это может привести к падению продаж.<br>\n",
    "<br>\n",
    "Разберёмся в экономике интернет-магазина. Выясним, какие расходы переменные, а какие — постоянные."
   ]
  },
  {
   "cell_type": "markdown",
   "metadata": {},
   "source": [
    "<b>Переменные расходы</b> зависят от объёмов продаж. Чтобы продать 20 велосипедов, нужно сначала купить 20 велосипедов.<br>\n",
    "<br>\n",
    "<b>Постоянные расходы</b> не меняются вместе с выручкой. Какой бы она ни была, за аренду офиса нужно платить каждый месяц."
   ]
  },
  {
   "cell_type": "markdown",
   "metadata": {},
   "source": [
    "Какие расходы интернет-магазина переменные?<br>\n",
    "<br>\n",
    "- закупка (чем больше продаём, тем больше покупаем);<br>\n",
    "- упаковка и доставка (каждый велосипед нужно доставить клиенту);<br>\n",
    "- маркетинг (больше рекламы — больше продаж)."
   ]
  },
  {
   "cell_type": "markdown",
   "metadata": {},
   "source": [
    "К постоянным расходам относятся:<br>\n",
    "<br>\n",
    "- зарплата (с ростом продаж потребуется больше людей для обработки заказов, но затраты на оплату труда не так связаны с продажами, как себестоимость);<br>\n",
    "- аренда офиса (каждый месяц расходы будут одни и те же)."
   ]
  },
  {
   "cell_type": "code",
   "execution_count": 5,
   "metadata": {},
   "outputs": [
    {
     "data": {
      "text/html": [
       "<img src=\"https://pictures.s3.yandex.net/resources/rashodi_1567774512.jpg\"/>"
      ],
      "text/plain": [
       "<IPython.core.display.Image object>"
      ]
     },
     "execution_count": 5,
     "metadata": {},
     "output_type": "execute_result"
    }
   ],
   "source": [
    "from IPython.display import Image\n",
    "from IPython.core.display import HTML \n",
    "Image(url= \"https://pictures.s3.yandex.net/resources/rashodi_1567774512.jpg\")"
   ]
  },
  {
   "cell_type": "markdown",
   "metadata": {},
   "source": [
    "Что произойдёт, если интернет-магазин будет продавать не 50 велосипедов, а только 1. Поделим выручку и переменные расходы на 50. Постоянные расходы не изменятся.\n"
   ]
  },
  {
   "cell_type": "code",
   "execution_count": 6,
   "metadata": {},
   "outputs": [
    {
     "data": {
      "text/html": [
       "<img src=\"https://pictures.s3.yandex.net/resources/itogi_1567774828.jpg\"/>"
      ],
      "text/plain": [
       "<IPython.core.display.Image object>"
      ]
     },
     "execution_count": 6,
     "metadata": {},
     "output_type": "execute_result"
    }
   ],
   "source": [
    "from IPython.display import Image\n",
    "from IPython.core.display import HTML \n",
    "Image(url= \"https://pictures.s3.yandex.net/resources/itogi_1567774828.jpg\")"
   ]
  },
  {
   "cell_type": "markdown",
   "metadata": {},
   "source": [
    "Общий убыток бизнеса увеличился со 150 до 297 тысяч рублей. Без учёта постоянных расходов интернет-магазин заработал 3 000 рублей.<br>\n",
    "<br>\n",
    "Чтобы возмещать постоянные расходы в 300 000 рублей, нужно продавать 100 велосипедов в месяц (если ещё больше, то бизнес выйдет в прибыль).<br>\n",
    "<br>\n",
    "При продажах в 200 единиц в месяц прибыль будет такой:"
   ]
  },
  {
   "cell_type": "code",
   "execution_count": 7,
   "metadata": {},
   "outputs": [
    {
     "data": {
      "text/html": [
       "<img src=\"https://pictures.s3.yandex.net/resources/plus_1567774854.jpg\"/>"
      ],
      "text/plain": [
       "<IPython.core.display.Image object>"
      ]
     },
     "execution_count": 7,
     "metadata": {},
     "output_type": "execute_result"
    }
   ],
   "source": [
    "from IPython.display import Image\n",
    "from IPython.core.display import HTML \n",
    "Image(url= \"https://pictures.s3.yandex.net/resources/plus_1567774854.jpg\")"
   ]
  },
  {
   "cell_type": "markdown",
   "metadata": {},
   "source": [
    "Чтобы зарабатывать больше, нужно не снижать, а увеличивать расходы. Главное — понять, какие.<br>\n",
    "<br>\n",
    "Такой подход к анализу называется расчётом экономики одной продажи, или <b>юнит-экономикой</b> (от англ. unit economics, «единица»; «экономика»). Цель: рассчитать количество единичных продаж, которого хватит, чтобы выйти в плюс."
   ]
  },
  {
   "cell_type": "markdown",
   "metadata": {},
   "source": [
    "Иван открыл хипстерское кафе с дровяной печью. Гостям наливают настоящий крафтовый борщ с пампушками. За первый месяц Иван продал 500 порций и заработал 150 тысяч рублей выручки. Расходы Ивана:<br>\n",
    "- 50 тысяч рублей на мясо и овощи для борща;<br>\n",
    "- 10 тысяч рублей на тесто для пампушек;<br>\n",
    "- 60 тысяч рублей за аренду помещения;<br>\n",
    "- 10 тысяч рублей на дрова для декоративной печи;<br>\n",
    "- 100 тысяч рублей на зарплаты поварам и пекарям.<br>\n",
    "<br>\n",
    "Кафе сработало в 80 тысяч рублей убытка. Какое минимальное количество порций борща с пампушками нужно продать в следующем месяце, чтобы бизнес вышел в плюс?<br>\n",
    "<br>\n",
    "945\n",
    "При таких продажах бизнес заработает 100 рублей прибыли!"
   ]
  },
  {
   "cell_type": "markdown",
   "metadata": {},
   "source": [
    "## Экономика одной продажи: строим модель\n"
   ]
  },
  {
   "cell_type": "markdown",
   "metadata": {},
   "source": [
    "- 1.Посчитайте рентабельность бизнеса на одной продаже. Принимайте во внимание только переменные расходы.<br>\n",
    "<br>\n",
    "- 2.Если рентабельность отрицательная, значит, экономика не сходится. Нужно снижать расходы, либо повышать продажи. В противном случае бизнес придётся закрыть.<br>\n",
    "<br>\n",
    "- 3.Если с учётом переменных расходов рентабельность положительная, прибавьте постоянные расходы. Выясните, какой объём продаж должен быть, чтобы бизнес приносил прибыль."
   ]
  },
  {
   "cell_type": "markdown",
   "metadata": {},
   "source": [
    "Рассчитаем объём продаж интернет-магазина велосипедов «Крути педальки».<br>\n",
    "<br>\n",
    "Создадим переменные:<br>\n",
    "- items_sold — количество проданных товаров,<br>\n",
    "- revenue — выручка,<br>\n",
    "- var_costs — переменные расходы,<br>\n",
    "- fixed_costs — постоянные расходы.<br>\n",
    "<br>\n",
    "Информацию о расходах запишем в объекте Series. Все математические операции по умолчанию выполнятся поэлементно, а вывод на экран будет аккуратным."
   ]
  },
  {
   "cell_type": "code",
   "execution_count": null,
   "metadata": {},
   "outputs": [],
   "source": [
    "items_sold = 50\n",
    "revenue = 1000000\n",
    "\n",
    "var_costs = pd.Series({\n",
    "        'cogs':      500000,\n",
    "        'delivery':  50000,\n",
    "        'marketing': 300000\n",
    "})\n",
    "\n",
    "fixed_costs = pd.Series({\n",
    "        'rent':      200000,\n",
    "        'salaries':  100000\n",
    "})"
   ]
  },
  {
   "cell_type": "markdown",
   "metadata": {},
   "source": [
    "Посчитаем суммарные расходы и итоговую прибыль компании.\n"
   ]
  },
  {
   "cell_type": "code",
   "execution_count": null,
   "metadata": {},
   "outputs": [],
   "source": [
    "total_costs = var_costs.sum() + fixed_costs.sum()\n",
    "\n",
    "print('Выручка:', revenue)\n",
    "print('Затраты:', total_costs)\n",
    "print('Итого:', revenue - total_costs)\n",
    "\n",
    "Выручка: 1000000\n",
    "Затраты: 1150000\n",
    "Итого: -150000"
   ]
  },
  {
   "cell_type": "markdown",
   "metadata": {},
   "source": [
    "Получили 150 тысяч рублей убытка. Это было ожидаемо."
   ]
  },
  {
   "cell_type": "markdown",
   "metadata": {},
   "source": [
    "Посчитаем экономику одной продажи. На время забываем о постоянных затратах. Делим выручку и переменные расходы на количество проданных велосипедов:"
   ]
  },
  {
   "cell_type": "code",
   "execution_count": null,
   "metadata": {},
   "outputs": [],
   "source": [
    "one_unit_revenue = revenue / items_sold\n",
    "one_unit_var_costs = var_costs / items_sold\n",
    "\n",
    "print('Переменные затраты на одну продажу:')\n",
    "print(one_unit_var_costs)\n",
    "\n",
    "Переменные расходы на одну продажу:\n",
    "cogs         10000.0\n",
    "delivery      1000.0\n",
    "marketing     6000.0"
   ]
  },
  {
   "cell_type": "markdown",
   "metadata": {},
   "source": [
    "Прибыль от одной продажи — 3000 рублей. Бизнес можно и нужно масштабировать!\n"
   ]
  },
  {
   "cell_type": "markdown",
   "metadata": {},
   "source": [
    "Построим модель для расчёта объёма продаж, при котором интернет-магазин покроет постоянные расходы.<br>\n",
    "<br>\n",
    "Выясним, от какого показателя зависят все остальные. На себестоимость и доставку влияет количество проданных товаров, на сами продажи — расходы на маркетинг. Эти показатели не сказываются на постоянных расходах. Получим такую зависимость: чем больше тратим на маркетинг, тем больше продаём и получаем больше выручки и переменных расходов."
   ]
  },
  {
   "cell_type": "markdown",
   "metadata": {},
   "source": [
    "Составим модель:<br>\n",
    "<br>\n",
    "- маркетинг = 300 тысяч рублей (из начальных условий);<br>\n",
    "- маркетинговые расходы / стоимость привлечения одного заказа = количество проданных товаров;<br>\n",
    "- количество проданных товаров ∗ стоимость одного товара = выручка;<br>\n",
    "- количество проданных товаров ∗ соответствующие стоимости = переменные расходы;<br>\n",
    "- постоянные расходы = 300 тысяч рублей (из начальных условий);<br>\n",
    "- выручка - переменные расходы - постоянные расходы = модель."
   ]
  },
  {
   "cell_type": "code",
   "execution_count": null,
   "metadata": {},
   "outputs": [],
   "source": [
    "marketing = 300000\n",
    "\n",
    "items_sold = marketing / one_unit_var_costs['marketing']\n",
    "revenue = one_unit_revenue  * items_sold\n",
    "var_costs = one_unit_var_costs * items_sold\n",
    "\n",
    "print(revenue - sum(var_costs) - sum(fixed_costs))"
   ]
  },
  {
   "cell_type": "markdown",
   "metadata": {},
   "source": [
    "Поскольку в модели маркетинговый бюджет равен 300 000 рублей, получили (как и в задаче из прошлого урока) 150 000 рублей убытка."
   ]
  },
  {
   "cell_type": "markdown",
   "metadata": {},
   "source": [
    "Что будет, если снизим или увеличим маркетинговый бюджет? Проверим несколько сценариев.<br>\n",
    "<br>\n",
    "Подставим в маркетинговый бюджет значения от нуля до миллиона рублей. Чтобы код был аккуратным, запишем скрипт в функцию:"
   ]
  },
  {
   "cell_type": "code",
   "execution_count": null,
   "metadata": {},
   "outputs": [],
   "source": [
    "def unit_economics(marketing):    \n",
    "        items_sold = marketing / one_unit_var_costs['marketing']\n",
    "        revenue = one_unit_revenue  * items_sold\n",
    "        var_costs = one_unit_var_costs * items_sold\n",
    "        return revenue - sum(var_costs) - sum(fixed_costs)\n",
    "\n",
    "for m in range(0, 1000000, 100000):\n",
    "        print('Прибыль/убыток: {} при бюджете в {}'.format(unit_economics(m), m))\n",
    "\n",
    "Прибыль/убыток: -300000.0 при бюджете в 0\n",
    "Прибыль/убыток: -250000.0 при бюджете в 100000\n",
    "Прибыль/убыток: -200000.0 при бюджете в 200000\n",
    "Прибыль/убыток: -150000.0 при бюджете в 300000\n",
    "Прибыль/убыток: -100000.0 при бюджете в 400000\n",
    "Прибыль/убыток: -50000.0 при бюджете в 500000\n",
    "Прибыль/убыток: 0.0 при бюджете в 600000\n",
    "Прибыль/убыток: 50000.0 при бюджете в 700000\n",
    "Прибыль/убыток: 100000.0 при бюджете в 800000\n",
    "Прибыль/убыток: 150000.0 при бюджете в 900000"
   ]
  },
  {
   "cell_type": "markdown",
   "metadata": {},
   "source": [
    "Бизнес выйдет в ноль, если на маркетинг выделят 600 тысяч рублей. А при 900 тысячах рекламного бюджета собственник получит прибыль 150 тысяч рублей."
   ]
  },
  {
   "cell_type": "markdown",
   "metadata": {},
   "source": [
    "## Экономика одного покупателя: LTV и CAC\n"
   ]
  },
  {
   "cell_type": "markdown",
   "metadata": {},
   "source": [
    "У экономики одной продажи есть серьёзный недостаток — она не учитывает повторные покупки. Напомним принцип инвестиций в маркетинг: «Вкладываем деньги в рекламу и покупаем заказы. Если прибыль с заказа выше, чем затраты на его получение, значит всё хорошо».\n"
   ]
  },
  {
   "cell_type": "markdown",
   "metadata": {},
   "source": [
    "На самом деле покупают не заказы. Привлекают покупателей, которые заказывают. И один покупатель не всегда равен одному заказу. Конечно, есть бизнесы, где на каждого клиента обычно приходится лишь по одной покупке. Например, мало кто приобретает больше одной квартиры за раз. Однако чаще встречаются компании, в которых несколько покупок с человека — это не просто норма, а необходимость.\n"
   ]
  },
  {
   "cell_type": "markdown",
   "metadata": {},
   "source": [
    "Когда бизнес быстро растёт, учитывать повторные покупки в анализе особенно важно. Затраты часто опережают доходы — чтобы что-то продать, сначала надо это купить. Если смотреть только на количество денег на счету в конце месяца, может показаться, что компания летит в бездну.\n"
   ]
  },
  {
   "cell_type": "markdown",
   "metadata": {},
   "source": [
    "Чтобы решить эту задачу, следует посчитать экономику одного покупателя. Две самые важные метрики в этом методе — <b>LTV и CAC</b>.\n"
   ]
  },
  {
   "cell_type": "markdown",
   "metadata": {},
   "source": [
    "<b>LTV (от англ. lifetime value)</b> — «пожизненная» ценность клиента. Это — итоговая сумма денег, которую один клиент приносит в среднем со всех своих покупок. При расчёте LTV обычно обращаются к валовой прибыли с клиента за период.<br>\n",
    "<br>\n",
    "<b>CAC (от англ. customer acquisition cost)</b> — стоимость привлечения клиента. Сумма денег, во сколько обходится новый клиент компании."
   ]
  },
  {
   "cell_type": "markdown",
   "metadata": {},
   "source": [
    "Экономика одного покупателя сходится, если LTV больше CAC.\n"
   ]
  },
  {
   "cell_type": "markdown",
   "metadata": {},
   "source": [
    "Разберём пример. Магазин «Пиши, печатай» продаёт принтеры за 3000 рублей с маржинальностью 20% и картриджи за 1000 рублей с маржинальностью в 50%. На привлечение одного платящего клиента уходит в среднем по 5000 рублей. Типичный клиент за год покупает 1 принтер и 10 картриджей. Найдём LTV и CAC.<br>\n",
    "<br>\n",
    "С каждого принтера магазин зарабатывает по <b>20% × 3000 рублей = 600 рублей.</b><br>\n",
    "С каждого картриджа по <b>50% × 1000 рублей = 500 рублей.</b><br>\n",
    "<b>LTV</b> = <b>1×600 + 10×500 = 5600 рублей.</b><br>\n",
    "<b>CAC </b>= 5000 рублей.<br>\n",
    "LTV > CAC. Экономика сходится. У «Пиши, печатай» всё хорошо."
   ]
  },
  {
   "cell_type": "markdown",
   "metadata": {},
   "source": [
    "## Считаем экономику одного покупателя в интернет-магазине"
   ]
  },
  {
   "cell_type": "markdown",
   "metadata": {},
   "source": [
    "Продажи (gross_profit) увеличиваются из месяца в месяц, но расходы (costs) растут ещё быстрее. <br>Особенно последнее время:\n"
   ]
  },
  {
   "cell_type": "code",
   "execution_count": 1,
   "metadata": {},
   "outputs": [
    {
     "data": {
      "text/html": [
       "<img src=\"https://pictures.s3.yandex.net/resources/gross_profit_1568387255.jpg\"/>"
      ],
      "text/plain": [
       "<IPython.core.display.Image object>"
      ]
     },
     "execution_count": 1,
     "metadata": {},
     "output_type": "execute_result"
    }
   ],
   "source": [
    "from IPython.display import Image\n",
    "from IPython.core.display import HTML \n",
    "Image(url= \"https://pictures.s3.yandex.net/resources/gross_profit_1568387255.jpg\")"
   ]
  },
  {
   "cell_type": "markdown",
   "metadata": {},
   "source": [
    "График убытков магазина принял весьма угрожающий угол:\n"
   ]
  },
  {
   "cell_type": "code",
   "execution_count": 2,
   "metadata": {},
   "outputs": [
    {
     "data": {
      "text/html": [
       "<img src=\"https://pictures.s3.yandex.net/resources/gross_profit_2_1568387297.jpg\"/>"
      ],
      "text/plain": [
       "<IPython.core.display.Image object>"
      ]
     },
     "execution_count": 2,
     "metadata": {},
     "output_type": "execute_result"
    }
   ],
   "source": [
    "from IPython.display import Image\n",
    "from IPython.core.display import HTML \n",
    "Image(url= \"https://pictures.s3.yandex.net/resources/gross_profit_2_1568387297.jpg\")"
   ]
  },
  {
   "cell_type": "markdown",
   "metadata": {},
   "source": [
    "Маркетологи убеждены, что всё хорошо: клиенты вернутся за повторными покупками, и магазин выйдет в прибыль. Менеджмент не разделяет оптимизма: считает, что расходы надо срезать, маркетологов уволить, а бизнес закрыть. Помогите принять правильное решение с точки зрения аналитики.\n"
   ]
  },
  {
   "cell_type": "markdown",
   "metadata": {},
   "source": [
    "У вас есть данные о заказах и расходах магазина. Вы также знаете, что средняя маржинальность магазина составляет 50%. Ознакомимся с информацией:\n"
   ]
  },
  {
   "cell_type": "code",
   "execution_count": null,
   "metadata": {},
   "outputs": [],
   "source": [
    "import pandas as pd\n",
    "orders = pd.read_csv('datasets/ltv_orders_1.csv')\n",
    "print(orders.head())\n",
    "\n",
    "             oid    order_date    revenue           uid\n",
    "0    o_4034055635555    2018-10-01    2165    7767516515987\n",
    "1    o_4534485003752    2018-11-08     790    7767516515987\n",
    "2    o_0533312141074    2018-08-31    1655    7011763199088\n",
    "3    o_4930211082105    2018-10-02    1779    7011763199088\n",
    "4    o_7850020997261    2018-10-26    1934    7011763199088"
   ]
  },
  {
   "cell_type": "markdown",
   "metadata": {},
   "source": [
    "По каждому заказу известен номер (oid), дата (order_date), выручка (revenue) и уникальный номер покупателя (uid)."
   ]
  },
  {
   "cell_type": "markdown",
   "metadata": {},
   "source": [
    "Посмотрим на распределение дат заказов:\n"
   ]
  },
  {
   "cell_type": "code",
   "execution_count": null,
   "metadata": {},
   "outputs": [],
   "source": [
    "orders['order_date'].describe()\n",
    "\n",
    "count                   10501\n",
    "unique                    296\n",
    "top       2018-12-21 00:00:00\n",
    "freq                       67\n",
    "first     2018-03-09 00:00:00\n",
    "last      2018-12-30 00:00:00\n",
    "Name: order_date, dtype: object"
   ]
  },
  {
   "cell_type": "markdown",
   "metadata": {},
   "source": [
    "Первая покупка состоялась 9 марта 2018 года. Последняя — 30 декабря этого же года.\n"
   ]
  },
  {
   "cell_type": "markdown",
   "metadata": {},
   "source": [
    "Изучим файл с расходами:\n"
   ]
  },
  {
   "cell_type": "code",
   "execution_count": null,
   "metadata": {},
   "outputs": [],
   "source": [
    "costs = pd.read_csv('datasets/ltv_costs_1.csv')\n",
    "print(costs.head())\n",
    "\n",
    "        date    costs\n",
    "0    2018-03-09    2706\n",
    "1    2018-03-10    7008\n",
    "2    2018-03-12    5102\n",
    "3    2018-03-13    3101\n",
    "4    2018-03-14    2925"
   ]
  },
  {
   "cell_type": "markdown",
   "metadata": {},
   "source": [
    "О них известна дата (date) и сумма (costs). Взглянем на распределение:\n"
   ]
  },
  {
   "cell_type": "code",
   "execution_count": null,
   "metadata": {},
   "outputs": [],
   "source": [
    "costs['date'].describe()\n",
    "\n",
    "count                     295\n",
    "unique                    295\n",
    "top       2018-04-03 00:00:00\n",
    "freq                        1\n",
    "first     2018-03-09 00:00:00\n",
    "last      2018-12-30 00:00:00"
   ]
  },
  {
   "cell_type": "markdown",
   "metadata": {},
   "source": [
    "Диапазон дат расходов совпадает с датами заказов.<br>\n",
    "<br>\n",
    "LTV удобно считать по когортам. Вспомним, что для этого нужно:<br>\n",
    "- найти дату первой покупки каждого покупателя;<br>\n",
    "- вычислить число новых покупателей за каждую дату;<br>\n",
    "- добавить дату первой покупки в таблицу с заказами;<br>\n",
    "- сгруппировать таблицу и посчитать выручку."
   ]
  },
  {
   "cell_type": "markdown",
   "metadata": {},
   "source": [
    "Данные почти за год. Удобнее всего сформировать месячные когорты. Выделим месяцы из дат в таблицах с заказами и расходами:\n"
   ]
  },
  {
   "cell_type": "code",
   "execution_count": null,
   "metadata": {},
   "outputs": [],
   "source": [
    "orders['order_month'] = orders['order_date'].astype('datetime64[M]')\n",
    "costs['month'] = costs['date'].astype('datetime64[M]')"
   ]
  },
  {
   "cell_type": "markdown",
   "metadata": {},
   "source": [
    "Получим месяц первой покупки каждого покупателя:\n"
   ]
  },
  {
   "cell_type": "code",
   "execution_count": null,
   "metadata": {},
   "outputs": [],
   "source": [
    "first_orders = orders.groupby('uid').agg({'order_month': 'min'}).reset_index()\n",
    "first_orders.columns = ['uid', 'first_order_month']\n",
    "print(first_orders.head())\n",
    "\n",
    "  uid     first_order_month\n",
    "0    12505001352    2018-12-01\n",
    "1    12551349712    2018-11-01\n",
    "2    17395115257    2018-05-01\n",
    "3    19935112191    2018-09-01\n",
    "4    21100696320    2018-04-01"
   ]
  },
  {
   "cell_type": "markdown",
   "metadata": {},
   "source": [
    "Посчитаем количество новых покупателей (n_buyers) за каждый месяц:\n"
   ]
  },
  {
   "cell_type": "code",
   "execution_count": null,
   "metadata": {},
   "outputs": [],
   "source": [
    "cohort_sizes = first_orders.groupby('first_order_month').agg({'uid': 'nunique'}).reset_index()\n",
    "cohort_sizes.columns = ['first_order_month', 'n_buyers']\n",
    "print(cohort_sizes.head())\n",
    "\n",
    " first_order_month    n_buyers\n",
    "0    2018-03-01          61\n",
    "1    2018-04-01          226\n",
    "2    2018-05-01          276\n",
    "3    2018-06-01          301\n",
    "4    2018-07-01          307"
   ]
  },
  {
   "cell_type": "markdown",
   "metadata": {},
   "source": [
    "Построим когорты. Добавим месяц первой покупки каждого покупателя в таблицу с заказами:\n"
   ]
  },
  {
   "cell_type": "code",
   "execution_count": null,
   "metadata": {},
   "outputs": [],
   "source": [
    "orders_new = pd.merge(orders,first_orders, on='uid')\n",
    "print(orders_new.head())\n",
    "\n",
    "             oid    order_date    revenue uid    order_month    first_order_month\n",
    "0    o_4034055635555    2018-10-01    2165    7767516515987    2018-10-01    2018-10-01\n",
    "1    o_4534485003752    2018-11-08     790    7767516515987    2018-11-01    2018-10-01\n",
    "2    o_0533312141074    2018-08-31    1655    7011763199088    2018-08-01    2018-08-01\n",
    "3    o_4930211082105    2018-10-02    1779    7011763199088    2018-10-01    2018-08-01\n",
    "4    o_7850020997261    2018-10-26    1934    7011763199088    2018-10-01    2018-08-01"
   ]
  },
  {
   "cell_type": "markdown",
   "metadata": {},
   "source": [
    "Построим когорты. Добавим месяц первой покупки каждого покупателя в таблицу с заказами:\n"
   ]
  },
  {
   "cell_type": "code",
   "execution_count": null,
   "metadata": {},
   "outputs": [],
   "source": [
    "             oid    order_date    revenue uid    order_month    first_order_month\n",
    "0    o_4034055635555    2018-10-01    2165    7767516515987    2018-10-01    2018-10-01\n",
    "1    o_4534485003752    2018-11-08     790    7767516515987    2018-11-01    2018-10-01\n",
    "2    o_0533312141074    2018-08-31    1655    7011763199088    2018-08-01    2018-08-01\n",
    "3    o_4930211082105    2018-10-02    1779    7011763199088    2018-10-01    2018-08-01\n",
    "4    o_7850020997261    2018-10-26    1934    7011763199088    2018-10-01    2018-08-01"
   ]
  },
  {
   "cell_type": "markdown",
   "metadata": {},
   "source": [
    "Сгруппируем таблицу заказов по месяцу первой покупки и месяцу каждого заказа и сложим выручку. Сбросим индекс методом reset_index():"
   ]
  },
  {
   "cell_type": "code",
   "execution_count": null,
   "metadata": {},
   "outputs": [],
   "source": [
    "cohorts = orders_new.groupby(['first_order_month','order_month']).agg({'revenue': 'sum'}).reset_index()\n",
    "print(cohorts.head())\n",
    "\n",
    "  first_order_month    order_month     revenue\n",
    "0          2018-03-01     2018-03-01     118529\n",
    "1         2018-03-01     2018-04-01      95905\n",
    "2         2018-03-01     2018-05-01     124972\n",
    "3         2018-03-01     2018-06-01     107273\n",
    "4         2018-03-01     2018-07-01      70575"
   ]
  },
  {
   "cell_type": "markdown",
   "metadata": {},
   "source": [
    "Строка таблицы cohorts показывает, какую выручку принесла когорта. Например, строка 0 сообщает, что покупатели, сделавшие свой первый заказ в марте 2018 года, в этом же месяце принесли суммарно 118529 рублей выручки.\n"
   ]
  },
  {
   "cell_type": "markdown",
   "metadata": {},
   "source": [
    "С точки зрения когортного анализа LTV — накопительная выручка когорты в пересчёте на количество людей. Добавим в таблицу cohorts данные о том, сколько людей первый раз совершили покупку в каждый месяц:\n"
   ]
  },
  {
   "cell_type": "code",
   "execution_count": null,
   "metadata": {},
   "outputs": [],
   "source": [
    "report = pd.merge(cohort_sizes, cohorts, on='first_order_month')\n",
    "print(report.head())\n",
    "\n",
    "first_order_month    n_buyers    order_month    revenue\n",
    "0       2018-03-01          61    2018-03-01    118529\n",
    "1       2018-03-01          61    2018-04-01    95905\n",
    "2       2018-03-01           61    2018-05-01    124972\n",
    "3       2018-03-01          61    2018-06-01    107273\n",
    "4       2018-03-01          61    2018-07-01    70575"
   ]
  },
  {
   "cell_type": "markdown",
   "metadata": {},
   "source": [
    "Ранее в таблице появился столбец с новыми покупателями — n_buyers. В первых 5 строках его значение не изменяется — ведь это продажи одной и той же когорты.\n"
   ]
  },
  {
   "cell_type": "markdown",
   "metadata": {},
   "source": [
    "До расчёта LTV осталось 2 шага. Во-первых, LTV считают не из выручки, а из валовой прибыли. Значит, нужно найти валовую прибыль, умножив выручку на маржинальность. Во-вторых, LTV — относительный показатель. Значит его удобнее смотреть по «возрастным» когортам, где в столбцах — не месяц заказа, а возраст (age) когорты.\n"
   ]
  },
  {
   "cell_type": "code",
   "execution_count": null,
   "metadata": {},
   "outputs": [],
   "source": [
    "margin_rate = 0.5\n",
    "    \n",
    "report['gp'] = report['revenue'] * margin_rate\n",
    "report['age'] = (report['order_month'] - report['first_order_month']) / np.timedelta64(1, 'M')\n",
    "report['age'] = report['age'].round().astype('int')\n",
    "print(report.head())\n",
    "\n",
    "first_order_month    n_buyers     order_month    revenue       gp    age\n",
    "0         2018-03-01        61        2018-03-01    118529    59264.5     0\n",
    "1         2018-03-01        61        2018-04-01     95905    47952.5     1\n",
    "2         2018-03-01        61        2018-05-01    124972    62486.0     2\n",
    "3         2018-03-01        61        2018-06-01    107273    53636.5     3\n",
    "4         2018-03-01        61        2018-07-01     70575    35287.5     4"
   ]
  },
  {
   "cell_type": "markdown",
   "metadata": {},
   "source": [
    "Наконец, найдём LTV. Разделим валовую прибыль когорт за каждый месяц на общее число пользователей в каждой когорте. Для наглядности визуализируем когорты в виде сводной таблицы:\n"
   ]
  },
  {
   "cell_type": "code",
   "execution_count": null,
   "metadata": {},
   "outputs": [],
   "source": [
    "report['ltv'] = report['gp'] / report['n_buyers']\n",
    "    \n",
    "output = report.pivot_table(\n",
    "        index='first_order_month', \n",
    "        columns='age', \n",
    "        values='ltv', \n",
    "        aggfunc='mean').round()\n",
    "    \n",
    "output.fillna('')\n",
    "\n",
    "age            0    1      2        3        4        5     6\n",
    "first_order_month                            \n",
    "2018-03-01     972    786    1024    879    578    241    58\n",
    "2018-04-01    1127    860     994    701    349    101    9\n",
    "2018-05-01    1142    881     908    460    147    29    4\n",
    "2018-06-01    1136    929     684    280     33        \n",
    "2018-07-01    1043    900     694    263     36        \n",
    "2018-08-01    1092    828     618    198     22        \n",
    "2018-09-01    1023    710     228    33            \n",
    "2018-10-01    1031    445      74                \n",
    "2018-11-01     987    453                    \n",
    "2018-12-01     930"
   ]
  },
  {
   "cell_type": "markdown",
   "metadata": {},
   "source": [
    "Посчитаем итоговый LTV первой когорты. Сложим их LTV по месяцам:\n"
   ]
  },
  {
   "cell_type": "code",
   "execution_count": null,
   "metadata": {},
   "outputs": [],
   "source": [
    "ltv_201803 = output.loc['2018-03-01'].sum()\n",
    "print(ltv_201803)\n",
    "\n",
    "4538.0"
   ]
  },
  {
   "cell_type": "markdown",
   "metadata": {},
   "source": [
    "В среднем каждый покупатель из первой когорты принес по 4538 рублей выручки за 7 месяцев «жизни».\n"
   ]
  },
  {
   "cell_type": "markdown",
   "metadata": {},
   "source": [
    "Посчитаем CAC этой когорты. Поделим расходы за этот месяц на количество людей в когорте:\n"
   ]
  },
  {
   "cell_type": "code",
   "execution_count": null,
   "metadata": {},
   "outputs": [],
   "source": [
    "# отфильруем нужную когорту\n",
    "cohort_201803 = report[report['first_order_month'] == '2018-03-01']\n",
    "\n",
    "# посчитаем расходы за этот месяц\n",
    "costs_201803 = costs[costs['month'] == '2018-03-01']['costs'].sum()\n",
    "\n",
    "n_buyers_201803 = cohort_201803['n_buyers'][0]\n",
    "cac_201803 = costs_201803 / n_buyers_201803\n",
    "ltv_201803   = output.loc['2018-03-01'].sum()\n",
    "\n",
    "print('CAC =', cac_201803)\n",
    "print('LTV =', ltv_201803)\n",
    "\n",
    "CAC = 3145.655737704918\n",
    "LTV = 4538.0"
   ]
  },
  {
   "cell_type": "markdown",
   "metadata": {},
   "source": [
    "Привлечение одного покупателя в среднем обошлось компании в 3145.7 рублей. Валовая прибыль с каждого из них: 4538 рублей. То есть вложения в привлечение покупателей окупились, и у магазина остались деньги на прочие расходы.\n"
   ]
  },
  {
   "cell_type": "markdown",
   "metadata": {},
   "source": [
    "Посчитаем остальные когорты и посмотрим, сколько месяцев нужно каждой когорте, чтобы окупить маркетинговые затраты. Посчитаем CAC каждой когорты. Сначала найдём суммарные расходы за каждый месяц, а затем поделим их на количество покупателей в каждой когорте:\n"
   ]
  },
  {
   "cell_type": "code",
   "execution_count": null,
   "metadata": {},
   "outputs": [],
   "source": [
    "# считаем расходы за месяц\n",
    "monthly_costs = costs.groupby('month').sum()\n",
    "monthly_costs.head()\n",
    "\n",
    "                         costs\n",
    "month    \n",
    "2018-03-01    191885\n",
    "2018-04-01    696282\n",
    "2018-05-01    845773\n",
    "2018-06-01    912186\n",
    "2018-07-01    940385"
   ]
  },
  {
   "cell_type": "markdown",
   "metadata": {},
   "source": [
    "Добавим данные о расходах в отчёт и посчитаем CAC:\n"
   ]
  },
  {
   "cell_type": "code",
   "execution_count": null,
   "metadata": {},
   "outputs": [],
   "source": [
    "report_new = pd.merge(report, monthly_costs, left_on='first_order_month', right_on='month')\n",
    "report_new['cac'] = report_new['costs'] / report_new['n_buyers']\n",
    "report_new.head()\n",
    "\n",
    "    first_order_month    n_buyers    order_month    revenue    gp    age    ltv    costs    cac\n",
    "0    2018-03-01    61    2018-03-01    118529    59264.5    0    971.549180    191885    3145.655738\n",
    "1    2018-03-01    61    2018-04-01     95905    47952.5    1    786.106557    191885    3145.655738\n",
    "2    2018-03-01    61    2018-05-01    124972    62486.0    2    1024.360656    191885    3145.655738\n",
    "3    2018-03-01    61    2018-06-01    107273    53636.5    3    879.286885    191885    3145.655738\n",
    "4    2018-03-01    61    2018-07-01     70575    35287.5    4    578.483607    191885    3145.655738"
   ]
  },
  {
   "cell_type": "markdown",
   "metadata": {},
   "source": [
    "Рассчитаем ROMI: поделим LTV на CAC.\n"
   ]
  },
  {
   "cell_type": "markdown",
   "metadata": {},
   "source": [
    "Чтобы посчитать накопительный ROMI, вызовем метод <b>cumsum()</b> (от англ. cumulative sum, «накапливаемая сумма»). Он последовательно складывает элементы множества. Например, <b>pd.Series([1, 2, 3]).cumsum()</b> вернёт серию из 3 элементов: 1, 3 и 6. Каждое значение равно сумме предыдущих: <b>1, 3 = 1+2, 6 = 1+2+3.</b>\n"
   ]
  },
  {
   "cell_type": "code",
   "execution_count": null,
   "metadata": {},
   "outputs": [],
   "source": [
    "report_new['romi'] = report_new['ltv'] / report_new['cac']\n",
    "output = report_new.pivot_table(\n",
    "        index='first_order_month', \n",
    "        columns='age', \n",
    "        values='romi', \n",
    "        aggfunc='mean')\n",
    "\n",
    "output.cumsum(axis=1).round(2)"
   ]
  },
  {
   "cell_type": "code",
   "execution_count": null,
   "metadata": {},
   "outputs": [],
   "source": [
    "age            0        1        2        3        4       5      6\n",
    "first_order_month                            \n",
    "2018-03-01    0.31    0.56    0.88    1.16    1.35    1.42    1.44\n",
    "2018-04-01    0.37    0.64    0.97    1.19    1.31    1.34    1.34\n",
    "2018-05-01    0.37    0.66    0.96    1.11    1.15    1.16    1.17\n",
    "2018-06-01    0.37    0.68    0.91    1.00    1.01        \n",
    "2018-07-01    0.34    0.63    0.86    0.95    0.96        \n",
    "2018-08-01    0.37    0.65    0.86    0.93    0.93        \n",
    "2018-09-01    0.35    0.60    0.67    0.69            \n",
    "2018-10-01    0.35    0.50    0.53                \n",
    "2018-11-01    0.32    0.47                    \n",
    "2018-12-01    0.31"
   ]
  },
  {
   "cell_type": "markdown",
   "metadata": {},
   "source": [
    "Читаем отчет:<br>\n",
    "- Мартовская когорта окупилась на 4 месяц (ROMI = 1.16).<br>\n",
    "- Апрельская когорта окупилась на 4 месяц тоже (ROMI = 1.19).<br>\n",
    "- Вообще к 4-5 месяцу жизни все когорты уже окупились либо близки к этому."
   ]
  },
  {
   "cell_type": "markdown",
   "metadata": {},
   "source": [
    "На практике считают <b>среднюю когорту</b> — усредняют ROMI или LTV всех когорт за каждый месяц их жизни. Например, узнаем, как быстро в среднем когорты окупаются. Усредним значения каждой колонки и «сложим» таблицу в единую строку методом mean(axis=0):"
   ]
  },
  {
   "cell_type": "code",
   "execution_count": null,
   "metadata": {},
   "outputs": [],
   "source": [
    "output.cumsum(axis=1).mean(axis=0)\n",
    "\n",
    "age\n",
    "0    0.346404\n",
    "1    0.599110\n",
    "2    0.829296\n",
    "3    1.003225\n",
    "4    1.118678\n",
    "5    1.309746\n",
    "6    1.317369\n",
    "dtype: float64"
   ]
  },
  {
   "cell_type": "markdown",
   "metadata": {},
   "source": [
    "В среднем когорты окупаются к концу 4 месяца.\n"
   ]
  },
  {
   "cell_type": "markdown",
   "metadata": {},
   "source": [
    "Почему когорты показывают хорошие результаты, а бизнес всё равно убыточен? Дело в том, что компания начала наращивать обороты начиная с октября. Расходы выросли, количество новых клиентов тоже, но на окупаемость требуется 4 месяца, вот доходы и не успели «догнать» затраты. Кажется, в компании всё хорошо и увольнять маркетологов пока не нужно.\n"
   ]
  },
  {
   "cell_type": "markdown",
   "metadata": {},
   "source": [
    "## Оценка пользовательской активности\n"
   ]
  },
  {
   "cell_type": "markdown",
   "metadata": {},
   "source": [
    "На активных пользователей смотрят в трёх измерениях:<br>\n",
    "<br>\n",
    "- <b>DAU (от англ. daily active users)</b> — количество уникальных пользователей в день;<br>\n",
    "- <b>WAU (от англ. weekly active users)</b> — количество уникальных пользователей в неделю;<br>\n",
    "- <b>MAU (от англ. monthly active users)</b> — количество уникальных пользователей в месяц."
   ]
  },
  {
   "cell_type": "code",
   "execution_count": null,
   "metadata": {},
   "outputs": [],
   "source": [
    "session_end_ts     session_start_ts                    id\n",
    "0  2018-05-12 13:01:00  2018-05-12 12:59:00   6166747268563051447\n",
    "1  2018-05-12 13:01:00  2018-05-12 13:01:00  14914378861449143644\n",
    "2  2018-05-12 13:02:00  2018-05-12 13:00:00   3454575477456344412\n",
    "3  2018-05-12 13:02:00  2018-05-12 13:02:00    630504356053318052\n",
    "4  2018-05-12 13:03:00  2018-05-12 13:02:00    596727621648472758"
   ]
  },
  {
   "cell_type": "markdown",
   "metadata": {},
   "source": [
    "Чтобы посчитать недельное и месячное использование, выделим в отдельные столбцы год, месяц и неделю, а также полную дату."
   ]
  },
  {
   "cell_type": "code",
   "execution_count": null,
   "metadata": {},
   "outputs": [],
   "source": [
    "users_data['session_year']  = users_data['session_start_ts'].dt.year\n",
    "users_data['session_month'] = users_data['session_start_ts'].dt.month\n",
    "users_data['session_week']  = users_data['session_start_ts'].dt.week\n",
    "users_data['session_date'] = users_data['session_start_ts'].dt.date\n",
    "print(users_data.head())\n",
    "\n",
    "session_end_ts    session_start_ts                    id  session_year  \\\n",
    "0 2018-05-12 13:01:00 2018-05-12 12:59:00   6166747268563051447          2018   \n",
    "1 2018-05-12 13:01:00 2018-05-12 13:01:00  14914378861449143644          2018   \n",
    "2 2018-05-12 13:02:00 2018-05-12 13:00:00   3454575477456344412          2018   \n",
    "3 2018-05-12 13:02:00 2018-05-12 13:02:00    630504356053318052          2018   \n",
    "4 2018-05-12 13:03:00 2018-05-12 13:02:00    596727621648472758          2018   \n",
    "\n",
    "   session_month  session_week session_date  \n",
    "0              5            19   2018-05-12  \n",
    "1              5            19   2018-05-12  \n",
    "2              5            19   2018-05-12  \n",
    "3              5            19   2018-05-12  \n",
    "4              5            19   2018-05-12"
   ]
  },
  {
   "cell_type": "markdown",
   "metadata": {},
   "source": [
    "Посчитаем метрики. Сгруппируем данные по уникальным пользователям и найдём среднее:\n"
   ]
  },
  {
   "cell_type": "code",
   "execution_count": null,
   "metadata": {},
   "outputs": [],
   "source": [
    "dau_total = users_data.groupby('session_date').agg({'id': 'nunique'}).mean()\n",
    "wau_total = users_data.groupby(['session_year', 'session_week']).agg({'id': 'nunique'}).mean()\n",
    "\n",
    "print(int(dau_total))\n",
    "print(int(wau_total))\n",
    "\n",
    "1536\n",
    "8297"
   ]
  },
  {
   "cell_type": "markdown",
   "metadata": {},
   "source": [
    "Обратите внимание, это разные метрики. Если 7 раз сложите DAU, не получите WAU.\n",
    "<br>\n",
    "<br>\n",
    "Почему следить за этими метриками важно? Ведь они не помогут принять решение о внедрении новых функций в приложении, так как слабо чувствительны к изменениям в продукте. Да и не подскажут, как изменение отразилось на пользователях. Как правило, эти метрики растут и оттого нужны для мотивации команды. На английском их называют <b>vanity metrics (англ. «метрики тщеславия»)</b>.\n"
   ]
  },
  {
   "cell_type": "markdown",
   "metadata": {},
   "source": [
    "Ещё одна метрика — <b>sticky factor (англ. «липкий фактор»)</b>. Формулы его расчёта простые: sticky factor = DAU/WAU или sticky factor = DAU/MAU. Так можно посчитать регулярность использования вашего приложения — то, как часто пользователи к нему обращаются."
   ]
  },
  {
   "cell_type": "markdown",
   "metadata": {},
   "source": [
    "## Пользовательская сессия\n"
   ]
  },
  {
   "cell_type": "markdown",
   "metadata": {},
   "source": [
    "Вы знаете, сколько пользователей заходит в ваше приложение. Хорошо бы получить информацию, как долго они там сидят. Ответить на этот вопрос помогает <b>сессия</b> — набор действий пользователя, выполняемый от открытия приложения для окончания его использования.\n"
   ]
  },
  {
   "cell_type": "markdown",
   "metadata": {},
   "source": [
    "Полезно изучить то, сколько сессий приходится на одного пользователя, например, за месяц. Это хороший показатель регулярности использования приложения.<br>\n",
    "<br>\n",
    "Найти эту метрику просто — разделим число сессий на количество пользователей за период:"
   ]
  },
  {
   "cell_type": "code",
   "execution_count": null,
   "metadata": {},
   "outputs": [],
   "source": [
    "sessions_per_user = users_data.groupby(['session_year', 'session_month']).agg({'id': ['count','nunique']})\n",
    "sessions_per_user.columns = ['n_sessions', 'n_users']\n",
    "sessions_per_user['sess_per_user'] = sessions_per_user['n_sessions'] / sessions_per_user['n_users']\n",
    "print(sessions_per_user)\n",
    "\n",
    "n_sessions  n_users  sess_per_user\n",
    "session_year session_month                                    \n",
    "2018         5                   36716    26975       1.361112\n",
    "             6                   47607    33473       1.422251\n",
    "             7                   21586    15839       1.362839"
   ]
  },
  {
   "cell_type": "markdown",
   "metadata": {},
   "source": [
    "В месяц один пользователь в среднем проводит в приложении максимум 1.4 сессии. Не сказать, что продукт используется регулярно.\n"
   ]
  },
  {
   "cell_type": "markdown",
   "metadata": {},
   "source": [
    "Средняя продолжительность сессии или <b>ASL (англ. average session length)</b> показывает, сколько длится сессия пользователя в среднем."
   ]
  },
  {
   "cell_type": "markdown",
   "metadata": {},
   "source": [
    "То, насколько хороша средняя продолжительность сессии, можно оценить только с учётом специфики продукта. Например, для игр показатель ASL важен: он косвенно говорит, что игра пользователям нравится. Однако для приложения «Будильник» эта же метрика не покажет ничего существенного. Пользователи заходят в такое приложение в определённое время и решают понятную задачу. Чтобы оценить эффективность «Будильника», лучше рассчитать Retention Rate.\n"
   ]
  },
  {
   "cell_type": "markdown",
   "metadata": {},
   "source": [
    "Найдём ASL — посчитаем длину всех сессий и вычислим среднее:\n"
   ]
  },
  {
   "cell_type": "code",
   "execution_count": null,
   "metadata": {},
   "outputs": [],
   "source": [
    "users_data['session_duration_sec'] = (users_data['session_end_ts'] - users_data['session_start_ts']).dt.seconds\n",
    "print(users_data['session_duration_sec'].mean())\n",
    "\n",
    "611.9434608956745"
   ]
  },
  {
   "cell_type": "markdown",
   "metadata": {},
   "source": [
    "Кажется, всё получилось. Однако взглянем на распределение:\n"
   ]
  },
  {
   "cell_type": "code",
   "execution_count": null,
   "metadata": {},
   "outputs": [],
   "source": [
    "users_data['session_duration_sec'].hist(bins=50)"
   ]
  },
  {
   "cell_type": "code",
   "execution_count": 1,
   "metadata": {},
   "outputs": [
    {
     "data": {
      "text/html": [
       "<img src=\"https://pictures.s3.yandex.net/resources/Untitled_1567853574.png\"/>"
      ],
      "text/plain": [
       "<IPython.core.display.Image object>"
      ]
     },
     "execution_count": 1,
     "metadata": {},
     "output_type": "execute_result"
    }
   ],
   "source": [
    "from IPython.display import Image\n",
    "from IPython.core.display import HTML \n",
    "Image(url= \"https://pictures.s3.yandex.net/resources/Untitled_1567853574.png\")"
   ]
  },
  {
   "cell_type": "markdown",
   "metadata": {},
   "source": [
    "Когда распределение близко к нормальному или нормальное — можно смотреть на среднюю или медиану. Наше — не из таких, рассчитаем моду (значение в выборке, которое встречается чаще всего):\n"
   ]
  },
  {
   "cell_type": "code",
   "execution_count": null,
   "metadata": {},
   "outputs": [],
   "source": [
    "print(users_data['session_duration_sec'].mode())\n",
    "\n",
    "0    60\n",
    "dtype: int64"
   ]
  },
  {
   "cell_type": "markdown",
   "metadata": {},
   "source": [
    "При падении средней продолжительности сессии, важно выдвинуть гипотезы, почему так могло случиться. Например, ваш сайт плохо отображается в мобильной версии — и все сессии со смартфонов и планшетов очень короткие.\n"
   ]
  },
  {
   "cell_type": "markdown",
   "metadata": {},
   "source": [
    "## Фреймворки метрик\n"
   ]
  },
  {
   "cell_type": "markdown",
   "metadata": {},
   "source": [
    "Начнём с фреймворка от Google, помогающего оценить UX (от англ. user experience, «пользовательский опыт»). Его название <b>HEART</b> (англ. «сердце») образовано от пяти направлений метрик:<br>\n",
    "<br>\n",
    " - Happiness (от англ. happiness, «счастье»)\n",
    "Нравится ли пользователю продукт/сервис?<br>\n",
    " - Engagement (от англ. еngagement, «вовлечённость»)\n",
    "Как часто пользуются и рассказывают о продукте в социальных сетях?<br>\n",
    " - Adoption (от англ. adoption, «принятие»)\n",
    "Сколько новых пользователей появилось?<br>\n",
    " - Retention (от англ. retention, «удержание»)\n",
    "Как много клиентов остаются верны сервису?<br>\n",
    " - Task success (от англ. task success, «успех задачи»)\n",
    "Насколько успешно выполняется целевое действие (подписка, покупка, добавление товара в корзину)?"
   ]
  },
  {
   "cell_type": "markdown",
   "metadata": {},
   "source": [
    "Благодаря простоте фреймворк <b>HEART</b> широко применяют в оценке разных продуктов. Кроме того, его можно дорабатывать. Обычно этот фреймворк используется вместе с подходом Goals-Signals-Metrics (от англ. goals, «цели»; signals, «сигналы»; metrics, «метрики»).<br>\n",
    "<br>\n",
    "Он помогает определить ключевые для каждого направления метрики.<br>\n",
    "<br>\n",
    "Работа выстраивается так:<br>\n",
    "- Формулируем цели продукта.<br>\n",
    "- Отвечаем на вопрос: как на пользовательском поведении отразится достижение целей или их провал.<br>\n",
    "- Решаем, как измерить сигналы."
   ]
  },
  {
   "cell_type": "code",
   "execution_count": 2,
   "metadata": {},
   "outputs": [
    {
     "data": {
      "text/html": [
       "<img src=\"https://pictures.s3.yandex.net/resources/happiness_1567996904.jpg\"/>"
      ],
      "text/plain": [
       "<IPython.core.display.Image object>"
      ]
     },
     "execution_count": 2,
     "metadata": {},
     "output_type": "execute_result"
    }
   ],
   "source": [
    "from IPython.display import Image\n",
    "from IPython.core.display import HTML \n",
    "Image(url= \"https://pictures.s3.yandex.net/resources/happiness_1567996904.jpg\")"
   ]
  },
  {
   "cell_type": "markdown",
   "metadata": {},
   "source": [
    "Второй удобный фреймворк — <b>AARRR</b>. Часто его называют «пиратским фреймворком», или «пиратскими метриками»: аббревиатура напоминает боевой клич пиратов. AARRR помогает понять движение пользователей продукта и оптимизировать воронку."
   ]
  },
  {
   "cell_type": "markdown",
   "metadata": {},
   "source": [
    " - Acquisition (от англ. acquisition, «привлечение»)\n",
    "Откуда приходят клиенты?<br>\n",
    "<br>\n",
    " - Activation (от англ. activation, «активация»)\n",
    "Дошёл ли пользователь до целевого действия, когда начал взаимодействие с продуктом?<br>\n",
    "<br>\n",
    " - Retention (от англ. retention, «удержание»)\n",
    "Сколько клиентов остаются с вами и почему теряете остальных?<br>\n",
    "<br>\n",
    " - Referral (от англ. referral, «рекомендация»)\n",
    "Готовы ли пользователи рекомендовать продукт?<br>\n",
    "<br>\n",
    " - Revenue (от англ. revenue, «доход»)\n",
    "Как можно увеличить доход?"
   ]
  },
  {
   "cell_type": "code",
   "execution_count": 3,
   "metadata": {},
   "outputs": [
    {
     "data": {
      "text/html": [
       "<img src=\"https://pictures.s3.yandex.net/resources/arrr_1567996844.jpg\"/>"
      ],
      "text/plain": [
       "<IPython.core.display.Image object>"
      ]
     },
     "execution_count": 3,
     "metadata": {},
     "output_type": "execute_result"
    }
   ],
   "source": [
    "from IPython.display import Image\n",
    "from IPython.core.display import HTML \n",
    "Image(url= \"https://pictures.s3.yandex.net/resources/arrr_1567996844.jpg\")"
   ]
  },
  {
   "cell_type": "markdown",
   "metadata": {},
   "source": [
    "Переходя от одного этапа к другому, рассчитывается конверсия. Так можно отследить, насколько успешно привлекаются пользователи и что влияет на покупку."
   ]
  },
  {
   "cell_type": "markdown",
   "metadata": {},
   "source": [
    "Внедрить в работу эти фреймворки зачастую хотят менеджеры продуктов. А зачем они нужны аналитику?<br>\n",
    "<br>\n",
    "- Фреймворки дают бизнес-понимание. Метрики взаимосвязаны, и чаще всего их можно представить в виде системы. А значит, вы сможете правильно интерпретировать результаты анализа.<br>\n",
    "- Решают бизнес-задачи. Если вы работаете в команде, где только формируется культура работы с аналитикой, обратите внимание коллег на известные фреймворки. (Может, не стоит изобретать велосипед.)<br>\n",
    "- Помогают создать свой фреймворк. Наборы метрик можно доработать: так, у вас появится собственная система оценки."
   ]
  },
  {
   "cell_type": "markdown",
   "metadata": {},
   "source": [
    "## Расследование аномалий\n"
   ]
  },
  {
   "cell_type": "markdown",
   "metadata": {},
   "source": [
    "Когортный анализ числа магазинов, подключённых к сервису доставки, показал их резкое падение в нескольких когортах. Почему это произошло? «Отключённые» магазины входят в одну сеть. У неё сменились технические параметры сайтов, где и был размещён ваш виджет с предложением о доставке.\n"
   ]
  },
  {
   "cell_type": "markdown",
   "metadata": {},
   "source": [
    "Такие ситуации в работе аналитика встречаются часто. Здесь мало изучать данные — надо быть в курсе того, что происходит с магазинами, и задействовать критическое мышление.\n"
   ]
  },
  {
   "cell_type": "markdown",
   "metadata": {},
   "source": [
    "Рассмотрим две ситуации:<br>\n",
    "- За прошлую неделю пользовательская активность выросла в несколько раз и достигла пиковых значений. (Открываем шампанское, которое мы порывались выпить ещё год назад.)<br>\n",
    "- По итогам месяца упало среднее время сессии. (Закрываем проект и расходимся!)<br>\n",
    "<br>\n",
    "Чем они различаются? В первой ситуации описан положительный сценарий, во второй — отрицательный. Но это только на первый взгляд."
   ]
  },
  {
   "cell_type": "markdown",
   "metadata": {},
   "source": [
    "Разберём детально:<br>\n",
    "- Пользовательская активность выросла.<br>\n",
    "Мы календарь перевернём... Допустим, сейчас время новогодних праздников. Так, в чём же причина стремительного роста? Да просто для доставки не хватает курьеров-людей.<br>\n",
    "- Среднее время сессии упало<br>\n",
    "Ваша команда выпустила обновление. Теперь при запуске приложения отсутствует ознакомление (онбординг) — нужно сразу регистрироваться. Напомним: пользователям и так непонятна новая услуга (доставка дронами), ещё нет никакого объяснения, как это работает. Нечего удивляться, что они уходят."
   ]
  },
  {
   "cell_type": "markdown",
   "metadata": {},
   "source": [
    "Приступим к расследованию аномалий. Оно проходит в несколько этапов:<br>\n",
    "- Сбор данных и расчёт ключевых метрик.<br>\n",
    "- Визуализация данных.<br>\n",
    "- Отделение данных с аномальным поведением (делаем срез данных и его «изолируем», выражаясь на жаргоне аналитиков).<br>\n",
    "- Изучение данных и поиск причины:<br>\n",
    "    - сравнение с другими аномалиями;<br>\n",
    "    - учёт внешнего события;<br>\n",
    "    - анализ проблем, возникших у конкурентов;<br>\n",
    "    - сбор данных (как он был устроен, что могло сломаться);<br>\n",
    "    - учёт сезонности, будущих релизов и больших изменений.<br>\n",
    "- Выводы."
   ]
  },
  {
   "cell_type": "markdown",
   "metadata": {},
   "source": [
    "На изменение метрик могли повлиять сезонность, праздники и технические неполадки. Расследование нужно проводить, когда аномалия данных уже произошла.\n"
   ]
  },
  {
   "cell_type": "markdown",
   "metadata": {},
   "source": [
    "Рассмотрим пример. Ваша компания занимается доставкой воды «Как пить дать». Руководитель просит увеличить прибыль. Каким способом? Увеличить количество пользователей! Сделали. Но далеко не все покупают наш продукт. Значит, стоит повысить конверсию! В среднем, с ней и так всё хорошо... А теперь посмотрите на неё в разных разрезах: одинаковая ли конверсия днём и ночью, на разных платформах, в разных городах? Вероятнее всего, вы найдёте значимые отличия. Именно это ключ к увеличению конверсии.\n"
   ]
  },
  {
   "cell_type": "markdown",
   "metadata": {},
   "source": [
    "Такой процесс позволяет найти точки роста. Это особенно актуально, когда продукт стабилен и нужно делать тонкие настройки для его улучшения.\n"
   ]
  },
  {
   "cell_type": "markdown",
   "metadata": {},
   "source": [
    "## API Яндекс.Метрики\n"
   ]
  },
  {
   "cell_type": "markdown",
   "metadata": {},
   "source": [
    "### 1. Введение и получение авторизационного токена"
   ]
  },
  {
   "cell_type": "markdown",
   "metadata": {},
   "source": [
    "Logs API позволяет получать неагрегированные данные, собираемые Яндекс.Метрикой.<br>\n",
    "<br>\n",
    "Агрегированные, или обобщённые данные, которые вы видите в интерфейсе Метрики или выгружаете через API отчётов, рассчитываются для определённой группы визитов. Например, метрика «время на сайте» вычисляется для всех переходов из какого-либо источника трафика, всех визитов от посетителей мужского пола или всех визитов с планшетов.<br>\n",
    "<br>\n",
    "Основой для этих расчётов служат сырые данные — записи об отдельных визитах или просмотрах. Таблица с этими записями и передаётся через Logs API, при этом каждая запись дополнена полезными сведениями из Метрики. Это подробные данные по Яндекс.Директу и электронной коммерции, стране и городу посетителя. В сырых данных также есть техническая информация о визите: например, браузер и модель мобильного телефона.<br>\n",
    "<br>\n",
    "Чтобы обращаться к Метрике через Logs API, нужна авторизация через авторизационный токен. Его указывают в каждом запросе к API.\n",
    "Узнайте, как зарегистрировать приложение для доступа к данным и получить авторизационный токен на странице поддержки: https://yandex.ru/dev/oauth/doc/dg/tasks/register-client-docpage/<br>\n",
    "<br>\n",
    "Легче всего получить отладочный токен для авторизации. О том, как это сделать, прочитайте тут: https://yandex.ru/dev/oauth/doc/dg/tasks/get-oauth-token-docpage/"
   ]
  },
  {
   "cell_type": "markdown",
   "metadata": {},
   "source": [
    "### 2. Оценка возможности создания запроса\n"
   ]
  },
  {
   "cell_type": "markdown",
   "metadata": {},
   "source": [
    "Первым сделаем запрос метода <b>evaluate (англ. «оценивать»)</b>. Этот метод оценивает возможность создания запроса логов по его примерному размеру. Дело в том, что по заданным параметрам в Яндекс.Метрике может храниться слишком большой объем данных. Он будет слишком долго подготавливаться на серверах Яндекс.Метрики. Потому существуют ограничения: для одного счётчика Яндекс.Метрики суммарный размер данных в запросе не превышает 10 ГБ.<br>\n",
    "<br>\n",
    "Вот документация метода evaluate: https://yandex.ru/dev/metrika/doc/api2/logs/queries/evaluate-docpage/"
   ]
  },
  {
   "cell_type": "markdown",
   "metadata": {},
   "source": [
    "Запрос к методу evaluate выглядит так:"
   ]
  },
  {
   "cell_type": "code",
   "execution_count": null,
   "metadata": {},
   "outputs": [],
   "source": [
    "<https://api-metrika.yandex.net/management/v1/counter/{counterId}/logrequests/evaluate>\n",
    " ? [date1=<string>]\n",
    " & [date2=<string>]\n",
    " & [fields=<string>]\n",
    " & [source=<log_request_source>]"
   ]
  },
  {
   "cell_type": "markdown",
   "metadata": {},
   "source": [
    "<b>counterId в URL</b> — идентификатор счётчика."
   ]
  },
  {
   "cell_type": "markdown",
   "metadata": {},
   "source": [
    "Также передаётся несколько параметров get-запроса:<br>\n",
    "<br>\n",
    "- <b>date1</b> — Первый день сбора статистики;<br>\n",
    "- <b>date2</b> — Последний день (не может быть текущим днем);<br>\n",
    "- <b>fields</b> — Список полей через запятую. Этот параметр задаёт, какие поля из базы Яндекс.Метрики надо получать;<br>\n",
    "- <b>source</b> — Источник логов. Может принимать одно из двух значений: visits или hits. В зависимости от выбранного значения будет происходить получение либо данных по посещениям, либо данных по <b>хитам</b> (просмотрам определённых страниц, выполнению целей)."
   ]
  },
  {
   "cell_type": "markdown",
   "metadata": {},
   "source": [
    "Осталось определиться с тем, из какого источника получать данные и какие поля выбрать. Это всегда зависит от задачи. Запросим, например, данные о посещениях с такими полями:\n",
    "- ym:s:visitID — идентификатор посещения;\n",
    "- ym:s:dateTime — время посещения;\n",
    "- ym:s:isNewUser — пользователь зашёл на сайт впервые или уже бывал;\n",
    "- ym:s:visitDuration — длительность посещения в секундах;\n",
    "- ym:s:startURL — URL страницы входа;\n",
    "- ym:s:clientID — идентификатор пользователя;\n",
    "- ym:s:lastTrafficSource — источник трафика посещения."
   ]
  },
  {
   "cell_type": "markdown",
   "metadata": {},
   "source": [
    "Зададим все нужные параметры в соответствующих переменных:"
   ]
  },
  {
   "cell_type": "code",
   "execution_count": null,
   "metadata": {},
   "outputs": [],
   "source": [
    "COUNTER_ID = 44147844\n",
    "DATE1 = '2019-04-01'\n",
    "DATE2 = '2019-05-31'\n",
    "SOURCE = 'visits'\n",
    "FIELDS = ['ym:s:visitID', 'ym:s:dateTime', 'ym:s:isNewUser','ym:s:visitDuration',\n",
    "                 'ym:s:startURL', 'ym:s:clientID', 'ym:s:lastTrafficSource']"
   ]
  },
  {
   "cell_type": "markdown",
   "metadata": {},
   "source": [
    "Сформируем словарь с параметрами:\n"
   ]
  },
  {
   "cell_type": "code",
   "execution_count": null,
   "metadata": {},
   "outputs": [],
   "source": [
    "PARAM = {\n",
    "        'date1': DATE1,\n",
    "        'date2':DATE2,\n",
    "        'source':SOURCE,\n",
    "        'fields':','.join(FIELDS)\n",
    "}"
   ]
  },
  {
   "cell_type": "markdown",
   "metadata": {},
   "source": [
    "Обратите внимание, поля FIELDS передают одной строкой. Чтобы сцепить строки из списка FIELDS вместе, вызывают метод join()."
   ]
  },
  {
   "cell_type": "markdown",
   "metadata": {},
   "source": [
    "Объявим URL для запроса. Подставим идентификатор счётчика counter_id в URL-адрес метода evaluate:\n"
   ]
  },
  {
   "cell_type": "code",
   "execution_count": null,
   "metadata": {},
   "outputs": [],
   "source": [
    "URL = 'https://api-metrika.yandex.ru/management/v1/counter/{counter_id}/logrequests/evaluate?'\\\n",
    "        .format(counter_id=COUNTER_ID)"
   ]
  },
  {
   "cell_type": "markdown",
   "metadata": {},
   "source": [
    "Всё готово для запроса. Импортируем знакомую библиотеку requests, выполним GET-запрос и запишем результаты выполнения запроса в переменной r:\n"
   ]
  },
  {
   "cell_type": "code",
   "execution_count": null,
   "metadata": {},
   "outputs": [],
   "source": [
    "import requests\n",
    "r = requests.get(URL,headers={'Authorization': 'OAuth {0}'.format(TOKEN)},params=PARAM)"
   ]
  },
  {
   "cell_type": "markdown",
   "metadata": {},
   "source": [
    "Обратите внимание, что помимо params, метод get() принимает параметр headers. Там содержатся **HTTP-заголовки** — служебные данные, которые передают серверу дополнительную информацию. Например, в каком формате должен быть возвращен ответ. В HTTP-заголовке 'Authorization' указали авторизационный токен."
   ]
  },
  {
   "cell_type": "markdown",
   "metadata": {},
   "source": [
    "Посмотрим, какой ответ пришел от API:\n"
   ]
  },
  {
   "cell_type": "code",
   "execution_count": null,
   "metadata": {},
   "outputs": [],
   "source": [
    "print(r.text)\n",
    "\n",
    "{\"log_request_evaluation\":{\"possible\":true,\"max_possible_day_quantity\":122049}}"
   ]
  },
  {
   "cell_type": "markdown",
   "metadata": {},
   "source": [
    "Знакомый формат JSON. Вы знаете, как его обработать:\n"
   ]
  },
  {
   "cell_type": "code",
   "execution_count": null,
   "metadata": {},
   "outputs": [],
   "source": [
    "data['log_request_evaluation']['possible']\n",
    "\n",
    "True"
   ]
  },
  {
   "cell_type": "markdown",
   "metadata": {},
   "source": [
    "Можно!\n",
    " "
   ]
  },
  {
   "cell_type": "markdown",
   "metadata": {},
   "source": [
    "### 3. Создание запроса логов"
   ]
  },
  {
   "cell_type": "markdown",
   "metadata": {},
   "source": [
    "Такие большие данные нельзя получить сразу! Сперва создают запрос логов: отправляют к API Яндекс.Метрики информацию о том, какой запрос хочется получить. Тогда сервера Яндекс.Метрики начнут его готовить.\n"
   ]
  },
  {
   "cell_type": "markdown",
   "metadata": {},
   "source": [
    "Запрос на отчёт создают методом **logrequests**. Вот как он выглядит:\n"
   ]
  },
  {
   "cell_type": "code",
   "execution_count": null,
   "metadata": {},
   "outputs": [],
   "source": [
    "<https://api-metrika.yandex.net/management/v1/counter/{counterId}/logrequests>\n",
    " ? [date1=<string>]\n",
    " & [date2=<string>]\n",
    " & [fields=<string>]\n",
    " & [source=<log_request_source>]"
   ]
  },
  {
   "cell_type": "markdown",
   "metadata": {},
   "source": [
    "Параметры get-запроса к методу logrequests такие же, как у метода evaluate:\n",
    "- date1 — Первый день сбора статистики;\n",
    "- date2 — Последний день (не может быть текущим днем);\n",
    "- fields — Список полей через запятую;\n",
    "- source — Источник логов."
   ]
  },
  {
   "cell_type": "markdown",
   "metadata": {},
   "source": [
    "Объявим URL запроса:\n"
   ]
  },
  {
   "cell_type": "code",
   "execution_count": null,
   "metadata": {},
   "outputs": [],
   "source": [
    "URL = 'https://api-metrika.yandex.ru/management/v1/counter/{counter_id}/logrequests?'\\\n",
    "        .format(counter_id=COUNTER_ID)"
   ]
  },
  {
   "cell_type": "markdown",
   "metadata": {},
   "source": [
    "Отправим post-запрос:\n"
   ]
  },
  {
   "cell_type": "code",
   "execution_count": null,
   "metadata": {},
   "outputs": [],
   "source": [
    "r = requests.post(URL,headers={'Authorization': 'OAuth {0}'.format(TOKEN)},params=PARAM)"
   ]
  },
  {
   "cell_type": "markdown",
   "metadata": {},
   "source": [
    "Как и для предыдущего запроса, HTTP-заголовок передали в параметре headers."
   ]
  },
  {
   "cell_type": "markdown",
   "metadata": {},
   "source": [
    "Сохраним ответ на запрос в переменной data:\n"
   ]
  },
  {
   "cell_type": "code",
   "execution_count": null,
   "metadata": {},
   "outputs": [],
   "source": [
    "data = json.loads(r.text)\n",
    "print(data)\n",
    "\n",
    "{'log_request': {'request_id': 4518541,\n",
    "    'counter_id': 44147844,\n",
    "    'source': 'visits',\n",
    "    'date1': '2019-04-01',\n",
    "    'date2': '2019-05-31',\n",
    "    'fields': ['ym:s:visitID',\n",
    "     'ym:s:dateTime',\n",
    "     'ym:s:isNewUser',\n",
    "     'ym:s:visitDuration',\n",
    "     'ym:s:startURL',\n",
    "     'ym:s:clientID',\n",
    "     'ym:s:lastTrafficSource'],\n",
    "    'status': 'created'}}"
   ]
  },
  {
   "cell_type": "markdown",
   "metadata": {},
   "source": [
    "Получили те же параметры запроса, которые указали. А ещё **request_id**. Это идентификатор запроса логов. Сохраним его в переменной:\n"
   ]
  },
  {
   "cell_type": "code",
   "execution_count": null,
   "metadata": {},
   "outputs": [],
   "source": [
    "request_id = data['log_request']['request_id']"
   ]
  },
  {
   "cell_type": "markdown",
   "metadata": {},
   "source": [
    "Он пригодится в дальнейшем для проверки статуса готовности данных.\n"
   ]
  },
  {
   "cell_type": "markdown",
   "metadata": {},
   "source": [
    "### 4. Проверка готовности лога"
   ]
  },
  {
   "cell_type": "markdown",
   "metadata": {},
   "source": [
    "После того, как был получен идентификатор запроса логов (request_id), можно проверить, готовы ли данные этого лога для загрузки.<br>\n",
    "<br>\n",
    "Чтобы получить информацию о запросах, которые готовятся Яндекс.Метрикой, составляют запрос метода logrequests. Он выглядит так:"
   ]
  },
  {
   "cell_type": "code",
   "execution_count": null,
   "metadata": {},
   "outputs": [],
   "source": [
    "<https://api-metrika.yandex.net/management/v1/counter/{counterId}/logrequest/{request_id}>"
   ]
  },
  {
   "cell_type": "markdown",
   "metadata": {},
   "source": [
    "В URL-адресе передаются параметры:\n",
    "- counterId — идентификатор счётчика;\n",
    "- request_id — идентификатор запроса лога."
   ]
  },
  {
   "cell_type": "markdown",
   "metadata": {},
   "source": [
    "Когда запрос на подготовку данных отправили, должно пройти время, прежде чем он будет готов. Обычно это занимает несколько минут. Теоретически можно раз в минуту делать запросы и проверять готовность. Только не аналитическое это дело! Лучше напишем алгоритм, как ежеминутно проверять статус выполнения запроса:\n"
   ]
  },
  {
   "cell_type": "code",
   "execution_count": null,
   "metadata": {},
   "outputs": [],
   "source": [
    "1. Статус выполнения = Создан\n",
    "2. Если Статус выполнения = Создан, то:\n",
    "    3. Ждём 60 секунд \n",
    "    4. Запрашиваем Статус выполнения у Метрики\n",
    "    5. Переходим к пункту 2\n",
    "6. Если Статус выполнения ≠ Создан, то:\n",
    "    7. Завершаем алгоритм"
   ]
  },
  {
   "cell_type": "markdown",
   "metadata": {},
   "source": [
    "Нужно сделать так, чтобы в цикле ничего не происходило ровно минуту, а затем выполнялось получение статуса. Если статус изменяется с 'created' (англ. «созданный») на 'processed' («обработанный»), программа останавливается.\n",
    "<br>\n",
    "Чтобы притормозить цикл на минуту, вызовем метод sleep() из библиотеки time. Методу передают количество секунд, в течение которых алгоритм будет «спать».<br>\n",
    "<br>\n",
    "Если не предусмотреть «задержку» в выполнении алгоритма, то запросы будут отправляться слишком часто. А это противоречит политике сервиса: обычно существует ограничение на число запросов к сторонним API за одну секунду.\n",
    "Также проверим код ответа, чтобы выполнять получение статуса, только если этот код равен 200:"
   ]
  },
  {
   "cell_type": "code",
   "execution_count": null,
   "metadata": {},
   "outputs": [],
   "source": [
    "import time\n",
    "status = 'created'\n",
    "while status == 'created':\n",
    "        time.sleep(60)\n",
    "        print ('trying')\n",
    "        URL = 'https://api-metrika.yandex.ru/management/v1/counter/{counter_id}/logrequest/{request_id}'\\\n",
    "        .format(counter_id=COUNTER_ID,request_id=request_id)\n",
    "        r = requests.get(URL,headers={'Authorization': 'OAuth {0}'.format(TOKEN)})\n",
    "        if r.status_code == 200:\n",
    "                status = json.loads(r.text)['log_request']['status']\n",
    "                print (json.dumps(json.loads(r.text)['log_request'], indent = 4))\n",
    "                \n",
    "trying\n",
    "{\n",
    "        \"request_id\": 4518541,\n",
    "        \"counter_id\": 44147844,\n",
    "        \"source\": \"visits\",\n",
    "        \"date1\": \"2019-04-01\",\n",
    "        \"date2\": \"2019-05-31\",\n",
    "        \"fields\": [\n",
    "                \"ym:s:visitID\",\n",
    "                \"ym:s:dateTime\",\n",
    "                \"ym:s:isNewUser\",\n",
    "                \"ym:s:visitDuration\",\n",
    "                \"ym:s:startURL\",\n",
    "                \"ym:s:clientID\",\n",
    "                \"ym:s:lastTrafficSource\"\n",
    "        ],\n",
    "        \"status\": \"processed\",\n",
    "        \"size\": 3674696,\n",
    "        \"parts\": [\n",
    "                {\n",
    "                        \"part_number\": 0,\n",
    "                        \"size\": 3674696\n",
    "                }\n",
    "        ]\n",
    "}"
   ]
  },
  {
   "cell_type": "markdown",
   "metadata": {},
   "source": [
    "Если данных много, API Яндекс.Метрики отдаёт их по частям. В ответе со статусом \"processed\" есть и список частей данных в parts. Объём данных в нашем примере всего 3,5 мегабайта, и потому все они отдаются одной частью."
   ]
  },
  {
   "cell_type": "markdown",
   "metadata": {},
   "source": [
    "### 5. Загружаем лог"
   ]
  },
  {
   "cell_type": "markdown",
   "metadata": {},
   "source": [
    "Чтобы получить часть данных из лога, отправляют такой get-запрос:\n"
   ]
  },
  {
   "cell_type": "code",
   "execution_count": null,
   "metadata": {},
   "outputs": [],
   "source": [
    "<https://api-metrika.yandex.net/management/v1/counter/{counterId}/logrequest/{request_id}/part/{part}/download>"
   ]
  },
  {
   "cell_type": "markdown",
   "metadata": {},
   "source": [
    "В URL-адресе передают параметры:\n",
    "- counterId — идентификатор счётчика;\n",
    "- request_id — идентификатор запроса лога;\n",
    "- part — номер части лога."
   ]
  },
  {
   "cell_type": "markdown",
   "metadata": {},
   "source": [
    "Сначала получим номера частей, которые есть в ответе:\n"
   ]
  },
  {
   "cell_type": "code",
   "execution_count": null,
   "metadata": {},
   "outputs": [],
   "source": [
    "parts = json.loads(r.text)['log_request']['parts']\n",
    "print(parts)\n",
    "\n",
    "[{'part_number': 0, 'size': 3674696}]"
   ]
  },
  {
   "cell_type": "markdown",
   "metadata": {},
   "source": [
    "Это список словарей, где каждый содержит номер части и её размер. Чтобы пройтись циклом по номерам всех частей, сведём их в один список:\n"
   ]
  },
  {
   "cell_type": "code",
   "execution_count": null,
   "metadata": {},
   "outputs": [],
   "source": [
    "parts_list = []\n",
    "for part in parts:\n",
    "        parts_list.append(part['part_number'])"
   ]
  },
  {
   "cell_type": "markdown",
   "metadata": {},
   "source": [
    "Внутри цикла сделаем запрос для получения части данных.\n"
   ]
  },
  {
   "cell_type": "code",
   "execution_count": null,
   "metadata": {},
   "outputs": [],
   "source": [
    "from io import StringIO\n",
    "import pandas as pd\n",
    "\n",
    "tmp_dfs = []\n",
    "for part_num in parts_list:\n",
    "        URL = 'https://api-metrika.yandex.ru/management/v1/counter/{counter_id}/logrequest/{request_id}/part/{part}/download' \\\n",
    "                        .format(\n",
    "                                counter_id=COUNTER_ID,\n",
    "                                request_id=request_id,\n",
    "                                part=part_num\n",
    "                        )\n",
    "\n",
    "        r = requests.get(URL,headers={'Authorization': 'OAuth {0}'.format(TOKEN)})\n",
    "        if r.status_code == 200:\n",
    "                tmp_df = pd.read_csv(StringIO(r.text), sep = '\\t') # StringIO\n",
    "                tmp_dfs.append(tmp_df)\n",
    "\n",
    "logs_df = pd.concat(tmp_dfs)"
   ]
  },
  {
   "cell_type": "markdown",
   "metadata": {},
   "source": [
    "Обратите внимание на конструкцию StringIO(r.text). Функция StringIO() из библиотеки io позволяет прочитать строку как файл. Дело в том, что метод read_csv() принимает как аргумент только файл, а часть данных в ответе от API возвращается в виде строки. StringIO(r.text) превращает строку в особый тип файла — **memory file** (англ. «файл в памяти»). Преобразование позволяет прочитать его методом read_csv() в датафрейме tmp_df."
   ]
  },
  {
   "cell_type": "markdown",
   "metadata": {},
   "source": [
    "Добавим эти файлы в список tmp_dfs, чтобы затем объединить их в один датафрейм logs_df методом pd.concat(). Затем экспортируем данные в виде csv-файла вызовом метода to_csv():"
   ]
  },
  {
   "cell_type": "code",
   "execution_count": null,
   "metadata": {},
   "outputs": [],
   "source": [
    "logs_df.to_csv('sessions_logs.csv',index=False)"
   ]
  },
  {
   "cell_type": "markdown",
   "metadata": {},
   "source": [
    "Вот как получить данные из Logs API Яндекс.Метрики. Это крутой навык. Вы сможете анализировать данные о посещаемости веб-сайтов на более детальном уровне и проверять более сложные гипотезы. В следующем уроке мы так и сделаем, чтобы сформулировать полезные выводы."
   ]
  },
  {
   "cell_type": "markdown",
   "metadata": {},
   "source": []
  },
  {
   "cell_type": "markdown",
   "metadata": {},
   "source": []
  }
 ],
 "metadata": {
  "kernelspec": {
   "display_name": "Python 3",
   "language": "python",
   "name": "python3"
  },
  "language_info": {
   "codemirror_mode": {
    "name": "ipython",
    "version": 3
   },
   "file_extension": ".py",
   "mimetype": "text/x-python",
   "name": "python",
   "nbconvert_exporter": "python",
   "pygments_lexer": "ipython3",
   "version": "3.7.3"
  }
 },
 "nbformat": 4,
 "nbformat_minor": 2
}
