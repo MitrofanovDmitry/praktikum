{
 "cells": [
  {
   "cell_type": "markdown",
   "metadata": {},
   "source": [
    "Представьте рабочий шкаф. На его полках стоят подписанные коробки: «Сотрудники», «Отчёты», «Поставщики». В каждой коробке — стопка документов. В коробке «Сотрудники» карточки работников, где указан их возраст, пол и должность. Если нужно узнать возраст инженера Петрова, вы быстро найдёте эту информацию. Примерно так же устроены и базы данных.\n"
   ]
  },
  {
   "cell_type": "markdown",
   "metadata": {},
   "source": [
    "База данных — это хранилище структурированной информации. Если знать правила её организации, извлечь данные из базы очень просто.\n"
   ]
  },
  {
   "cell_type": "markdown",
   "metadata": {},
   "source": [
    "Вернёмся к шкафу. Обратите внимание, что в одной коробке хранят схожие объекты. Карточки сотрудников в коробке «Сотрудники», записи о поставщиках — в «Поставщиках». Так выделяют сущности — группы объектов с общими характеристиками. Объект — отдельный представитель сущности. Если сущность — это коробка «Сотрудники», то объект сущности — карточка инженера Петрова.\n"
   ]
  },
  {
   "cell_type": "markdown",
   "metadata": {},
   "source": [
    "Базы, устроенные подобно этому шкафу, называются реляционные (англ. relation — «отношение», «зависимость», «связь»). Если в шкафу данные хранятся в коробках, в реляционной базе — во множестве таблиц.\n"
   ]
  },
  {
   "cell_type": "markdown",
   "metadata": {},
   "source": [
    "## Таблицы"
   ]
  },
  {
   "cell_type": "markdown",
   "metadata": {},
   "source": [
    "Столбцы таблицы называются <b>поля</b>. В них обозначают характеристики объекта. Например, имя, должность, сильную и слабую стороны:"
   ]
  },
  {
   "cell_type": "code",
   "execution_count": 1,
   "metadata": {},
   "outputs": [
    {
     "data": {
      "text/html": [
       "<img src=\"https://pictures.s3.yandex.net/resources/Pied_Piper-3_1565869120.jpg\"/>"
      ],
      "text/plain": [
       "<IPython.core.display.Image object>"
      ]
     },
     "execution_count": 1,
     "metadata": {},
     "output_type": "execute_result"
    }
   ],
   "source": [
    "from IPython.display import Image\n",
    "from IPython.core.display import HTML \n",
    "Image(url= \"https://pictures.s3.yandex.net/resources/Pied_Piper-3_1565869120.jpg\")"
   ]
  },
  {
   "cell_type": "markdown",
   "metadata": {},
   "source": [
    "У каждого поля есть уникальное имя и характерный тип данных.\n",
    "<br>\n",
    "<br>\n",
    "Строки таблицы называются <b>записи</b>. Каждая строка — информация об одном объекте; здесь — о сотруднике. Например, Дональд Данн трудится операционным менеджером, его сильная сторона — организация процесса, а слабая — привычка говорить по-немецки во сне."
   ]
  },
  {
   "cell_type": "code",
   "execution_count": 2,
   "metadata": {},
   "outputs": [
    {
     "data": {
      "text/html": [
       "<img src=\"https://pictures.s3.yandex.net/resources/Pied_Piper-1_1565869153.jpg\"/>"
      ],
      "text/plain": [
       "<IPython.core.display.Image object>"
      ]
     },
     "execution_count": 2,
     "metadata": {},
     "output_type": "execute_result"
    }
   ],
   "source": [
    "from IPython.display import Image\n",
    "from IPython.core.display import HTML \n",
    "Image(url= \"https://pictures.s3.yandex.net/resources/Pied_Piper-1_1565869153.jpg\")"
   ]
  },
  {
   "cell_type": "markdown",
   "metadata": {},
   "source": [
    "<b>Ячейка</b> — место пересечения строки и столбца. Например, Динеш Чугтай — разработчик на Java:"
   ]
  },
  {
   "cell_type": "code",
   "execution_count": 3,
   "metadata": {},
   "outputs": [
    {
     "data": {
      "text/html": [
       "<img src=\"https://pictures.s3.yandex.net/resources/Pied_Piper-2_1565869194.jpg\"/>"
      ],
      "text/plain": [
       "<IPython.core.display.Image object>"
      ]
     },
     "execution_count": 3,
     "metadata": {},
     "output_type": "execute_result"
    }
   ],
   "source": [
    "from IPython.display import Image\n",
    "from IPython.core.display import HTML \n",
    "Image(url= \"https://pictures.s3.yandex.net/resources/Pied_Piper-2_1565869194.jpg\")"
   ]
  },
  {
   "cell_type": "markdown",
   "metadata": {},
   "source": [
    "Номер записи — <b>первичный ключ</b>. Он нужен в каждой таблице базы данных, чтобы записи определялись однозначно. Все значения в этом поле <b>уникальны</b>."
   ]
  },
  {
   "cell_type": "code",
   "execution_count": 4,
   "metadata": {},
   "outputs": [
    {
     "data": {
      "text/html": [
       "<img src=\"https://pictures.s3.yandex.net/resources/Pied_Piper-4_1565869223.jpg\"/>"
      ],
      "text/plain": [
       "<IPython.core.display.Image object>"
      ]
     },
     "execution_count": 4,
     "metadata": {},
     "output_type": "execute_result"
    }
   ],
   "source": [
    "from IPython.display import Image\n",
    "from IPython.core.display import HTML \n",
    "Image(url= \"https://pictures.s3.yandex.net/resources/Pied_Piper-4_1565869223.jpg\")"
   ]
  },
  {
   "cell_type": "markdown",
   "metadata": {},
   "source": [
    "Бывают в таблицах не только простые первичные ключи из одного поля, но и <b>составные первичные ключи</b>. Они состоят из нескольких полей. Например, если бы в таблице не было поля «номер», составным ключом стала бы комбинация полей «Имя и фамилия» и «Должность». Это сочетание однозначно определяет записи в таблице."
   ]
  },
  {
   "cell_type": "code",
   "execution_count": 5,
   "metadata": {},
   "outputs": [
    {
     "data": {
      "text/html": [
       "<img src=\"https://pictures.s3.yandex.net/resources/Pied_Piper_1565949510.jpg\"/>"
      ],
      "text/plain": [
       "<IPython.core.display.Image object>"
      ]
     },
     "execution_count": 5,
     "metadata": {},
     "output_type": "execute_result"
    }
   ],
   "source": [
    "from IPython.display import Image\n",
    "from IPython.core.display import HTML \n",
    "Image(url= \"https://pictures.s3.yandex.net/resources/Pied_Piper_1565949510.jpg\")"
   ]
  },
  {
   "cell_type": "markdown",
   "metadata": {},
   "source": [
    "## Срезы данных в SQL\n"
   ]
  },
  {
   "cell_type": "markdown",
   "metadata": {},
   "source": [
    "### WHERE"
   ]
  },
  {
   "cell_type": "markdown",
   "metadata": {},
   "source": [
    "Начало условия, по которому отбираются данные, обозначают командой <b>WHERE</b>"
   ]
  },
  {
   "cell_type": "code",
   "execution_count": null,
   "metadata": {},
   "outputs": [],
   "source": [
    "НАЗВАНИЕ\tСМЫСЛ\n",
    "=           равно\n",
    "<>, !=      не равно\n",
    ">           больше\n",
    "<           меньше\n",
    ">=          больше или равно\n",
    "<=          меньше или равно"
   ]
  },
  {
   "cell_type": "code",
   "execution_count": null,
   "metadata": {},
   "outputs": [],
   "source": [
    "# Выберем все книги Ремарка:\n",
    "SELECT \n",
    "    name, \n",
    "    author \n",
    "FROM \n",
    "    books\n",
    "WHERE \n",
    "    author = 'Эрих Мария Ремарк';--Строки, как в Python, заключают в кавычки"
   ]
  },
  {
   "cell_type": "code",
   "execution_count": null,
   "metadata": {},
   "outputs": [],
   "source": [
    "#... или все книги, которые писал не Ремарк:\n",
    "SELECT \n",
    "    name, \n",
    "    author \n",
    "FROM \n",
    "    books\n",
    "WHERE \n",
    "    author != 'Эрих Мария Ремарк';"
   ]
  },
  {
   "cell_type": "code",
   "execution_count": null,
   "metadata": {},
   "outputs": [],
   "source": [
    "НАЗВАНИЕ\tОПИСАНИЕ\n",
    "AND\t        позволяет выбирать только те строки, которые удовлетворяют всем условиям.\n",
    "OR\t        позволяет выбирать строки, которые удовлетворяют любому из условий.\n",
    "NOT\t        позволяет выбрать строки, которые не соответствуют условию."
   ]
  },
  {
   "cell_type": "code",
   "execution_count": null,
   "metadata": {},
   "outputs": [],
   "source": [
    "SELECT \n",
    "    * \n",
    "FROM \n",
    "    название_таблицы\n",
    "WHERE \n",
    "    условие_1 AND условие_2;\n",
    "--Выбираются строки, которые соответствуют сразу обоим условиям \n",
    "SELECT \n",
    "    * \n",
    "FROM \n",
    "    название_таблицы\n",
    "WHERE \n",
    "    условие_1 OR условие_2;\n",
    "--Выбираются строки, которые соответствуют хотя бы одному из условий\n",
    "SELECT \n",
    "    * \n",
    "FROM \n",
    "    название_таблицы\n",
    "WHERE \n",
    "    условие_1 AND NOT условие_2;\n",
    "--Выбираются строки, которые соответствуют условию_1 и не соответствуют условию_2"
   ]
  },
  {
   "cell_type": "markdown",
   "metadata": {},
   "source": [
    "### BETWEEN "
   ]
  },
  {
   "cell_type": "code",
   "execution_count": null,
   "metadata": {},
   "outputs": [],
   "source": [
    "SELECT \n",
    "    name, \n",
    "    author, \n",
    "    date_pub, \n",
    "    price \n",
    "FROM \n",
    "    books\n",
    "WHERE \n",
    "    date_pub > '1990-12-31' AND date_pub  < '2001-01-01';\n",
    "/* границы дат в условие не включены, \n",
    "чтобы выбрать все дни с 1991 по 2000 годы,\n",
    "мы взяли последний день 1990 года\n",
    "и первый день 2001 года */"
   ]
  },
  {
   "cell_type": "markdown",
   "metadata": {},
   "source": [
    "Этот же запрос можно написать короче, с применением конструкции <b>BETWEEN</b> (англ. «между»). В отличие от предыдущего кода, границы диапазона в BETWEEN включены в результирующую выборку:"
   ]
  },
  {
   "cell_type": "code",
   "execution_count": null,
   "metadata": {},
   "outputs": [],
   "source": [
    "SELECT \n",
    "    name, \n",
    "    author, \n",
    "    date_pub, \n",
    "    price \n",
    "FROM \n",
    "    books\n",
    "WHERE \n",
    "    date_pub BETWEEN '1991-01-01' AND '2000-12-31';\n",
    "/* границы включаются, поэтому \n",
    "мы выбираем первый день 1991 года \n",
    "и последний день 2000 года */"
   ]
  },
  {
   "cell_type": "markdown",
   "metadata": {},
   "source": [
    "Оба запроса приведут к одинаковым результатам. Предпочесть первый вариант или второй — дело вкуса. Одни аналитики считают, что способ с двумя неравенствами лучше, потому что чётко сообщает о том, включаются ли границы диапазона в выборку. Другие думают, что запрос с BETWEEN лаконичнее, а значит, соответствует правилам хорошего кода."
   ]
  },
  {
   "cell_type": "markdown",
   "metadata": {},
   "source": [
    "### IN"
   ]
  },
  {
   "cell_type": "markdown",
   "metadata": {},
   "source": [
    "После IN указывают список значений, которые нужно включить в результат:"
   ]
  },
  {
   "cell_type": "markdown",
   "metadata": {},
   "source": [
    "Если в списке должны быть числа, их указывают через запятую: IN (3,7,9). Строки тоже через запятую, но в одинарных кавычках: IN ('значение_1','значение_2','значение_3'). Дату и время обозначают так: IN ('ГГГГ-мм-дд','ГГГГ-мм-дд')"
   ]
  },
  {
   "cell_type": "code",
   "execution_count": null,
   "metadata": {},
   "outputs": [],
   "source": [
    "SELECT \n",
    "    name, \n",
    "    pub_name \n",
    "FROM \n",
    "    books\n",
    "WHERE \n",
    "    pub_name ='АСТ' OR pub_name = 'ЛитРес' OR  pub_name ='Росмэн' OR  pub_name = 'Эксмо';"
   ]
  },
  {
   "cell_type": "markdown",
   "metadata": {},
   "source": [
    "Что, если бы в условии было не 4 издательства, а 20 или даже больше? Нужно более лаконичное решение. Например, такое:"
   ]
  },
  {
   "cell_type": "code",
   "execution_count": null,
   "metadata": {},
   "outputs": [],
   "source": [
    "SELECT  \n",
    "    name, \n",
    "    pub_name  \n",
    "FROM \n",
    "    books\n",
    "WHERE \n",
    "    pub_name IN ('АСТ', 'ЛитРес', 'Росмэн','Эксмо');"
   ]
  },
  {
   "cell_type": "markdown",
   "metadata": {},
   "source": [
    "В связке с NOT оператор <b>IN</b> позволит выбрать все книги, изданные не в «АСТ», «ЛитРес», «Росмэн» и «Эксмо»:"
   ]
  },
  {
   "cell_type": "markdown",
   "metadata": {},
   "source": [
    "## Агрегирующие функции"
   ]
  },
  {
   "cell_type": "markdown",
   "metadata": {},
   "source": [
    "### COUNT()"
   ]
  },
  {
   "cell_type": "markdown",
   "metadata": {},
   "source": [
    "В зависимости от задачи количество строк считают по-разному:<br>\n",
    " - <b>COUNT(*)</b> возвращает общее количество строк в таблице;<br>\n",
    " - <b>COUNT(column)</b> возвращает число строк в столбце column;<br>\n",
    " - <b>COUNT(DISTINCT column)</b> (англ. distinct, «отдельный, особый») возвращает количество уникальных строк в столбце column."
   ]
  },
  {
   "cell_type": "code",
   "execution_count": null,
   "metadata": {},
   "outputs": [],
   "source": [
    "#Получим число всех строк таблицы; строк, в которых указан рейтинг; и строк, в которых в столбце rating оценки уникальны:\n",
    "SELECT \n",
    "    COUNT(*) AS cnt,\n",
    "    COUNT(rating) AS author_cnt,\n",
    "    COUNT(DISTINCT rating) AS author_uniq_cnt\n",
    "FROM\n",
    "    books;"
   ]
  },
  {
   "cell_type": "markdown",
   "metadata": {},
   "source": [
    "### SUM()"
   ]
  },
  {
   "cell_type": "markdown",
   "metadata": {},
   "source": [
    "Функция SUM(column) возвращает сумму по столбцу column. При выполнении функции пропуски игнорируются."
   ]
  },
  {
   "cell_type": "code",
   "execution_count": null,
   "metadata": {},
   "outputs": [],
   "source": [
    "SELECT \n",
    "    SUM(price) AS summa\n",
    "FROM\n",
    "    books;"
   ]
  },
  {
   "cell_type": "markdown",
   "metadata": {},
   "source": [
    "### AVG()"
   ]
  },
  {
   "cell_type": "markdown",
   "metadata": {},
   "source": [
    "AVG (column) возвращает среднее значение по столбцу column. Узнаем, сколько в среднем страниц в книгах из таблицы:"
   ]
  },
  {
   "cell_type": "code",
   "execution_count": null,
   "metadata": {},
   "outputs": [],
   "source": [
    "SELECT \n",
    "    AVG(pages) AS average\n",
    "FROM\n",
    "    books;"
   ]
  },
  {
   "cell_type": "markdown",
   "metadata": {},
   "source": [
    "### MIN() и MAX()"
   ]
  },
  {
   "cell_type": "code",
   "execution_count": null,
   "metadata": {},
   "outputs": [],
   "source": [
    "SELECT max(aggregate_expression)\n",
    "\n",
    "FROM tables\n",
    "\n",
    "[WHERE conditions];"
   ]
  },
  {
   "cell_type": "code",
   "execution_count": null,
   "metadata": {},
   "outputs": [],
   "source": [
    "SELECT min(aggregate_expression)\n",
    "\n",
    "FROM tables\n",
    "\n",
    "[WHERE conditions];"
   ]
  },
  {
   "cell_type": "code",
   "execution_count": null,
   "metadata": {},
   "outputs": [],
   "source": [
    "SELECT\n",
    "    max(price) - min(price) AS max_min_diff\n",
    "FROM\n",
    "    products_data_all\n",
    "WHERE\n",
    "    name = 'Масло топленое Ecotavush 99%, 500 г' AND\n",
    "    name_store = 'ВкусМилк';"
   ]
  },
  {
   "cell_type": "markdown",
   "metadata": {},
   "source": [
    "## Изменение типов"
   ]
  },
  {
   "cell_type": "markdown",
   "metadata": {},
   "source": [
    "### CAST()"
   ]
  },
  {
   "cell_type": "code",
   "execution_count": null,
   "metadata": {},
   "outputs": [],
   "source": [
    "CAST (название_столбца AS тип_данных)\n",
    "\n",
    "название_столбца :: тип_данных"
   ]
  },
  {
   "cell_type": "markdown",
   "metadata": {},
   "source": [
    "Числовые типы данных:<br>\n",
    "<b>integer</b> — целочисленный тип, аналогичный типу int в Python. В PostgreSQL диапазон целых чисел от -2147483648 до 2147483647.<br>\n",
    "<b>real</b> — число с плавающей точкой, как float в Python. Точность числа типа real до 6 десятичных разрядов.<br>\n",
    "<br>\n",
    "Строковые типы данных:<br>\n",
    "<b>'Практикум'</b> — значение строкового типа, в SQL запросе его заключают в одинарные кавычки.<br>\n",
    "<b>varchar(n)</b> — строка переменной длины, где n — ограничение. Этот тип данных похож на string в Python, но в отличие от него ограничен по длине: в поле можно занести любую строку короче, чем n символов.<br>\n",
    "<b>text</b> — строка любой длины. Полный аналог string в Python.<br>\n",
    "<br>\n",
    "Дата и время:<br>\n",
    "Любые вводимые значения даты или времени заключают в одинарные кавычки.<br>\n",
    "<b>timestamp</b> — дата и время. Этот тип аналогичен datetime в Pandas. В формате timestamp чаще всего хранят события, происходящие несколько раз за день. Например, логи пользователей сайта.<br>\n",
    "<b>date</b> — дата.<br>\n",
    "\n",
    "Логический:<br>\n",
    "<b>boolean</b> — логический тип данных. В PostgreSQL есть три варианта значений TRUE — «истина», FALSE — «ложь» и NULL — «неизвестно»."
   ]
  },
  {
   "cell_type": "code",
   "execution_count": null,
   "metadata": {},
   "outputs": [],
   "source": [
    "SELECT \n",
    "    AVG(pages :: integer) AS average\n",
    "FROM\n",
    "    books;"
   ]
  },
  {
   "cell_type": "code",
   "execution_count": null,
   "metadata": {},
   "outputs": [],
   "source": [
    "SELECT \n",
    "    AVG (CAST(pages AS integer)) AS average\n",
    "FROM\n",
    "    books;"
   ]
  },
  {
   "cell_type": "markdown",
   "metadata": {},
   "source": [
    "## Группируем данные\n"
   ]
  },
  {
   "cell_type": "code",
   "execution_count": null,
   "metadata": {},
   "outputs": [],
   "source": [
    "SELECT \n",
    "    COUNT(name) AS cnt\n",
    "FROM\n",
    "    books\n",
    "WHERE\n",
    "    author = 'Эрих Мария Ремарк';"
   ]
  },
  {
   "cell_type": "markdown",
   "metadata": {},
   "source": [
    "Как найти число книг каждого автора? Не писать же несколько запросов! Хорошо бы автоматически перебирать авторов, и сразу же считать количество их произведений. Для этого есть группировка.<br>\n",
    "<br>\n",
    "Команду <b>GROUP BY</b> (англ. «группировать по») применяют, когда данные нужно разделить на группы по значениям полей.<br>\n",
    "<br>\n",
    "Пример формата запроса с агрегирующей функцией и группировкой:"
   ]
  },
  {
   "cell_type": "code",
   "execution_count": null,
   "metadata": {},
   "outputs": [],
   "source": [
    " SELECT \n",
    "    поле_1, \n",
    "    поле_2, \n",
    "    ..., \n",
    "    поле_n, \n",
    "    АГРЕГИРУЮЩАЯ_ФУНКЦИЯ(поле) AS here_you_are\n",
    "FROM\n",
    "    таблица\n",
    "WHERE -- если необходимо\n",
    "    условие \n",
    "GROUP BY \n",
    "    поле_1, \n",
    "    поле_2, \n",
    "    ..., \n",
    "    поле_n;"
   ]
  },
  {
   "cell_type": "markdown",
   "metadata": {},
   "source": [
    "После команды GROUP BY перечисляют все поля из блока SELECT. Саму агрегирующую функцию включать в блок GROUP BY не нужно — с ней запрос не выполнится. GROUP BY в SQL работает аналогично методу groupby() в Pandas."
   ]
  },
  {
   "cell_type": "code",
   "execution_count": null,
   "metadata": {},
   "outputs": [],
   "source": [
    "SELECT \n",
    "    author, \n",
    "    COUNT(name) AS cnt\n",
    "FROM\n",
    "    books\n",
    "GROUP BY \n",
    "    author;"
   ]
  },
  {
   "cell_type": "code",
   "execution_count": null,
   "metadata": {},
   "outputs": [],
   "source": [
    "SELECT \n",
    "    author, \n",
    "    rating, \n",
    "    COUNT(name) AS cnt\n",
    "FROM\n",
    "    books\n",
    "GROUP BY \n",
    "    author, \n",
    "    rating;"
   ]
  },
  {
   "cell_type": "markdown",
   "metadata": {},
   "source": [
    "Конструкция GROUP BY работает для всех агрегирующих функций: COUNT(), AVG(), SUM(), MAX(), MIN(). Можно вызывать несколько функций сразу. Например, для каждого автора найдём среднее количество страниц в его произведениях и максимальное количество страниц:"
   ]
  },
  {
   "cell_type": "code",
   "execution_count": null,
   "metadata": {},
   "outputs": [],
   "source": [
    "SELECT \n",
    "    author, \n",
    "    AVG(pages) AS avg_pages,\n",
    "    MAX(pages) AS max_pages\n",
    "FROM\n",
    "    books\n",
    "GROUP BY \n",
    "    author;"
   ]
  },
  {
   "cell_type": "markdown",
   "metadata": {},
   "source": [
    "## Сортируем данные\n"
   ]
  },
  {
   "cell_type": "markdown",
   "metadata": {},
   "source": [
    "Формат запроса с группировкой и сортировкой:\n"
   ]
  },
  {
   "cell_type": "code",
   "execution_count": null,
   "metadata": {},
   "outputs": [],
   "source": [
    "SELECT \n",
    "    поле_1, \n",
    "    поле_2,\n",
    "    ..., \n",
    "    поле_n, \n",
    "    АГРЕГИРУЮЩАЯ_ФУНКЦИЯ(поле) AS here_you_are\n",
    "FROM\n",
    "    таблица\n",
    "WHERE -- если нужно\n",
    "    условие\n",
    "GROUP BY  \n",
    "    поле_1, \n",
    "    поле_2, \n",
    "    ..., \n",
    "    поле_n,\n",
    "ORDER BY -- если необходимо, перечисляем только те поля, \n",
    "--по которым хотим отсортировать таблицу\n",
    "    поле_1, \n",
    "    поле_2, \n",
    "    ..., \n",
    "    поле_n, \n",
    "    here_you_are;"
   ]
  },
  {
   "cell_type": "markdown",
   "metadata": {},
   "source": [
    "## ORDER BY"
   ]
  },
  {
   "cell_type": "markdown",
   "metadata": {},
   "source": [
    "В отличие от GROUP BY, в блоке с командой ORDER BY перечисляем только те поля, по которым хотим сортировать.<br>\n",
    "<br>\n",
    "У команды ORDER BY два аргумента. Они отвечают за порядок сортировки в столбцах:<br>\n",
    "<b>ASC</b> (от англ. ascending, «восходящий») сортирует данные в порядке возрастания. Это аргумент ORDER BY по умолчанию.<br>\n",
    "<b>DESC</b> (от англ. descending, «нисходящий») сортирует данные по убыванию."
   ]
  },
  {
   "cell_type": "code",
   "execution_count": null,
   "metadata": {},
   "outputs": [],
   "source": [
    "ORDER BY \n",
    "    название_поля DESC\n",
    "-- сортируем данные по убыванию \n",
    "\n",
    "ORDER BY \n",
    "    название_поля ASC\n",
    "-- сортируем данные по возрастанию"
   ]
  },
  {
   "cell_type": "code",
   "execution_count": null,
   "metadata": {},
   "outputs": [],
   "source": [
    "#Посчитаем количество книг каждого автора и отсортируем данные:\n",
    "SELECT \n",
    "    author, \n",
    "    COUNT(name) AS cnt\n",
    "FROM\n",
    "    books\n",
    "GROUP BY\n",
    "    author \n",
    "ORDER BY \n",
    "    cnt;"
   ]
  },
  {
   "cell_type": "markdown",
   "metadata": {},
   "source": [
    "## LIMIT"
   ]
  },
  {
   "cell_type": "markdown",
   "metadata": {},
   "source": [
    "Команда LIMIT (англ. «предел») ограничивает количество строк в выводе. Её всегда указывают последней в запросе:"
   ]
  },
  {
   "cell_type": "code",
   "execution_count": null,
   "metadata": {},
   "outputs": [],
   "source": [
    "SELECT \n",
    "    поле_1, \n",
    "    поле_2, \n",
    "    ..., \n",
    "    поле_n, \n",
    "    АГРЕГИРУЮЩАЯ_ФУНКЦИЯ(поле) AS here_you_are\n",
    "FROM\n",
    "    таблица\n",
    "WHERE -- если необходимо\n",
    "    условие\n",
    "GROUP BY  \n",
    "    поле_1, \n",
    "    поле_2, \n",
    "    ..., \n",
    "    поле_n,\n",
    "ORDER BY -- если необходимо, перечисляем только те поля, \n",
    "--по которых хотим отсортировать таблицу\n",
    "    поле_1, \n",
    "    поле_2, \n",
    "    ..., \n",
    "    поле_n, \n",
    "    here_you_are\n",
    "LIMIT -- если необходимо\n",
    "    n;\n",
    "-- n-максимальное количество строк, которое вернёт такой запрос"
   ]
  },
  {
   "cell_type": "markdown",
   "metadata": {},
   "source": [
    "## Обработка данных в группировке\n"
   ]
  },
  {
   "cell_type": "markdown",
   "metadata": {},
   "source": [
    "### HAVING "
   ]
  },
  {
   "cell_type": "markdown",
   "metadata": {},
   "source": [
    "Что если нужно сразу вывести авторов, у которых в таблицу попало больше одной книги? Для таких целей есть конструкция HAVING (англ. «обладающий») — аналог WHERE для агрегированных функций."
   ]
  },
  {
   "cell_type": "code",
   "execution_count": null,
   "metadata": {},
   "outputs": [],
   "source": [
    " SELECT \n",
    "    поле_1, \n",
    "    поле_2, \n",
    "    ..., \n",
    "    поле_n, \n",
    "    АГРЕГИРУЮЩАЯ_ФУНКЦИЯ(поле) AS here_you_are\n",
    "FROM\n",
    "    TABLE\n",
    "WHERE -- если необходимо\n",
    "    условие\n",
    "GROUP BY \n",
    "    поле_1, \n",
    "    поле_2, \n",
    "    ..., \n",
    "    поле_n\n",
    "HAVING\n",
    "    АГРЕГИРУЮЩАЯ_ФУНКЦИЯ(поле_для_группировки) > n\n",
    "ORDER BY -- если необходимо, перечисляем только те поля, \n",
    "--по которых хотим отсортировать таблицу\n",
    "    поле_1, \n",
    "    поле_2, \n",
    "    ..., \n",
    "    поле_n,\n",
    "    here_you_are\n",
    "LIMIT -- если необходимо\n",
    "    n;"
   ]
  },
  {
   "cell_type": "markdown",
   "metadata": {},
   "source": [
    "В результирующую выборку попадут только те строки, для которых результат агрегирующей функции соответствует условию блоков HAVING и WHERE."
   ]
  },
  {
   "cell_type": "markdown",
   "metadata": {},
   "source": [
    "Если команды HAVING и WHERE так похожи, почему нельзя записать все условия в одной из них? Дело в том, что WHERE отрабатывает перед группировкой данных и расчётом агрегирующей функции. Потому задать фильтр на результат агрегирующей функции в WHERE нельзя. И здесь выручает HAVING.\n"
   ]
  },
  {
   "cell_type": "markdown",
   "metadata": {},
   "source": [
    "## Операторы и функции для работы с датами\n"
   ]
  },
  {
   "cell_type": "markdown",
   "metadata": {},
   "source": [
    "### EXTRACT и DATE_TRUNC"
   ]
  },
  {
   "cell_type": "code",
   "execution_count": null,
   "metadata": {},
   "outputs": [],
   "source": [
    "    SELECT\n",
    "      EXTRACT(часть_даты FROM столбец) AS новый_столбец_с_датой \n",
    "    FROM \n",
    "        Таблица_со_всеми_датами;"
   ]
  },
  {
   "cell_type": "markdown",
   "metadata": {},
   "source": [
    "Название функции определяет её суть.<br> \n",
    "EXTRACT извлекает из даты нужную часть: год, месяц, минуту. Что ещё можно получить вызовом EXTRACT:<br>\n",
    " - century — век;<br>\n",
    " - day — день;<br>\n",
    " - doy (от англ. day of the year) — день года: от 1 до 365/366;<br>\n",
    " - isodow (от англ. day of the week и ISO 8601, международного стандарта даты и времени) — день недели: понедельник — 1, воскресенье — 7.<br>\n",
    " - hour — час;<br>\n",
    " - milliseconds — миллисекунда;<br>\n",
    " - minute — минута;<br>\n",
    " - second — секунда;<br>\n",
    " - month — месяц;<br>\n",
    " - quarter — квартал;<br>\n",
    " - week — неделя в году;<br>\n",
    " - year — год.<br>"
   ]
  },
  {
   "cell_type": "code",
   "execution_count": null,
   "metadata": {},
   "outputs": [],
   "source": [
    "SELECT \n",
    "    id_user,\n",
    "    EXTRACT (MONTH FROM log_on) AS month_activity,\n",
    "    EXTRACT (DAY FROM log_on) AS day_activity\n",
    "FROM \n",
    "    user_activity;"
   ]
  },
  {
   "cell_type": "markdown",
   "metadata": {},
   "source": [
    "<b>DATE_TRUNC</b> усекает дату до часа, дня или месяца. В отличие от EXTRACT часть, до которой нужно усечь дату, записывают как строку. А столбец, откуда берут данные о времени, указывают через запятую:"
   ]
  },
  {
   "cell_type": "code",
   "execution_count": null,
   "metadata": {},
   "outputs": [],
   "source": [
    "SELECT\n",
    "    DATE_TRUNC('часть_даты_до_которой_усекаем', столбец) AS новый_столбец_с_датой \n",
    "FROM \n",
    "    Таблица_со_всеми_датами;"
   ]
  },
  {
   "cell_type": "markdown",
   "metadata": {},
   "source": [
    "Часть даты, до которой данные нужно «обнулить», указывают в аргументе функции DATE_TRUNC:<br>\n",
    "- 'microseconds' — микросекунды;<br>\n",
    "- 'milliseconds' — миллисекунды;<br>\n",
    "- 'second' — секунда;<br>\n",
    "- 'minute' — минута;<br>\n",
    "- 'hour' — час;<br>\n",
    "- 'day' — день;<br>\n",
    "- 'week' — неделя;<br>\n",
    "- 'month' — месяц;<br>\n",
    "- 'quarter' — квартал;<br>\n",
    "- 'year' — год;<br>\n",
    "- 'decade' — декада года;<br>\n",
    "- 'century' — век."
   ]
  },
  {
   "cell_type": "code",
   "execution_count": null,
   "metadata": {},
   "outputs": [],
   "source": [
    "SELECT \n",
    "    DATE_TRUNC('hour',log_on) as date_log_on\n",
    "FROM \n",
    "    user_activity;"
   ]
  },
  {
   "cell_type": "markdown",
   "metadata": {},
   "source": [
    "## Подзапросы"
   ]
  },
  {
   "cell_type": "markdown",
   "metadata": {},
   "source": [
    "<b>Подзапрос</b> — это запрос в запросе. Например, ассистент по актёрам собирает портфолио с фото и пробами артистов, подходящих на роль Гамлета в новом фильме. А затем режиссёр, изучив портфолио, приглашает на кастинг пятерых, с которыми готов работать. Деятельность ассистента по актёрам — это подзапрос, или <b>внутренний запрос</b>. А выбор лучшего Гамлета из пяти — <b>внешний запрос</b>."
   ]
  },
  {
   "cell_type": "markdown",
   "metadata": {},
   "source": [
    "Подзапросы могут выполняться в разных частях запроса.<br>\n",
    "<br>\n",
    "Если подзапрос записать в блоке FROM, то SELECT выберет данные из таблицы, полученной в результате работы подзапроса. Имя этой таблицы указывают во внутреннем запросе, к её столбцам обращаются во внешнем. Подзапрос записывают в круглых скобках:"
   ]
  },
  {
   "cell_type": "code",
   "execution_count": null,
   "metadata": {},
   "outputs": [],
   "source": [
    "SELECT \n",
    "ПОДЗАПРОС_1.название_столбца, \n",
    "ПОДЗАПРОС_1.название_столбца_2\n",
    "FROM -- Для лучшей читабельности кода, переносите подзапрос на новую строку\n",
    "    -- отделяйте подзапросы отступами \n",
    "    (SELECT \n",
    "        название_столбца,\n",
    "        название_столбца_2 \n",
    "    FROM \n",
    "        название_таблицы\n",
    "    WHERE \n",
    "        название_столбца = значение) AS ПОДЗАПРОС_1; \n",
    "-- не забывайте давать имя подзапросу в блоке FROM"
   ]
  },
  {
   "cell_type": "markdown",
   "metadata": {},
   "source": [
    "Напишем запрос, который подсчитает среднее количество проставленных оценок по жанрам книг. Нужно вызвать две агрегирующие функции: COUNT() найдёт количество, AVG() подсчитает среднее. Однако написать SELECT AVG(COUNT(rating)) не выйдет — получим сообщение об ошибке: «агрегирующие функции не могут быть вложенными» (англ. ERROR: aggregate function calls cannot be nested).<br>\n",
    "<br>\n",
    "Сначала нужно вызвать актёров на пробы, а потом просмотреть пробы и выбрать лучшего. Найдём количество оценок по жанрам в подзапросе, а во внешнем запросе рассчитаем среднее полученных значений:"
   ]
  },
  {
   "cell_type": "code",
   "execution_count": null,
   "metadata": {},
   "outputs": [],
   "source": [
    "SELECT \n",
    "    AVG(Sub.count_rating) AS avg_count_rating\n",
    "FROM\n",
    "    (SELECT \n",
    "        COUNT(rating) as count_rating\n",
    "    FROM \n",
    "        books\n",
    "    GROUP BY genre) AS Sub;\n",
    "    \n",
    "#В внутреннем запросе подсчитали число оценок книг каждого жанра и сохранили его в поле count_rating. \n",
    "#К таблице-результату работы подзапроса теперь можно обратиться во внешнем запросе."
   ]
  },
  {
   "cell_type": "markdown",
   "metadata": {},
   "source": [
    "Внутренние запросы могут понадобиться в разных блоках внешнего запроса. Например, устроим подзапрос в блоке WHERE. Тогда выберутся данные из столбца со значениями, сгенерированными в результате работы подзапроса:"
   ]
  },
  {
   "cell_type": "code",
   "execution_count": null,
   "metadata": {},
   "outputs": [],
   "source": [
    "SELECT \n",
    "    название_столбца, \n",
    "    название_столбца_1\n",
    "FROM \n",
    "    название_таблицы\n",
    "WHERE \n",
    "    название_столбца = \n",
    "        (SELECT \n",
    "            столбец_1\n",
    "        FROM \n",
    "            название_таблицы_2 \n",
    "        WHERE\n",
    "            столбец_1  = значение);"
   ]
  },
  {
   "cell_type": "markdown",
   "metadata": {},
   "source": [
    "Дополним шаблон конструкцией IN, чтобы собирать данные из нескольких столбцов:\n"
   ]
  },
  {
   "cell_type": "code",
   "execution_count": null,
   "metadata": {},
   "outputs": [],
   "source": [
    "SELECT \n",
    "    название_столбца, \n",
    "    название_столбца_1\n",
    "FROM \n",
    "    название_таблицы\n",
    "WHERE \n",
    "    название_столбца IN  \n",
    "            (SELECT \n",
    "                столбец_1\n",
    "            FROM \n",
    "                название_таблицы_2  \n",
    "            WHERE \n",
    "                столбец_1 = значение_1 OR столбец_1 = значение_2);"
   ]
  },
  {
   "cell_type": "markdown",
   "metadata": {},
   "source": [
    "## Типы связей в таблицах"
   ]
  },
  {
   "cell_type": "markdown",
   "metadata": {},
   "source": [
    "В books можно добавить поле author_id, тогда у таблиц будет общее поле. Оно в таблице books будет ссылаться на authors. А в таблице authors по полю id (первичному ключу) можно однозначно определить, о каком писателе идёт речь.\n"
   ]
  },
  {
   "cell_type": "code",
   "execution_count": 1,
   "metadata": {},
   "outputs": [
    {
     "data": {
      "text/html": [
       "<img src=\"https://pictures.s3.yandex.net/resources/4.books_author-1_1566566763.jpg\"/>"
      ],
      "text/plain": [
       "<IPython.core.display.Image object>"
      ]
     },
     "execution_count": 1,
     "metadata": {},
     "output_type": "execute_result"
    }
   ],
   "source": [
    "from IPython.display import Image\n",
    "from IPython.core.display import HTML \n",
    "Image(url= \"https://pictures.s3.yandex.net/resources/4.books_author-1_1566566763.jpg\")"
   ]
  },
  {
   "cell_type": "markdown",
   "metadata": {},
   "source": [
    "Когда столбец таблицы содержит в себе значения поля другой таблицы, его называют <b>внешний ключ</b> (англ. foreign key). Он отвечает за связь между таблицами. В нашем примере внешний ключ — поле author_id."
   ]
  },
  {
   "cell_type": "code",
   "execution_count": 2,
   "metadata": {},
   "outputs": [
    {
     "data": {
      "text/html": [
       "<img src=\"https://pictures.s3.yandex.net/resources/4.books_author_1566568424.jpg\"/>"
      ],
      "text/plain": [
       "<IPython.core.display.Image object>"
      ]
     },
     "execution_count": 2,
     "metadata": {},
     "output_type": "execute_result"
    }
   ],
   "source": [
    "from IPython.display import Image\n",
    "from IPython.core.display import HTML \n",
    "Image(url= \"https://pictures.s3.yandex.net/resources/4.books_author_1566568424.jpg\")"
   ]
  },
  {
   "cell_type": "markdown",
   "metadata": {},
   "source": [
    "Существуют связи трёх типов:<br>\n",
    "- «один к одному»;<br>\n",
    "- «один ко многим»;<br>\n",
    "- «многие ко многим»."
   ]
  },
  {
   "cell_type": "code",
   "execution_count": 3,
   "metadata": {},
   "outputs": [
    {
     "data": {
      "text/html": [
       "<img src=\"https://pictures.s3.yandex.net/resources/odno_k_odnomu_1566761310.jpg\"/>"
      ],
      "text/plain": [
       "<IPython.core.display.Image object>"
      ]
     },
     "execution_count": 3,
     "metadata": {},
     "output_type": "execute_result"
    }
   ],
   "source": [
    "from IPython.display import Image\n",
    "from IPython.core.display import HTML \n",
    "Image(url= \"https://pictures.s3.yandex.net/resources/odno_k_odnomu_1566761310.jpg\")"
   ]
  },
  {
   "cell_type": "markdown",
   "metadata": {},
   "source": [
    "<b>Один к одному</b> значит, что строка в первой таблице связана с одной-единственной строкой во второй таблице. По сути такая связь — расщепление одной таблицы на две.<br>\n",
    "<br>\n",
    "Например, таблица работников с именами и должностью и таблица с данными для оплаты. Одному сотруднику соответствует одна строка с номером паспорта и банковским счётом, на который начисляют зарплату."
   ]
  },
  {
   "cell_type": "markdown",
   "metadata": {},
   "source": [
    "Это редкий тип связи, применяется в основном из соображений безопасности."
   ]
  },
  {
   "cell_type": "code",
   "execution_count": 4,
   "metadata": {},
   "outputs": [
    {
     "data": {
      "text/html": [
       "<img src=\"https://pictures.s3.yandex.net/resources/4._rabotniki_dannie_1566568622.jpg\"/>"
      ],
      "text/plain": [
       "<IPython.core.display.Image object>"
      ]
     },
     "execution_count": 4,
     "metadata": {},
     "output_type": "execute_result"
    }
   ],
   "source": [
    "from IPython.display import Image\n",
    "from IPython.core.display import HTML \n",
    "Image(url= \"https://pictures.s3.yandex.net/resources/4._rabotniki_dannie_1566568622.jpg\")"
   ]
  },
  {
   "cell_type": "markdown",
   "metadata": {},
   "source": [
    "<b>Один ко многим</b> — тип связи, когда каждая строка в одной таблице соответствует многим строкам в другой таблице.<br>\n",
    "В примере с книгами как раз такая связь. Автор может написать несколько книг, но у одной книги — только один автор."
   ]
  },
  {
   "cell_type": "code",
   "execution_count": 5,
   "metadata": {},
   "outputs": [
    {
     "data": {
      "text/html": [
       "<img src=\"https://pictures.s3.yandex.net/resources/4.books_author_3_1566568651.jpg\"/>"
      ],
      "text/plain": [
       "<IPython.core.display.Image object>"
      ]
     },
     "execution_count": 5,
     "metadata": {},
     "output_type": "execute_result"
    }
   ],
   "source": [
    "from IPython.display import Image\n",
    "from IPython.core.display import HTML \n",
    "Image(url= \"https://pictures.s3.yandex.net/resources/4.books_author_3_1566568651.jpg\")"
   ]
  },
  {
   "cell_type": "markdown",
   "metadata": {},
   "source": [
    "Бывает, что книги пишут несколько авторов. Например, Илья Ильф и Евгений Петров. Тогда выручает тип связи «многие ко многим».<br>\n",
    "<br>\n",
    "<b>Многие ко многим</b> — тип связи, когда несколько строк одной таблицы соответствуют нескольким строкам другой таблицы. Такая связь реализуется за счёт стыковой таблицы. Она соединяет первичные ключи обеих таблиц."
   ]
  },
  {
   "cell_type": "markdown",
   "metadata": {},
   "source": [
    "Например,<br>\n",
    "- Есть таблица authors с авторами и первичным ключом author_id;<br>\n",
    "- Есть таблица books с информацией о книгах и первичным ключом book_id<br>\n",
    "Строим стыковую таблицу authors_books, где сопоставляем book_id и author_id:"
   ]
  },
  {
   "cell_type": "code",
   "execution_count": 6,
   "metadata": {},
   "outputs": [
    {
     "data": {
      "text/html": [
       "<img src=\"https://pictures.s3.yandex.net/resources/4.books_author_3_1569507865.jpg\"/>"
      ],
      "text/plain": [
       "<IPython.core.display.Image object>"
      ]
     },
     "execution_count": 6,
     "metadata": {},
     "output_type": "execute_result"
    }
   ],
   "source": [
    "from IPython.display import Image\n",
    "from IPython.core.display import HTML \n",
    "Image(url= \"https://pictures.s3.yandex.net/resources/4.books_author_3_1569507865.jpg\")"
   ]
  },
  {
   "cell_type": "markdown",
   "metadata": {},
   "source": [
    "## ER-диаграммы\n"
   ]
  },
  {
   "cell_type": "markdown",
   "metadata": {},
   "source": [
    "Вот фрагмент ER-диаграммы:\n"
   ]
  },
  {
   "cell_type": "code",
   "execution_count": 7,
   "metadata": {},
   "outputs": [
    {
     "data": {
      "text/html": [
       "<img src=\"https://pictures.s3.yandex.net/resources/PK_FK_1566571379.jpg\"/>"
      ],
      "text/plain": [
       "<IPython.core.display.Image object>"
      ]
     },
     "execution_count": 7,
     "metadata": {},
     "output_type": "execute_result"
    }
   ],
   "source": [
    "from IPython.display import Image\n",
    "from IPython.core.display import HTML \n",
    "Image(url= \"https://pictures.s3.yandex.net/resources/PK_FK_1566571379.jpg\")"
   ]
  },
  {
   "cell_type": "markdown",
   "metadata": {},
   "source": [
    "Таблицы на ER-диаграммах изображают прямоугольником, разделённым на два. В верхней части указывают название таблицы. В примере — это books и authors.\n"
   ]
  },
  {
   "cell_type": "code",
   "execution_count": 8,
   "metadata": {},
   "outputs": [
    {
     "data": {
      "text/html": [
       "<img src=\"https://pictures.s3.yandex.net/resources/PK_FK_name_1566761173.jpg\"/>"
      ],
      "text/plain": [
       "<IPython.core.display.Image object>"
      ]
     },
     "execution_count": 8,
     "metadata": {},
     "output_type": "execute_result"
    }
   ],
   "source": [
    "from IPython.display import Image\n",
    "from IPython.core.display import HTML \n",
    "Image(url= \"https://pictures.s3.yandex.net/resources/PK_FK_name_1566761173.jpg\")"
   ]
  },
  {
   "cell_type": "markdown",
   "metadata": {},
   "source": [
    "В нижней части перечисляют поля таблицы с указанием, к каким ключам они относятся — первичным или внешним. Сами ключи обычно обозначают подписями PK (от англ. primary key, «первичный ключ») и FK (от англ. foreign key, «внешний ключ»). Иногда вместо подписей ставят пиктограмму ключа, символ решётки # или другой — по договорённости.\n"
   ]
  },
  {
   "cell_type": "code",
   "execution_count": 9,
   "metadata": {},
   "outputs": [
    {
     "data": {
      "text/html": [
       "<img src=\"https://pictures.s3.yandex.net/resources/PK_FK_other_1566761222.jpg\"/>"
      ],
      "text/plain": [
       "<IPython.core.display.Image object>"
      ]
     },
     "execution_count": 9,
     "metadata": {},
     "output_type": "execute_result"
    }
   ],
   "source": [
    "from IPython.display import Image\n",
    "from IPython.core.display import HTML \n",
    "Image(url= \"https://pictures.s3.yandex.net/resources/PK_FK_other_1566761222.jpg\")"
   ]
  },
  {
   "cell_type": "markdown",
   "metadata": {},
   "source": [
    "Как прочитать этот фрагмент ER-диаграммы?<br>\n",
    "- Таблица books содержит поля: id, name, genre, author_id, date_pub, pages, price, rating, pub_name;<br>\n",
    "- Первичный ключ — поле id (обозначение PK);<br>\n",
    "- Внешний ключ — поле author_id (FK)."
   ]
  },
  {
   "cell_type": "markdown",
   "metadata": {},
   "source": [
    "## Таблицы"
   ]
  },
  {
   "cell_type": "markdown",
   "metadata": {},
   "source": [
    "products<br>\n",
    "<br>\n",
    "В таблице products информация о продуктах. Её поля:<br>\n",
    "- id_product — поле с уникальным идентификатором продукта. Тип данных: integer. Первичный ключ.<br>\n",
    "- name — название продукта. Тип данных: varchar().<br>\n",
    "- category — поле с информацией о категории товара. Тип данных: varchar().<br>\n",
    "- units — единицы измерения веса продукта. Тип данных: varchar().<br>\n",
    "- weight — вес. Тип данных: varchar().<br>\n",
    "К сожалению, инженеры пока не успели обработать баг-репорт. Напомним, что данные поля weight записаны как строки, хотя на самом деле это числа."
   ]
  },
  {
   "cell_type": "markdown",
   "metadata": {},
   "source": [
    "stores<br>\n",
    "В таблице stores информация об интернет-магазинах, данные которых вы собираете.<br>\n",
    "- id_store — поле с уникальным идентификатором магазина. Тип данных: integer. Первичный ключ.<br>\n",
    "- name_store — название магазина. Тип данных: varchar()."
   ]
  },
  {
   "cell_type": "markdown",
   "metadata": {},
   "source": [
    "products_stores\n",
    "<br>\n",
    "<br>\n",
    "Таблица products_stores — стыковая таблица для таблиц stores и products.<br>\n",
    "- id_product — идентификатор продукта, продающегося в id_store.Тип данных: integer. Внешний ключ таблицы products; составной первичный ключ таблицы products_stores.<br>\n",
    "- id_store — идентификатор магазина, торгующего id_product. Тип данных: integer. Внешний ключ таблицы stores, составной первичный ключ таблицы products_stores.<br>\n",
    "- date_upd — дата сбора информации. Тип данных: timestamp. Составной первичный ключ таблицы products_stores.<br>\n",
    "- price — цена id_product в магазине id_store на дату date_upd. Тип данных: integer.<br>\n",
    "<br>\n",
    "ER-диаграмма таблиц products, stores и products_stores выглядит так:<br>"
   ]
  },
  {
   "cell_type": "code",
   "execution_count": 10,
   "metadata": {},
   "outputs": [
    {
     "data": {
      "text/html": [
       "<img src=\"https://pictures.s3.yandex.net/resources/PK_FK_products_1566761553.jpg\"/>"
      ],
      "text/plain": [
       "<IPython.core.display.Image object>"
      ]
     },
     "execution_count": 10,
     "metadata": {},
     "output_type": "execute_result"
    }
   ],
   "source": [
    "from IPython.display import Image\n",
    "from IPython.core.display import HTML \n",
    "Image(url= \"https://pictures.s3.yandex.net/resources/PK_FK_products_1566761553.jpg\")"
   ]
  },
  {
   "cell_type": "markdown",
   "metadata": {},
   "source": [
    "Полная ER-диаграмма, включающая таблицы transactions и weather:\n"
   ]
  },
  {
   "cell_type": "code",
   "execution_count": 11,
   "metadata": {},
   "outputs": [
    {
     "data": {
      "text/html": [
       "<img src=\"https://pictures.s3.yandex.net/resources/PK_FK_weather_1_1566811042.jpg\"/>"
      ],
      "text/plain": [
       "<IPython.core.display.Image object>"
      ]
     },
     "execution_count": 11,
     "metadata": {},
     "output_type": "execute_result"
    }
   ],
   "source": [
    "from IPython.display import Image\n",
    "from IPython.core.display import HTML \n",
    "Image(url= \"https://pictures.s3.yandex.net/resources/PK_FK_weather_1_1566811042.jpg\")"
   ]
  },
  {
   "cell_type": "markdown",
   "metadata": {},
   "source": [
    "## Поиск пропусков в данных\n"
   ]
  },
  {
   "cell_type": "markdown",
   "metadata": {},
   "source": [
    "### IS NULL"
   ]
  },
  {
   "cell_type": "code",
   "execution_count": null,
   "metadata": {},
   "outputs": [],
   "source": [
    "SELECT \n",
    "    * \n",
    "FROM \n",
    "    название_таблицы\n",
    "WHERE \n",
    "    название_столбца IS NULL;"
   ]
  },
  {
   "cell_type": "code",
   "execution_count": null,
   "metadata": {},
   "outputs": [],
   "source": [
    "SELECT\n",
    " * \n",
    "FROM \n",
    "    название_таблицы\n",
    "WHERE \n",
    "    название_столбца = NULL; -- этот код не сработает!"
   ]
  },
  {
   "cell_type": "markdown",
   "metadata": {},
   "source": [
    "Вернёмся к таблице books и проверим на пропуски значения в столбце price:\n"
   ]
  },
  {
   "cell_type": "code",
   "execution_count": null,
   "metadata": {},
   "outputs": [],
   "source": [
    "SELECT\n",
    "    name,\n",
    "    price\n",
    "FROM\n",
    "    books\n",
    "WHERE \n",
    "    price IS NULL;"
   ]
  },
  {
   "cell_type": "markdown",
   "metadata": {},
   "source": [
    "В таких случаях применяют оператор NOT:\n"
   ]
  },
  {
   "cell_type": "code",
   "execution_count": null,
   "metadata": {},
   "outputs": [],
   "source": [
    "SELECT \n",
    "    * \n",
    "FROM \n",
    "    название_таблицы\n",
    "WHERE \n",
    "    название_столбца IS NOT NULL;"
   ]
  },
  {
   "cell_type": "markdown",
   "metadata": {},
   "source": [
    "### CASE"
   ]
  },
  {
   "cell_type": "markdown",
   "metadata": {},
   "source": [
    "Строки с NULL не всегда выгодно отсекать. Можно в самом запросе заменить их на какое-то значение. Например, среднее. Чтобы решить такую задачу, применяют конструкцию CASE (от англ. in case when, «в случае, когда»). Она похожа на if-elif-else в Python:"
   ]
  },
  {
   "cell_type": "code",
   "execution_count": null,
   "metadata": {},
   "outputs": [],
   "source": [
    "CASE\n",
    "        WHEN условие_1 THEN результат_1\n",
    "        WHEN условие_2 THEN результат_2\n",
    "        WHEN условие_3 THEN результат_3\n",
    "        ELSE результат_4\n",
    "END;"
   ]
  },
  {
   "cell_type": "markdown",
   "metadata": {},
   "source": [
    "После оператора <b>WHEN</b> (англ. «когда») идёт условие. Если строка таблицы подходит условию, то возвращается результат, указанный в <b>THEN</b> (англ. «тогда»). Если нет, строка проходит проверку по следующему условию. В конце концов, если строка не соответствует ни одному из условий, описанных в <b>WHEN</b>, возвращается значение после <b>ELSE</b> (англ. «иначе»), и конструкция CASE закрывается оператором <b>END</b> (англ. «конец»)."
   ]
  },
  {
   "cell_type": "code",
   "execution_count": null,
   "metadata": {},
   "outputs": [],
   "source": [
    "SELECT\n",
    "    name,\n",
    "    CASE WHEN price IS NULL THEN 234 -- в уроке про агрегирующие функции \n",
    "-- мы рассчитывали среднюю стоимость книги\n",
    "    ELSE price END AS price_info\n",
    "FROM\n",
    "    books;\n",
    "    \n",
    "#«Выбери из таблицы books поле «имя» и поле «цена». Если в столбце с ценой нет значения,  замени его на 234. \n",
    "#Если значение есть, оставь исходную цену. Новому столбцу дай имя — price_info»."
   ]
  },
  {
   "cell_type": "code",
   "execution_count": null,
   "metadata": {},
   "outputs": [],
   "source": [
    "SELECT\n",
    "\tname,\n",
    "    CASE  WHEN (units='%') AND (weight IS NULL) THEN '72'\n",
    "        WHEN (units='кг') AND (weight IS NULL) THEN '1'\n",
    "        WHEN (units='л') AND (weight IS NULL)  THEN '1'\n",
    "        WHEN (units='мл') AND (weight IS NULL)  THEN '805'\n",
    "        WHEN (units='г') AND (weight IS NULL) THEN '402'\n",
    "    ELSE weight END AS weight_info,units\n",
    "FROM\n",
    "\tproducts;"
   ]
  },
  {
   "cell_type": "markdown",
   "metadata": {},
   "source": [
    "## Поиск данных в таблице\n"
   ]
  },
  {
   "cell_type": "markdown",
   "metadata": {},
   "source": [
    "### LIKE"
   ]
  },
  {
   "cell_type": "markdown",
   "metadata": {},
   "source": [
    "Оператор LIKE (англ. «подобный») находит схожие значения в таблице. Искать можно не только целое слово, но и его часть."
   ]
  },
  {
   "cell_type": "code",
   "execution_count": null,
   "metadata": {},
   "outputs": [],
   "source": [
    "название_столбца LIKE 'регулярное выражение'"
   ]
  },
  {
   "cell_type": "code",
   "execution_count": null,
   "metadata": {},
   "outputs": [],
   "source": [
    "SELECT \n",
    "    * \n",
    "FROM \n",
    "    books\n",
    "WHERE \n",
    "    author LIKE '%Толст__';"
   ]
  },
  {
   "cell_type": "code",
   "execution_count": null,
   "metadata": {},
   "outputs": [],
   "source": [
    "SELECT \n",
    "    * \n",
    "FROM \n",
    "    books\n",
    "WHERE \n",
    "    author NOT LIKE '%Толст__';"
   ]
  },
  {
   "cell_type": "markdown",
   "metadata": {},
   "source": [
    "Что делать, если нужно найти символ из регулярного выражения как подстроку? Скажем, отыскать в наборе данных знак процента % или нижнего подчёркивания _?<br>\n",
    "У LIKE есть оператор <b>ESCAPE</b> (от англ. «экранировать»). Ему передают символ, например, восклицательный знак. В регулярном выражении этот восклицательный знак сообщает: «Символ, который идёт после меня не относится к регулярному выражению. Это подстрока, которую нужно найти». Вот фрагмент кода, который найдёт все строки, заканчивающиеся на знак процента % в таблице:"
   ]
  },
  {
   "cell_type": "code",
   "execution_count": null,
   "metadata": {},
   "outputs": [],
   "source": [
    "название_столбца LIKE '%!%' ESCAPE '!'\n",
    "--найдёт все строки заканчивающиеся на %"
   ]
  },
  {
   "cell_type": "code",
   "execution_count": null,
   "metadata": {},
   "outputs": [],
   "source": []
  },
  {
   "cell_type": "markdown",
   "metadata": {},
   "source": [
    "Из товаров фирм Му и Му-Му выберите продукты категории 'молоко и сливки'. Найдите их среднюю стоимость во Всемирный день молока — 1.06.2019. Сохраните её в переменной avg_price.\n",
    "Напомним имена полей:\n",
    "Название компании — name в таблице products;\n",
    "Категория — category в таблице products;\n",
    "Продукт — id_product в таблице products;\n",
    "Цена — price в таблице products_stores.\n",
    "Дата — date_upd в таблице products_stores."
   ]
  },
  {
   "cell_type": "code",
   "execution_count": null,
   "metadata": {},
   "outputs": [],
   "source": [
    "SELECT\n",
    "    AVG(price) as avg_price\n",
    "FROM \n",
    "\tproducts_stores\n",
    "WHERE\n",
    "    date_upd ='2019-06-01' AND\n",
    "    id_product IN\n",
    "                (SELECT\n",
    "                     id_product\n",
    "                 FROM\n",
    "                     products\n",
    "                 WHERE \n",
    "                     name LIKE '%Му%' AND category = 'молоко и сливки'\n",
    "                )"
   ]
  },
  {
   "cell_type": "markdown",
   "metadata": {},
   "source": [
    "## JOIN"
   ]
  },
  {
   "cell_type": "markdown",
   "metadata": {},
   "source": [
    "### JOIN INNER"
   ]
  },
  {
   "cell_type": "markdown",
   "metadata": {},
   "source": [
    "«Джойнят» таблицы двумя способами: INNER (англ. «внутренний») и OUTER (англ. «внешний»):\n"
   ]
  },
  {
   "cell_type": "code",
   "execution_count": 12,
   "metadata": {},
   "outputs": [
    {
     "data": {
      "text/html": [
       "<img src=\"https://pictures.s3.yandex.net/resources/inner_join_1566586734.jpg\"/>"
      ],
      "text/plain": [
       "<IPython.core.display.Image object>"
      ]
     },
     "execution_count": 12,
     "metadata": {},
     "output_type": "execute_result"
    }
   ],
   "source": [
    "from IPython.display import Image\n",
    "from IPython.core.display import HTML \n",
    "Image(url= \"https://pictures.s3.yandex.net/resources/inner_join_1566586734.jpg\")"
   ]
  },
  {
   "cell_type": "markdown",
   "metadata": {},
   "source": [
    "Соединение INNER выдаёт строки строго на пересечении двух таблиц. OUTER получает полные данные одной таблицы и к ним добавляет данные на пересечении с другой таблицей."
   ]
  },
  {
   "cell_type": "code",
   "execution_count": 13,
   "metadata": {},
   "outputs": [
    {
     "data": {
      "text/html": [
       "<img src=\"https://pictures.s3.yandex.net/resources/outer_join_1566586764.jpg\"/>"
      ],
      "text/plain": [
       "<IPython.core.display.Image object>"
      ]
     },
     "execution_count": 13,
     "metadata": {},
     "output_type": "execute_result"
    }
   ],
   "source": [
    "from IPython.display import Image\n",
    "from IPython.core.display import HTML \n",
    "Image(url= \"https://pictures.s3.yandex.net/resources/outer_join_1566586764.jpg\")"
   ]
  },
  {
   "cell_type": "markdown",
   "metadata": {},
   "source": [
    "INNER JOIN формирует выборку только из тех данных, условие для присоединения которых выполняется. От порядка присоединения таблиц результат не изменится.<br>\n",
    "Пример формата запроса с INNER JOIN:"
   ]
  },
  {
   "cell_type": "code",
   "execution_count": null,
   "metadata": {},
   "outputs": [],
   "source": [
    "SELECT --перечисляем только те поля, которые нужны\n",
    "    TABLE_1.поле_1 AS поле_1,\n",
    "    TABLE_1.поле_2 AS поле_2,\n",
    "    ...\n",
    "    TABLE_2.поле_n AS поле_n\n",
    "FROM\n",
    "    TABLE_1\n",
    "INNER JOIN TABLE_2 ON TABLE_2.поле_1 = TABLE_1.поле_2;"
   ]
  },
  {
   "cell_type": "markdown",
   "metadata": {},
   "source": [
    "- INNER JOIN — название способа соединения, после него указывают имя таблицы, с которой нужно соединить таблицу из блока FROM;\n",
    "- ON открывает условие для присоединения: TABLE_2.поле_1 = TABLE_1.поле_2. То есть, соединяют только те строки таблиц, которые соответствуют условию. В нашем случае, равенству значений полей. "
   ]
  },
  {
   "cell_type": "markdown",
   "metadata": {},
   "source": [
    "Так как поля в разных таблицах могут быть названы одинаково, к ним обращаются с указанием имени таблицы. Сперва идёт название таблицы, а потом имя её поля: TABLE_1.поле_1."
   ]
  },
  {
   "cell_type": "markdown",
   "metadata": {},
   "source": [
    "С этим свойством соединения таблиц нужно быть настороже. Такое дублирование строк — типичная ошибка для SQL-запросов любого уровня сложности."
   ]
  },
  {
   "cell_type": "markdown",
   "metadata": {},
   "source": [
    "Напишем запрос, который соберёт в одну таблицу поля:<br>\n",
    "- название книги (name);<br>\n",
    "- author_id из таблицы books;<br>\n",
    "- id из таблицы author;<br>\n",
    "- имя автора (first_name) из author;<br>\n",
    "- фамилию автора (last_name) из author.<br>\n",
    "<br>\n",
    "Посмотрим на первые три строки:"
   ]
  },
  {
   "cell_type": "code",
   "execution_count": 14,
   "metadata": {},
   "outputs": [
    {
     "ename": "IndentationError",
     "evalue": "unexpected indent (<ipython-input-14-779ffddd87f7>, line 2)",
     "output_type": "error",
     "traceback": [
      "\u001b[1;36m  File \u001b[1;32m\"<ipython-input-14-779ffddd87f7>\"\u001b[1;36m, line \u001b[1;32m2\u001b[0m\n\u001b[1;33m    books.name AS name,\u001b[0m\n\u001b[1;37m    ^\u001b[0m\n\u001b[1;31mIndentationError\u001b[0m\u001b[1;31m:\u001b[0m unexpected indent\n"
     ]
    }
   ],
   "source": [
    "SELECT \n",
    "    books.name AS name,\n",
    "    books.author_id AS books_author_id,\n",
    "    author.id AS author_id,\n",
    "    author.first_name AS first_name,\n",
    "    author.last_name AS last_name\n",
    "FROM\n",
    "    books\n",
    "INNER JOIN author ON author.id = books.author_id\n",
    "LIMIT 3;"
   ]
  },
  {
   "cell_type": "markdown",
   "metadata": {},
   "source": [
    "Выведите купленные 13 июня 2019 года товары, для которых единица измерения — 'мл'.\n",
    "Заполучите:\n",
    "название товара — name из таблицы products\n",
    "категорию — category из таблицы products\n",
    "единицы измерения — units из таблицы products\n",
    "вес — weight из таблицы products\n",
    "цену — price из таблицы products_stores\n",
    "Соедините методом INNER JOIN таблицы products_stores и products по полю id_product.\n",
    "Выведите переменные: name, category, units, weight, price."
   ]
  },
  {
   "cell_type": "code",
   "execution_count": null,
   "metadata": {},
   "outputs": [],
   "source": [
    "SELECT \n",
    "    products.name AS name,\n",
    "    products.category AS category,\n",
    "    products.units AS units,\n",
    "    products.weight AS weight,\n",
    "    products_stores.price AS price\n",
    "FROM\n",
    "\tproducts\n",
    "INNER JOIN products_stores ON products_stores.id_product = products.id_product\n",
    "WHERE\n",
    "    products.units = 'мл' AND\n",
    "    CAST(products_stores.date_upd AS date) = '2019-06-13';"
   ]
  },
  {
   "cell_type": "markdown",
   "metadata": {},
   "source": [
    "## Внешнее объединение таблиц. LEFT JOIN\n"
   ]
  },
  {
   "cell_type": "markdown",
   "metadata": {},
   "source": [
    "LEFT JOIN возьмёт все данные левой таблицы и строки на пересечении левой и правой, которые удовлетворяют условию присоединения. RIGHT JOIN, наоборот, возьмёт всю правую таблицу, и строки на пересечении с левой, соответствующие условию.\n"
   ]
  },
  {
   "cell_type": "code",
   "execution_count": 15,
   "metadata": {},
   "outputs": [
    {
     "data": {
      "text/html": [
       "<img src=\"https://pictures.s3.yandex.net/resources/left_join_1566634514.jpg\"/>"
      ],
      "text/plain": [
       "<IPython.core.display.Image object>"
      ]
     },
     "execution_count": 15,
     "metadata": {},
     "output_type": "execute_result"
    }
   ],
   "source": [
    "from IPython.display import Image\n",
    "from IPython.core.display import HTML \n",
    "Image(url= \"https://pictures.s3.yandex.net/resources/left_join_1566634514.jpg\")"
   ]
  },
  {
   "cell_type": "code",
   "execution_count": null,
   "metadata": {},
   "outputs": [],
   "source": [
    "SELECT \n",
    "    TABLE_1.поле_1 AS поле_1,\n",
    "    TABLE_1.поле_2 AS поле_2,\n",
    "    ...\n",
    "    TABLE_2.поле_n AS поле_n\n",
    "FROM\n",
    "    TABLE_1\n",
    "LEFT JOIN TABLE_2 ON TABLE_2.поле = TABLE_1.поле;"
   ]
  },
  {
   "cell_type": "markdown",
   "metadata": {},
   "source": [
    "## Внешнее объединение таблиц. RIGHT JOIN\n"
   ]
  },
  {
   "cell_type": "code",
   "execution_count": 16,
   "metadata": {},
   "outputs": [
    {
     "data": {
      "text/html": [
       "<img src=\"https://pictures.s3.yandex.net/resources/right_join_1566636335.jpg\"/>"
      ],
      "text/plain": [
       "<IPython.core.display.Image object>"
      ]
     },
     "execution_count": 16,
     "metadata": {},
     "output_type": "execute_result"
    }
   ],
   "source": [
    "from IPython.display import Image\n",
    "from IPython.core.display import HTML \n",
    "Image(url= \"https://pictures.s3.yandex.net/resources/right_join_1566636335.jpg\")"
   ]
  },
  {
   "cell_type": "code",
   "execution_count": null,
   "metadata": {},
   "outputs": [],
   "source": [
    "SELECT \n",
    "    TABLE_1.поле_1 AS поле_1,\n",
    "    TABLE_1.поле_2 AS поле_2,\n",
    "    ...\n",
    "    TABLE_2.поле_n AS поле_n\n",
    "FROM\n",
    "    TABLE_1\n",
    "RIGHT JOIN TABLE_2 ON TABLE_1.поле = TABLE_2.поле;"
   ]
  },
  {
   "cell_type": "markdown",
   "metadata": {},
   "source": [
    "Любой запрос с LEFT JOIN можно записать как запрос с RIGHT JOIN. И наоборот. Решите задачу из прошлой темы, но способом RIGHT JOIN.\n",
    "Выведите уникальные названия товаров, которые не продавались в магазине с уникальным идентификатором 3.\n",
    "1) Выберите уникальные названия продуктов name из таблицы products. Сохраните их в переменной name.\n",
    "2) Методом RIGHT JOIN объедините подзапрос subquery с внешним запросом по полю id_product. В подзапросе выберите уникальные id_product из таблицы transactions, где id_store равен 3.\n",
    "3) В блоке WHERE внешнего запроса выполните проверку значений поля id_product таблицы subquery на пропуски."
   ]
  },
  {
   "cell_type": "code",
   "execution_count": null,
   "metadata": {},
   "outputs": [],
   "source": [
    "SELECT\n",
    "    products.name AS name\n",
    "FROM \n",
    "\t(\n",
    "\tSELECT --выберите уникальные продукты из магазина 3\n",
    "        DISTINCT transactions.id_product\n",
    "\tFROM\n",
    "\t\ttransactions\n",
    "\tWHERE\n",
    "\t\tid_store = 3\n",
    "\t) AS subquery\n",
    "RIGHT JOIN products ON subquery.id_product = products.id_product\n",
    "WHERE \n",
    "\t\tsubquery.id_product IS NULL\n"
   ]
  },
  {
   "cell_type": "markdown",
   "metadata": {},
   "source": [
    "## Объединение нескольких таблиц\n"
   ]
  },
  {
   "cell_type": "markdown",
   "metadata": {},
   "source": [
    "Пример формата запроса с несколькими INNER JOIN:\n"
   ]
  },
  {
   "cell_type": "code",
   "execution_count": null,
   "metadata": {},
   "outputs": [],
   "source": [
    "SELECT --перечисляем только те поля, которые нужны\n",
    "    TABLE_1.поле_1 AS поле_1,\n",
    "    TABLE_1.поле_2 AS поле_2,\n",
    "    ...\n",
    "    TABLE_3.поле_n AS поле_n\n",
    "FROM\n",
    "    TABLE_1\n",
    "INNER JOIN TABLE_2 ON TABLE_2.поле = TABLE_1.поле\n",
    "INNER JOIN TABLE_3 ON TABLE_3.поле = TABLE_1.поле;"
   ]
  },
  {
   "cell_type": "markdown",
   "metadata": {},
   "source": [
    "Решим задачу. Соединим название произведения, автора и жанр:\n"
   ]
  },
  {
   "cell_type": "code",
   "execution_count": null,
   "metadata": {},
   "outputs": [],
   "source": [
    "SELECT \n",
    "    books.name AS books_name,\n",
    "    books.author_id AS books_author_id,\n",
    "    author.first_name AS author_first_name,\n",
    "    author.last_name AS author_last_name,\n",
    "    books.genre AS books_genre_id,\n",
    "    genres.name AS genre_name\n",
    "FROM\n",
    "    books\n",
    "INNER JOIN author ON author.id = books.author_id\n",
    "INNER JOIN genres ON genres.id = books.genre;"
   ]
  },
  {
   "cell_type": "markdown",
   "metadata": {},
   "source": [
    "Соединять в одном запросе несколько таблиц можно не только методом INNER JOIN, но и RIGHT JOIN или LEFT JOIN. Применим RIGHT JOIN:"
   ]
  },
  {
   "cell_type": "code",
   "execution_count": null,
   "metadata": {},
   "outputs": [],
   "source": [
    "SELECT\n",
    "    books.name AS name,\n",
    "    genres.name AS genre_name,\n",
    "    author.first_name AS first_name,\n",
    "    author.last_name AS last_name\n",
    "FROM\n",
    "    books\n",
    "INNER JOIN author ON author.id = books.author_id\n",
    "RIGHT JOIN genres ON genres.id = books.genre;"
   ]
  },
  {
   "cell_type": "markdown",
   "metadata": {},
   "source": [
    "## Агрегация в запросах с JOIN\n"
   ]
  },
  {
   "cell_type": "code",
   "execution_count": null,
   "metadata": {},
   "outputs": [],
   "source": [
    "SELECT\n",
    "    genres.name AS genre_name,\n",
    "    COUNT(books.name) AS name_cnt\n",
    "FROM\n",
    "    books\n",
    "INNER JOIN genres ON genres.id = books.genre\n",
    "GROUP BY \n",
    "    genre_name;"
   ]
  },
  {
   "cell_type": "markdown",
   "metadata": {},
   "source": [
    "Найдём количество книг каждого жанра, сгруппированных по авторам:\n"
   ]
  },
  {
   "cell_type": "code",
   "execution_count": null,
   "metadata": {},
   "outputs": [],
   "source": [
    "SELECT\n",
    "    genres.name AS genre_name,\n",
    "    author.first_name AS author_first_name,\n",
    "    author.last_name AS author_last_name,\n",
    "    COUNT(books.name) AS name_cnt\n",
    "FROM\n",
    "    books\n",
    "INNER JOIN genres ON genres.id = books.genre\n",
    "INNER JOIN author ON author.id = books.author_id\n",
    "GROUP BY \n",
    "    genre_name,\n",
    "    author_first_name,\n",
    "    author_last_name;"
   ]
  },
  {
   "cell_type": "markdown",
   "metadata": {},
   "source": [
    "\n",
    "Для каждой транзакции найдите общую стоимость покупок и их количество.\n",
    "Выберите столбец id_transaction таблицы transactions.\n",
    "Рассчитайте сумму значений столбца price в таблице products_stores. Сохраните её в переменной total.\n",
    "Найдите количество значений столбца id_product в таблице products_stores. Сохраните его в переменной amount.\n",
    "Способом LEFT JOIN присоедините таблицу products_stores к transactions по трём одновременным условиям:\n",
    "Данные столбцов products_stores.date_upd и transactions.date равны. Приведите значения полей к нужному типу конструкцией CAST.\n",
    "Данные столбцов products_stores.id_product и transactions.id_product равны.\n",
    "Данные столбцов products_stores.id_store и transactions.id_store равны.\n",
    "Сгруппируйте данные по значениям столбца id_transaction таблицы transactions.\n",
    "Выведите только такие транзакции, стоимость которых больше 1000. В блоке HAVING укажите условие: SUM(products_stores.price) > 1000."
   ]
  },
  {
   "cell_type": "code",
   "execution_count": null,
   "metadata": {},
   "outputs": [],
   "source": [
    "SELECT \n",
    "    transactions.id_transaction,\n",
    "    SUM(products_stores.price) AS total,\n",
    "    COUNT(products_stores.id_product) AS amount\n",
    "FROM \n",
    "\ttransactions\n",
    "LEFT JOIN products_stores ON CAST(products_stores.date_upd AS date) = CAST(transactions.date AS date) AND\n",
    "products_stores.id_product = transactions.id_product AND\n",
    "products_stores.id_store = transactions.id_store\n",
    "GROUP BY\n",
    "    transactions.id_transaction\n",
    "HAVING\n",
    "\tSUM(products_stores.price) > 1000;\n"
   ]
  },
  {
   "cell_type": "markdown",
   "metadata": {},
   "source": [
    "## Объединение запросов\n"
   ]
  },
  {
   "cell_type": "markdown",
   "metadata": {},
   "source": [
    "Операторы UNION (англ. «слияние») и UNION ALL (англ. «слияние всех») «склеивают» данные из таблиц. Синтаксис операторов выглядит так:"
   ]
  },
  {
   "cell_type": "code",
   "execution_count": null,
   "metadata": {},
   "outputs": [],
   "source": [
    "SELECT \n",
    "    название_столбца_1  \n",
    "FROM \n",
    "    таблица_1\n",
    "UNION --( или UNION ALL)\n",
    "SELECT \n",
    "    название_столбца_1  \n",
    "FROM \n",
    "    таблица_2;"
   ]
  },
  {
   "cell_type": "markdown",
   "metadata": {},
   "source": [
    "UNION «склеивает» данные так, что дублирующиеся строки не попадают в результат.\n"
   ]
  },
  {
   "cell_type": "code",
   "execution_count": 17,
   "metadata": {},
   "outputs": [
    {
     "data": {
      "text/html": [
       "<img src=\"https://pictures.s3.yandex.net/resources/a_union_b_1566639708.jpg\"/>"
      ],
      "text/plain": [
       "<IPython.core.display.Image object>"
      ]
     },
     "execution_count": 17,
     "metadata": {},
     "output_type": "execute_result"
    }
   ],
   "source": [
    "from IPython.display import Image\n",
    "from IPython.core.display import HTML \n",
    "Image(url= \"https://pictures.s3.yandex.net/resources/a_union_b_1566639708.jpg\")"
   ]
  },
  {
   "cell_type": "markdown",
   "metadata": {},
   "source": [
    "В отличие от UNION, UNION ALL оставляет дубликаты в результирующем наборе. Он годится, когда мы точно знаем, что пересечений в объединяемых таблицах нет, или когда дубликаты нам нужны.\n"
   ]
  },
  {
   "cell_type": "code",
   "execution_count": 18,
   "metadata": {},
   "outputs": [
    {
     "data": {
      "text/html": [
       "<img src=\"https://pictures.s3.yandex.net/resources/a_union_all_b_1566640118.jpg\"/>"
      ],
      "text/plain": [
       "<IPython.core.display.Image object>"
      ]
     },
     "execution_count": 18,
     "metadata": {},
     "output_type": "execute_result"
    }
   ],
   "source": [
    "from IPython.display import Image\n",
    "from IPython.core.display import HTML \n",
    "Image(url= \"https://pictures.s3.yandex.net/resources/a_union_all_b_1566640118.jpg\")"
   ]
  },
  {
   "cell_type": "code",
   "execution_count": null,
   "metadata": {},
   "outputs": [],
   "source": []
  }
 ],
 "metadata": {
  "kernelspec": {
   "display_name": "Python 3",
   "language": "python",
   "name": "python3"
  },
  "language_info": {
   "codemirror_mode": {
    "name": "ipython",
    "version": 3
   },
   "file_extension": ".py",
   "mimetype": "text/x-python",
   "name": "python",
   "nbconvert_exporter": "python",
   "pygments_lexer": "ipython3",
   "version": "3.7.3"
  }
 },
 "nbformat": 4,
 "nbformat_minor": 2
}
